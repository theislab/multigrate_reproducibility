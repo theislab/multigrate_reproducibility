{
 "cells": [
  {
   "cell_type": "code",
   "execution_count": 1,
   "id": "6bbab793-213f-4a67-b15b-30068e929faf",
   "metadata": {},
   "outputs": [],
   "source": [
    "x=1"
   ]
  },
  {
   "cell_type": "code",
   "execution_count": 2,
   "id": "4af57455",
   "metadata": {},
   "outputs": [],
   "source": [
    "import warnings\n",
    "warnings.simplefilter(action='ignore', category=FutureWarning)\n",
    "\n",
    "import random\n",
    "import numpy as np\n",
    "import pandas as pd\n",
    "import scanpy as sc\n",
    "import seaborn as sns\n",
    "from matplotlib import pyplot as plt\n",
    "\n",
    "# DPI = 300\n",
    "random.seed(123)"
   ]
  },
  {
   "cell_type": "code",
   "execution_count": 3,
   "id": "51f34854",
   "metadata": {},
   "outputs": [],
   "source": [
    "df_hao = pd.read_csv('csv/all_metrics_hao.csv', index_col=0)\n",
    "df_10x = pd.read_csv('csv/all_metrics_10x.csv', index_col=0)\n",
    "df_neurips_cite = pd.read_csv('csv/all_metrics_neurips_cite.csv', index_col=0)\n",
    "df_neurips_multiome = pd.read_csv('csv/all_metrics_neurips_multiome.csv', index_col=0)"
   ]
  },
  {
   "cell_type": "code",
   "execution_count": 4,
   "id": "bcf986ba",
   "metadata": {},
   "outputs": [
    {
     "data": {
      "text/html": [
       "<div>\n",
       "<style scoped>\n",
       "    .dataframe tbody tr th:only-of-type {\n",
       "        vertical-align: middle;\n",
       "    }\n",
       "\n",
       "    .dataframe tbody tr th {\n",
       "        vertical-align: top;\n",
       "    }\n",
       "\n",
       "    .dataframe thead th {\n",
       "        text-align: right;\n",
       "    }\n",
       "</style>\n",
       "<table border=\"1\" class=\"dataframe\">\n",
       "  <thead>\n",
       "    <tr style=\"text-align: right;\">\n",
       "      <th></th>\n",
       "      <th>Multigrate</th>\n",
       "      <th>totalVI</th>\n",
       "      <th>Seurat WNN</th>\n",
       "      <th>MOFA+</th>\n",
       "      <th>multiVI</th>\n",
       "    </tr>\n",
       "  </thead>\n",
       "  <tbody>\n",
       "    <tr>\n",
       "      <th>Total</th>\n",
       "      <td>0.808317</td>\n",
       "      <td>0.784650</td>\n",
       "      <td>0.778162</td>\n",
       "      <td>0.722919</td>\n",
       "      <td>NaN</td>\n",
       "    </tr>\n",
       "    <tr>\n",
       "      <th>Total</th>\n",
       "      <td>0.739327</td>\n",
       "      <td>NaN</td>\n",
       "      <td>0.723973</td>\n",
       "      <td>0.714148</td>\n",
       "      <td>0.718981</td>\n",
       "    </tr>\n",
       "    <tr>\n",
       "      <th>Total</th>\n",
       "      <td>0.763309</td>\n",
       "      <td>0.776807</td>\n",
       "      <td>0.714665</td>\n",
       "      <td>0.657749</td>\n",
       "      <td>NaN</td>\n",
       "    </tr>\n",
       "    <tr>\n",
       "      <th>Total</th>\n",
       "      <td>0.780196</td>\n",
       "      <td>NaN</td>\n",
       "      <td>0.761807</td>\n",
       "      <td>0.647843</td>\n",
       "      <td>0.765566</td>\n",
       "    </tr>\n",
       "  </tbody>\n",
       "</table>\n",
       "</div>"
      ],
      "text/plain": [
       "       Multigrate   totalVI  Seurat WNN     MOFA+   multiVI\n",
       "Total    0.808317  0.784650    0.778162  0.722919       NaN\n",
       "Total    0.739327       NaN    0.723973  0.714148  0.718981\n",
       "Total    0.763309  0.776807    0.714665  0.657749       NaN\n",
       "Total    0.780196       NaN    0.761807  0.647843  0.765566"
      ]
     },
     "execution_count": 4,
     "metadata": {},
     "output_type": "execute_result"
    }
   ],
   "source": [
    "df = pd.concat([df_hao['Total'], df_10x['Total'], df_neurips_cite['Total'], df_neurips_multiome['Total']], axis=1)\n",
    "# df.columns = ['Hao 2020\\n (RNA-protein)', '10x (RNA-ATAC)', 'NeurIPS 2021\\n (RNA-protein)', 'NeurIPS 2021\\n (RNA-ATAC)']\n",
    "df = df.T\n",
    "df"
   ]
  },
  {
   "cell_type": "code",
   "execution_count": 5,
   "id": "0412c421",
   "metadata": {},
   "outputs": [
    {
     "data": {
      "text/html": [
       "<div>\n",
       "<style scoped>\n",
       "    .dataframe tbody tr th:only-of-type {\n",
       "        vertical-align: middle;\n",
       "    }\n",
       "\n",
       "    .dataframe tbody tr th {\n",
       "        vertical-align: top;\n",
       "    }\n",
       "\n",
       "    .dataframe thead th {\n",
       "        text-align: right;\n",
       "    }\n",
       "</style>\n",
       "<table border=\"1\" class=\"dataframe\">\n",
       "  <thead>\n",
       "    <tr style=\"text-align: right;\">\n",
       "      <th></th>\n",
       "      <th>Multigrate</th>\n",
       "      <th>totalVI</th>\n",
       "      <th>Seurat WNN</th>\n",
       "      <th>multiVI</th>\n",
       "      <th>MOFA+</th>\n",
       "    </tr>\n",
       "  </thead>\n",
       "  <tbody>\n",
       "    <tr>\n",
       "      <th>Hao 2020\\n (RNA-protein)</th>\n",
       "      <td>0.808317</td>\n",
       "      <td>0.784650</td>\n",
       "      <td>0.778162</td>\n",
       "      <td>NaN</td>\n",
       "      <td>0.722919</td>\n",
       "    </tr>\n",
       "    <tr>\n",
       "      <th>10x (RNA-ATAC)</th>\n",
       "      <td>0.739327</td>\n",
       "      <td>NaN</td>\n",
       "      <td>0.723973</td>\n",
       "      <td>0.718981</td>\n",
       "      <td>0.714148</td>\n",
       "    </tr>\n",
       "    <tr>\n",
       "      <th>NeurIPS 2021\\n (RNA-protein)</th>\n",
       "      <td>0.763309</td>\n",
       "      <td>0.776807</td>\n",
       "      <td>0.714665</td>\n",
       "      <td>NaN</td>\n",
       "      <td>0.657749</td>\n",
       "    </tr>\n",
       "    <tr>\n",
       "      <th>NeurIPS 2021\\n (RNA-ATAC)</th>\n",
       "      <td>0.780196</td>\n",
       "      <td>NaN</td>\n",
       "      <td>0.761807</td>\n",
       "      <td>0.765566</td>\n",
       "      <td>0.647843</td>\n",
       "    </tr>\n",
       "  </tbody>\n",
       "</table>\n",
       "</div>"
      ],
      "text/plain": [
       "                              Multigrate   totalVI  Seurat WNN   multiVI  \\\n",
       "Hao 2020\\n (RNA-protein)        0.808317  0.784650    0.778162       NaN   \n",
       "10x (RNA-ATAC)                  0.739327       NaN    0.723973  0.718981   \n",
       "NeurIPS 2021\\n (RNA-protein)    0.763309  0.776807    0.714665       NaN   \n",
       "NeurIPS 2021\\n (RNA-ATAC)       0.780196       NaN    0.761807  0.765566   \n",
       "\n",
       "                                 MOFA+  \n",
       "Hao 2020\\n (RNA-protein)      0.722919  \n",
       "10x (RNA-ATAC)                0.714148  \n",
       "NeurIPS 2021\\n (RNA-protein)  0.657749  \n",
       "NeurIPS 2021\\n (RNA-ATAC)     0.647843  "
      ]
     },
     "execution_count": 5,
     "metadata": {},
     "output_type": "execute_result"
    }
   ],
   "source": [
    "df = df[['Multigrate', 'totalVI',  'Seurat WNN', 'multiVI', 'MOFA+']]\n",
    "df.index = ['Hao 2020\\n (RNA-protein)', '10x (RNA-ATAC)', 'NeurIPS 2021\\n (RNA-protein)', 'NeurIPS 2021\\n (RNA-ATAC)']\n",
    "df"
   ]
  },
  {
   "cell_type": "code",
   "execution_count": 6,
   "id": "2b18e678",
   "metadata": {},
   "outputs": [],
   "source": [
    "palette=[\"black\", \"#a6dcef\", \"red\", \"#00a8cc\", \"gray\"]"
   ]
  },
  {
   "cell_type": "code",
   "execution_count": 7,
   "id": "15c8b448-e0c6-4133-a117-8bcde5126926",
   "metadata": {},
   "outputs": [],
   "source": [
    "colors = {\"Multigrate\": \"black\", \"totalVI\": \"#a6dcef\", \"Seurat WNN\": \"red\", \"MOFA+\": \"#00a8cc\", \"multiVI\": \"gray\"}"
   ]
  },
  {
   "cell_type": "code",
   "execution_count": 8,
   "id": "e3980ac9-cf1b-4622-a540-72d30ce2d019",
   "metadata": {},
   "outputs": [
    {
     "data": {
      "image/png": "[encoded data removed]",
      "text/plain": [
       "<Figure size 640x480 with 1 Axes>"
      ]
     },
     "metadata": {},
     "output_type": "display_data"
    }
   ],
   "source": [
    "ax = plt.gca()\n",
    "\n",
    "# width of bars\n",
    "width = 1\n",
    "\n",
    "# create emptly lists for x tick positions and names\n",
    "x_ticks, x_ticks_pos = [], []\n",
    "\n",
    "# counter for helping with x tick positions\n",
    "count = 0\n",
    "\n",
    "# reset the index\n",
    "# so that we can iterate through the numbers.\n",
    "# this will help us to get the x tick positions\n",
    "df = df.reset_index()\n",
    "# go through each row of the dataframe\n",
    "for idx, row in df.iterrows():\n",
    "    # this will be the first bar position for this row\n",
    "    count += 1\n",
    "    # this will be the start of the first bar for this row\n",
    "    start_idx = count - width / 2\n",
    "    # this will be the end of the last bar for this row\n",
    "    end_idx = start_idx\n",
    "    # for each column in the wanted columns,\n",
    "    # if the row is not null,\n",
    "    # add the bar to the plot\n",
    "    # also update the end position of the bars for this row\n",
    "    for column in df.drop([\"index\"], axis=1).columns:\n",
    "        if row[column] == row[column]:\n",
    "            plt.bar(count, row[column], color=colors[column], width=width, label=column)\n",
    "            count += 1\n",
    "            end_idx += width\n",
    "    # this checks if the row had any not NULL value in the desired columns\n",
    "    # in other words, it checks if there was any bar for this row\n",
    "    # if yes, add the center of all the row's bars and the row's name (A,B,C) to the respective lists\n",
    "    if end_idx != start_idx:\n",
    "        x_ticks_pos.append((end_idx + start_idx) / 2)\n",
    "        x_ticks.append(row[\"index\"])\n",
    "    count += 0.5\n",
    "\n",
    "# now set the x_ticks\n",
    "x_ticks_pos = [1.5, 8, 13.5, 19] # otherwise weird\n",
    "plt.xticks(x_ticks_pos, x_ticks)\n",
    "# also plot the legends\n",
    "# and make sure to not display duplicate labels\n",
    "# the below code is taken from:\n",
    "# https://stackoverflow.com/questions/13588920/stop-matplotlib-repeating-labels-in-legend\n",
    "handles, labels = plt.gca().get_legend_handles_labels()\n",
    "by_label = dict(zip(labels, handles))\n",
    "plt.legend(by_label.values(), by_label.keys(), bbox_to_anchor=(1.05, 0.95))\n",
    "plt.ylim(0, 0.9)\n",
    "plt.savefig('figures/bar_overall_scib.svg', bbox_inches='tight')\n",
    "\n",
    "plt.show()"
   ]
  },
  {
   "cell_type": "code",
   "execution_count": null,
   "id": "373d6fef",
   "metadata": {},
   "outputs": [],
   "source": []
  }
 ],
 "metadata": {
  "kernelspec": {
   "display_name": "sc",
   "language": "python",
   "name": "python3"
  },
  "language_info": {
   "codemirror_mode": {
    "name": "ipython",
    "version": 3
   },
   "file_extension": ".py",
   "mimetype": "text/x-python",
   "name": "python",
   "nbconvert_exporter": "python",
   "pygments_lexer": "ipython3",
   "version": "3.10.13"
  }
 },
 "nbformat": 4,
 "nbformat_minor": 5
}
