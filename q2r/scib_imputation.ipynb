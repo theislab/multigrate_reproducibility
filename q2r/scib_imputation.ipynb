{
 "cells": [
  {
   "cell_type": "code",
   "execution_count": 1,
   "metadata": {},
   "outputs": [],
   "source": [
    "x=1"
   ]
  },
  {
   "cell_type": "code",
   "execution_count": 6,
   "metadata": {},
   "outputs": [],
   "source": [
    "import scanpy as sc\n",
    "import scib\n",
    "import pandas as pd"
   ]
  },
  {
   "cell_type": "code",
   "execution_count": 4,
   "metadata": {},
   "outputs": [
    {
     "data": {
      "text/plain": [
       "AnnData object with n_obs × n_vars = 16311 × 2000\n",
       "    obs: 'GEX_n_genes_by_counts', 'GEX_pct_counts_mt', 'GEX_size_factors', 'GEX_phase', 'ADT_n_antibodies_by_counts', 'ADT_total_counts', 'ADT_iso_count', 'cell_type', 'batch', 'ADT_pseudotime_order', 'GEX_pseudotime_order', 'Samplename', 'Site', 'DonorNumber', 'Modality', 'VendorLot', 'DonorID', 'DonorAge', 'DonorBMI', 'DonorBloodType', 'DonorRace', 'Ethnicity', 'DonorGender', 'QCMeds', 'DonorSmoker', 'is_train', 'split', 'group', 'size_factors', '_scvi_batch'\n",
       "    var: 'modality'\n",
       "    uns: '_scvi_manager_uuid', '_scvi_uuid', 'batch_colors', 'cell_type_colors', 'modality_lengths', 'neighbors', 'pca', 'umap'\n",
       "    obsm: 'X_multiMIL', 'X_pca', 'X_umap', '_scvi_extra_categorical_covs', 'imputed_modality_0', 'imputed_modality_1'\n",
       "    varm: 'PCs'\n",
       "    obsp: 'connectivities', 'distances'"
      ]
     },
     "execution_count": 4,
     "metadata": {},
     "output_type": "execute_result"
    }
   ],
   "source": [
    "adata_rna = sc.read('data/rna_test.h5ad')\n",
    "adata_rna"
   ]
  },
  {
   "cell_type": "code",
   "execution_count": 5,
   "metadata": {},
   "outputs": [
    {
     "name": "stderr",
     "output_type": "stream",
     "text": [
      "/lustre/groups/ml01/workspace/anastasia.litinetskaya/mambaforge/envs/scib/lib/python3.10/site-packages/anndata/_core/anndata.py:1832: UserWarning: Variable names are not unique. To make them unique, call `.var_names_make_unique`.\n",
      "  utils.warn_names_duplicates(\"var\")\n"
     ]
    },
    {
     "data": {
      "text/plain": [
       "AnnData object with n_obs × n_vars = 16311 × 100\n",
       "    obs: 'GEX_n_genes_by_counts', 'GEX_pct_counts_mt', 'GEX_size_factors', 'GEX_phase', 'ADT_n_antibodies_by_counts', 'ADT_total_counts', 'ADT_iso_count', 'cell_type', 'batch', 'ADT_pseudotime_order', 'GEX_pseudotime_order', 'Samplename', 'Site', 'DonorNumber', 'Modality', 'VendorLot', 'DonorID', 'DonorAge', 'DonorBMI', 'DonorBloodType', 'DonorRace', 'Ethnicity', 'DonorGender', 'QCMeds', 'DonorSmoker', 'is_train', 'split', 'group', 'size_factors', '_scvi_batch'\n",
       "    var: 'mean', 'std'\n",
       "    uns: 'batch_colors', 'cell_type_colors', 'neighbors', 'pca', 'umap'\n",
       "    obsm: 'X_pca', 'X_umap'\n",
       "    varm: 'PCs'\n",
       "    obsp: 'connectivities', 'distances'"
      ]
     },
     "execution_count": 5,
     "metadata": {},
     "output_type": "execute_result"
    }
   ],
   "source": [
    "adata_rna_adt = sc.read('data/rna_imputed_adt_test.h5ad')\n",
    "adata_rna_adt"
   ]
  },
  {
   "cell_type": "code",
   "execution_count": 9,
   "metadata": {},
   "outputs": [],
   "source": [
    "def calc_scib_bio(adata, label_key, batch_key, save_prefix):\n",
    "    metrics_df = {}\n",
    "    print('optimal res')\n",
    "    scib.metrics.cluster_optimal_resolution(\n",
    "            adata,\n",
    "            label_key=label_key,\n",
    "            cluster_key='cluster',\n",
    "            use_rep='X_pca',\n",
    "        )\n",
    "    print('ari')\n",
    "    metrics_df['ARI'] = scib.metrics.ari(adata, cluster_key='cluster', label_key=label_key)\n",
    "    print('nmi')\n",
    "    metrics_df['NMI'] = scib.metrics.nmi(adata, cluster_key='cluster', label_key=label_key)\n",
    "    print('iso label asw')\n",
    "    metrics_df['Isolated label score ASW'] = scib.metrics.isolated_labels_asw(\n",
    "            adata, \n",
    "            label_key = label_key, \n",
    "            batch_key = batch_key, \n",
    "            embed = 'X_pca',\n",
    "        )\n",
    "    print('label asw')\n",
    "    metrics_df['Label ASW'] = scib.metrics.silhouette(\n",
    "            adata,\n",
    "            label_key = label_key,\n",
    "            embed = 'X_pca',\n",
    "        )\n",
    "    metrics_df = pd.DataFrame.from_dict(metrics_df, orient='index').T\n",
    "    metrics_df.to_csv(f'data/{save_prefix}_scib.csv')\n",
    "    return metrics_df"
   ]
  },
  {
   "cell_type": "code",
   "execution_count": 10,
   "metadata": {},
   "outputs": [
    {
     "name": "stdout",
     "output_type": "stream",
     "text": [
      "optimal res\n",
      "Compute neighbors on rep X_pca\n"
     ]
    },
    {
     "name": "stderr",
     "output_type": "stream",
     "text": [
      "/lustre/groups/ml01/workspace/anastasia.litinetskaya/mambaforge/envs/scib/lib/python3.10/site-packages/umap/distances.py:1063: NumbaDeprecationWarning: The 'nopython' keyword argument was not supplied to the 'numba.jit' decorator. The implicit default value for this argument is currently False, but it will be changed to True in Numba 0.59.0. See https://numba.readthedocs.io/en/stable/reference/deprecation.html#deprecation-of-object-mode-fall-back-behaviour-when-using-jit for details.\n",
      "  @numba.jit()\n",
      "/lustre/groups/ml01/workspace/anastasia.litinetskaya/mambaforge/envs/scib/lib/python3.10/site-packages/umap/distances.py:1071: NumbaDeprecationWarning: The 'nopython' keyword argument was not supplied to the 'numba.jit' decorator. The implicit default value for this argument is currently False, but it will be changed to True in Numba 0.59.0. See https://numba.readthedocs.io/en/stable/reference/deprecation.html#deprecation-of-object-mode-fall-back-behaviour-when-using-jit for details.\n",
      "  @numba.jit()\n",
      "/lustre/groups/ml01/workspace/anastasia.litinetskaya/mambaforge/envs/scib/lib/python3.10/site-packages/umap/distances.py:1086: NumbaDeprecationWarning: The 'nopython' keyword argument was not supplied to the 'numba.jit' decorator. The implicit default value for this argument is currently False, but it will be changed to True in Numba 0.59.0. See https://numba.readthedocs.io/en/stable/reference/deprecation.html#deprecation-of-object-mode-fall-back-behaviour-when-using-jit for details.\n",
      "  @numba.jit()\n",
      "/lustre/groups/ml01/workspace/anastasia.litinetskaya/mambaforge/envs/scib/lib/python3.10/site-packages/tqdm/auto.py:21: TqdmWarning: IProgress not found. Please update jupyter and ipywidgets. See https://ipywidgets.readthedocs.io/en/stable/user_install.html\n",
      "  from .autonotebook import tqdm as notebook_tqdm\n",
      "/lustre/groups/ml01/workspace/anastasia.litinetskaya/mambaforge/envs/scib/lib/python3.10/site-packages/umap/umap_.py:660: NumbaDeprecationWarning: The 'nopython' keyword argument was not supplied to the 'numba.jit' decorator. The implicit default value for this argument is currently False, but it will be changed to True in Numba 0.59.0. See https://numba.readthedocs.io/en/stable/reference/deprecation.html#deprecation-of-object-mode-fall-back-behaviour-when-using-jit for details.\n",
      "  @numba.jit()\n"
     ]
    },
    {
     "name": "stdout",
     "output_type": "stream",
     "text": [
      "resolution: 0.1, nmi: 0.40217128732526014\n",
      "resolution: 0.2, nmi: 0.4610956468335538\n",
      "resolution: 0.3, nmi: 0.5123052568505697\n",
      "resolution: 0.4, nmi: 0.6168900961851799\n",
      "resolution: 0.5, nmi: 0.6185099034375062\n",
      "resolution: 0.6, nmi: 0.6375330153526179\n",
      "resolution: 0.7, nmi: 0.636849738551705\n",
      "resolution: 0.8, nmi: 0.6382967204864336\n",
      "resolution: 0.9, nmi: 0.6260504805249003\n",
      "resolution: 1.0, nmi: 0.6270031748699694\n",
      "resolution: 1.1, nmi: 0.6158506649045351\n",
      "resolution: 1.2, nmi: 0.6192075537145854\n",
      "resolution: 1.3, nmi: 0.613336707229912\n",
      "resolution: 1.4, nmi: 0.6038627618147713\n",
      "resolution: 1.5, nmi: 0.5851578651892505\n",
      "resolution: 1.6, nmi: 0.5870842226756479\n",
      "resolution: 1.7, nmi: 0.5677183621219855\n",
      "resolution: 1.8, nmi: 0.5656447821014794\n",
      "resolution: 1.9, nmi: 0.5694043936177062\n",
      "resolution: 2.0, nmi: 0.5632534148993832\n",
      "optimised clustering against cell_type\n",
      "optimal cluster resolution: 0.8\n",
      "optimal score: 0.6382967204864336\n",
      "ari\n",
      "nmi\n",
      "iso label asw\n",
      "isolated labels: no more than 1 batches per label\n",
      "B1 B IGKC+: 0.44212983176112175\n",
      "B1 B IGKC-: 0.43502485007047653\n",
      "CD4+ T CD314+ CD45RA+: 0.45070311799645424\n",
      "CD4+ T activated: 0.4235502704977989\n",
      "CD4+ T activated integrinB7+: 0.4145241007208824\n",
      "CD4+ T naive: 0.4561265893280506\n",
      "CD8+ T CD49f+: 0.42605894804000854\n",
      "CD8+ T CD57+ CD45RA+: 0.43887342140078545\n",
      "CD8+ T CD57+ CD45RO+: 0.44809987396001816\n",
      "CD8+ T CD69+ CD45RA+: 0.41967934370040894\n",
      "CD8+ T CD69+ CD45RO+: 0.43293875455856323\n",
      "CD8+ T TIGIT+ CD45RA+: 0.40880804508924484\n",
      "CD8+ T TIGIT+ CD45RO+: 0.44443944469094276\n",
      "CD8+ T naive: 0.4528624750673771\n",
      "CD8+ T naive CD127+ CD26- CD101-: 0.4277708902955055\n",
      "CD14+ Mono: 0.37309108674526215\n",
      "CD16+ Mono: 0.43887661024928093\n",
      "Erythroblast: 0.40850818157196045\n",
      "G/M prog: 0.3750705048441887\n",
      "HSC: 0.4058042913675308\n",
      "ILC: 0.6624679416418076\n",
      "ILC1: 0.41224973648786545\n",
      "Lymph prog: 0.37979279458522797\n",
      "MAIT: 0.43427038937807083\n",
      "MK/E prog: 0.4225502014160156\n",
      "NK: 0.43507741391658783\n",
      "NK CD158e1+: 0.4111519530415535\n",
      "Naive CD20+ B IGKC+: 0.4763401113450527\n",
      "Naive CD20+ B IGKC-: 0.48090302012860775\n",
      "Normoblast: 0.49979914212599397\n",
      "Plasma cell IGKC+: 0.451225683093071\n",
      "Plasma cell IGKC-: 0.4870856823399663\n",
      "Plasmablast IGKC+: 0.33966879546642303\n",
      "Plasmablast IGKC-: 0.38635896891355515\n",
      "Proerythroblast: 0.3930325359106064\n",
      "Reticulocyte: 0.5788874998688698\n",
      "T reg: 0.4039550647139549\n",
      "Transitional B: 0.4684147387742996\n",
      "cDC2: 0.394937127828598\n",
      "dnT: 0.46350938081741333\n",
      "gdT CD158b+: 0.4261758252978325\n",
      "gdT TCRVD2+: 0.42523106932640076\n",
      "pDC: 0.47139851190149784\n",
      "label asw\n"
     ]
    },
    {
     "data": {
      "text/html": [
       "<div>\n",
       "<style scoped>\n",
       "    .dataframe tbody tr th:only-of-type {\n",
       "        vertical-align: middle;\n",
       "    }\n",
       "\n",
       "    .dataframe tbody tr th {\n",
       "        vertical-align: top;\n",
       "    }\n",
       "\n",
       "    .dataframe thead th {\n",
       "        text-align: right;\n",
       "    }\n",
       "</style>\n",
       "<table border=\"1\" class=\"dataframe\">\n",
       "  <thead>\n",
       "    <tr style=\"text-align: right;\">\n",
       "      <th></th>\n",
       "      <th>ARI</th>\n",
       "      <th>NMI</th>\n",
       "      <th>Isolated label score ASW</th>\n",
       "      <th>Label ASW</th>\n",
       "    </tr>\n",
       "  </thead>\n",
       "  <tbody>\n",
       "    <tr>\n",
       "      <th>0</th>\n",
       "      <td>0.430066</td>\n",
       "      <td>0.638297</td>\n",
       "      <td>0.437847</td>\n",
       "      <td>0.450256</td>\n",
       "    </tr>\n",
       "  </tbody>\n",
       "</table>\n",
       "</div>"
      ],
      "text/plain": [
       "        ARI       NMI  Isolated label score ASW  Label ASW\n",
       "0  0.430066  0.638297                  0.437847   0.450256"
      ]
     },
     "execution_count": 10,
     "metadata": {},
     "output_type": "execute_result"
    }
   ],
   "source": [
    "calc_scib_bio(adata_rna, 'cell_type', 'Site', 'rna')"
   ]
  },
  {
   "cell_type": "code",
   "execution_count": 11,
   "metadata": {},
   "outputs": [
    {
     "name": "stdout",
     "output_type": "stream",
     "text": [
      "optimal res\n",
      "Compute neighbors on rep X_pca\n",
      "resolution: 0.1, nmi: 0.6390950749805533\n",
      "resolution: 0.2, nmi: 0.6860503544056233\n",
      "resolution: 0.3, nmi: 0.7102328037808016\n",
      "resolution: 0.4, nmi: 0.713122053175453\n",
      "resolution: 0.5, nmi: 0.7364287033056295\n",
      "resolution: 0.6, nmi: 0.7351088955192667\n",
      "resolution: 0.7, nmi: 0.7391229769409786\n",
      "resolution: 0.8, nmi: 0.7409289862043937\n",
      "resolution: 0.9, nmi: 0.7400828273312824\n",
      "resolution: 1.0, nmi: 0.743198542660816\n",
      "resolution: 1.1, nmi: 0.7513175572723918\n",
      "resolution: 1.2, nmi: 0.7489268704165555\n",
      "resolution: 1.3, nmi: 0.7534550613466326\n",
      "resolution: 1.4, nmi: 0.7450184268323476\n",
      "resolution: 1.5, nmi: 0.7436514383921544\n",
      "resolution: 1.6, nmi: 0.7366474480817844\n",
      "resolution: 1.7, nmi: 0.7320080304192006\n",
      "resolution: 1.8, nmi: 0.7251407955788208\n",
      "resolution: 1.9, nmi: 0.7172884709103887\n",
      "resolution: 2.0, nmi: 0.7183444713278079\n",
      "optimised clustering against cell_type\n",
      "optimal cluster resolution: 1.3\n",
      "optimal score: 0.7534550613466326\n",
      "ari\n",
      "nmi\n",
      "iso label asw\n",
      "isolated labels: no more than 1 batches per label\n"
     ]
    },
    {
     "name": "stderr",
     "output_type": "stream",
     "text": [
      "/lustre/groups/ml01/workspace/anastasia.litinetskaya/mambaforge/envs/scib/lib/python3.10/site-packages/anndata/_core/anndata.py:1832: UserWarning: Variable names are not unique. To make them unique, call `.var_names_make_unique`.\n",
      "  utils.warn_names_duplicates(\"var\")\n"
     ]
    },
    {
     "name": "stdout",
     "output_type": "stream",
     "text": [
      "B1 B IGKC+: 0.4741788040846586\n",
      "B1 B IGKC-: 0.45553434267640114\n",
      "CD4+ T CD314+ CD45RA+: 0.47943934611976147\n",
      "CD4+ T activated: 0.4597260504961014\n",
      "CD4+ T activated integrinB7+: 0.46860217303037643\n",
      "CD4+ T naive: 0.518356341868639\n",
      "CD8+ T CD49f+: 0.4641518369317055\n",
      "CD8+ T CD57+ CD45RA+: 0.4818329159170389\n",
      "CD8+ T CD57+ CD45RO+: 0.5015910068759695\n",
      "CD8+ T CD69+ CD45RA+: 0.478976609185338\n",
      "CD8+ T CD69+ CD45RO+: 0.5058642197400331\n",
      "CD8+ T TIGIT+ CD45RA+: 0.44211797416210175\n",
      "CD8+ T TIGIT+ CD45RO+: 0.49330122163519263\n",
      "CD8+ T naive: 0.5298582464456558\n",
      "CD8+ T naive CD127+ CD26- CD101-: 0.46455613896250725\n",
      "CD14+ Mono: 0.42415665835142136\n",
      "CD16+ Mono: 0.5094956057146192\n",
      "Erythroblast: 0.49676944175735116\n",
      "G/M prog: 0.4498031549155712\n",
      "HSC: 0.5004907846450806\n",
      "ILC: 0.6431509107351303\n",
      "ILC1: 0.48621919844299555\n",
      "Lymph prog: 0.4815163239836693\n",
      "MAIT: 0.5024184291251004\n",
      "MK/E prog: 0.5017703083576635\n",
      "NK: 0.48680377285927534\n",
      "NK CD158e1+: 0.44642455875873566\n",
      "Naive CD20+ B IGKC+: 0.4928218238055706\n",
      "Naive CD20+ B IGKC-: 0.5066146617755294\n",
      "Normoblast: 0.5758992657065392\n",
      "Plasma cell IGKC+: 0.5788451209664345\n",
      "Plasma cell IGKC-: 0.6126391887664795\n",
      "Plasmablast IGKC+: 0.35214538872241974\n",
      "Plasmablast IGKC-: 0.41480445116758347\n",
      "Proerythroblast: 0.4845145484432578\n",
      "Reticulocyte: 0.702627420425415\n",
      "T reg: 0.46663258969783783\n",
      "Transitional B: 0.5919279381632805\n",
      "cDC2: 0.4638213664293289\n",
      "dnT: 0.49166314862668514\n",
      "gdT CD158b+: 0.4880427364259958\n",
      "gdT TCRVD2+: 0.44672415405511856\n",
      "pDC: 0.6387805193662643\n",
      "label asw\n"
     ]
    },
    {
     "data": {
      "text/html": [
       "<div>\n",
       "<style scoped>\n",
       "    .dataframe tbody tr th:only-of-type {\n",
       "        vertical-align: middle;\n",
       "    }\n",
       "\n",
       "    .dataframe tbody tr th {\n",
       "        vertical-align: top;\n",
       "    }\n",
       "\n",
       "    .dataframe thead th {\n",
       "        text-align: right;\n",
       "    }\n",
       "</style>\n",
       "<table border=\"1\" class=\"dataframe\">\n",
       "  <thead>\n",
       "    <tr style=\"text-align: right;\">\n",
       "      <th></th>\n",
       "      <th>ARI</th>\n",
       "      <th>NMI</th>\n",
       "      <th>Isolated label score ASW</th>\n",
       "      <th>Label ASW</th>\n",
       "    </tr>\n",
       "  </thead>\n",
       "  <tbody>\n",
       "    <tr>\n",
       "      <th>0</th>\n",
       "      <td>0.647761</td>\n",
       "      <td>0.753455</td>\n",
       "      <td>0.498968</td>\n",
       "      <td>0.514313</td>\n",
       "    </tr>\n",
       "  </tbody>\n",
       "</table>\n",
       "</div>"
      ],
      "text/plain": [
       "        ARI       NMI  Isolated label score ASW  Label ASW\n",
       "0  0.647761  0.753455                  0.498968   0.514313"
      ]
     },
     "execution_count": 11,
     "metadata": {},
     "output_type": "execute_result"
    }
   ],
   "source": [
    "calc_scib_bio(adata_rna_adt, 'cell_type', 'Site', 'rna_adt')"
   ]
  },
  {
   "cell_type": "code",
   "execution_count": 1,
   "metadata": {},
   "outputs": [],
   "source": [
    "from matplotlib import pyplot as plt\n",
    "import pandas as pd"
   ]
  },
  {
   "cell_type": "code",
   "execution_count": 2,
   "metadata": {},
   "outputs": [
    {
     "data": {
      "text/html": [
       "<div>\n",
       "<style scoped>\n",
       "    .dataframe tbody tr th:only-of-type {\n",
       "        vertical-align: middle;\n",
       "    }\n",
       "\n",
       "    .dataframe tbody tr th {\n",
       "        vertical-align: top;\n",
       "    }\n",
       "\n",
       "    .dataframe thead th {\n",
       "        text-align: right;\n",
       "    }\n",
       "</style>\n",
       "<table border=\"1\" class=\"dataframe\">\n",
       "  <thead>\n",
       "    <tr style=\"text-align: right;\">\n",
       "      <th></th>\n",
       "      <th>NMI</th>\n",
       "      <th>ARI</th>\n",
       "      <th>Label ASW</th>\n",
       "    </tr>\n",
       "  </thead>\n",
       "  <tbody>\n",
       "    <tr>\n",
       "      <th>RNA + imputed ADT</th>\n",
       "      <td>0.753455</td>\n",
       "      <td>0.647761</td>\n",
       "      <td>0.514313</td>\n",
       "    </tr>\n",
       "    <tr>\n",
       "      <th>RNA</th>\n",
       "      <td>0.638297</td>\n",
       "      <td>0.430066</td>\n",
       "      <td>0.450256</td>\n",
       "    </tr>\n",
       "  </tbody>\n",
       "</table>\n",
       "</div>"
      ],
      "text/plain": [
       "                        NMI       ARI  Label ASW\n",
       "RNA + imputed ADT  0.753455  0.647761   0.514313\n",
       "RNA                0.638297  0.430066   0.450256"
      ]
     },
     "execution_count": 2,
     "metadata": {},
     "output_type": "execute_result"
    }
   ],
   "source": [
    "df = pd.DataFrame({'NMI': [0.753455, 0.638297], 'ARI': [0.647761, 0.430066], 'Label ASW': [0.514313, 0.450256]}, index=['RNA + imputed ADT', 'RNA'])\n",
    "df"
   ]
  },
  {
   "cell_type": "code",
   "execution_count": 3,
   "metadata": {},
   "outputs": [
    {
     "data": {
      "image/png": "[encoded data removed]",
      "text/plain": [
       "<Figure size 640x480 with 1 Axes>"
      ]
     },
     "metadata": {},
     "output_type": "display_data"
    }
   ],
   "source": [
    "# plot and save as svg\n",
    "df.T.plot(kind='bar', colormap='coolwarm')\n",
    "plt.savefig('figures/scib_bio_metrics_rna_vs_rna_imputed_adt.svg', bbox_inches='tight')"
   ]
  },
  {
   "cell_type": "code",
   "execution_count": null,
   "metadata": {},
   "outputs": [],
   "source": []
  }
 ],
 "metadata": {
  "kernelspec": {
   "display_name": "sc",
   "language": "python",
   "name": "python3"
  },
  "language_info": {
   "codemirror_mode": {
    "name": "ipython",
    "version": 3
   },
   "file_extension": ".py",
   "mimetype": "text/x-python",
   "name": "python",
   "nbconvert_exporter": "python",
   "pygments_lexer": "ipython3",
   "version": "3.10.13"
  }
 },
 "nbformat": 4,
 "nbformat_minor": 2
}
