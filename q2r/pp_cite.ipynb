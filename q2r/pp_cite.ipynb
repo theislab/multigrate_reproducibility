{
 "cells": [
  {
   "cell_type": "code",
   "execution_count": 1,
   "metadata": {
    "colab": {
     "base_uri": "https://localhost:8080/"
    },
    "executionInfo": {
     "elapsed": 86782,
     "status": "ok",
     "timestamp": 1721674436252,
     "user": {
      "displayName": "Anastasia Litinetskaya",
      "userId": "11943097021664761537"
     },
     "user_tz": -120
    },
    "id": "wzwjWTU3n-85",
    "outputId": "4e95c49e-401f-4827-e716-97f385a47297"
   },
   "outputs": [],
   "source": [
    "x=1"
   ]
  },
  {
   "cell_type": "code",
   "execution_count": 2,
   "metadata": {
    "colab": {
     "base_uri": "https://localhost:8080/"
    },
    "executionInfo": {
     "elapsed": 36241,
     "status": "ok",
     "timestamp": 1721674472491,
     "user": {
      "displayName": "Anastasia Litinetskaya",
      "userId": "11943097021664761537"
     },
     "user_tz": -120
    },
    "id": "wb4tSiOFojIj",
    "outputId": "be37af59-2e29-4802-d543-3e125d588410"
   },
   "outputs": [
    {
     "name": "stderr",
     "output_type": "stream",
     "text": [
      "[rank: 0] Global seed set to 0\n"
     ]
    }
   ],
   "source": [
    "import anndata as ad\n",
    "import multimil as mtm\n",
    "import muon\n",
    "import scanpy as sc\n",
    "import warnings\n",
    "\n",
    "warnings.filterwarnings(\"ignore\")"
   ]
  },
  {
   "cell_type": "code",
   "execution_count": 9,
   "metadata": {},
   "outputs": [],
   "source": [
    "data_path = \"/lustre/groups/ml01/projects/2022_multigrate_anastasia.litinetskaya/snakemake/trimodal/data/raw/GSE194122_openproblems_neurips2021_cite_BMMC_processed.h5ad\""
   ]
  },
  {
   "cell_type": "code",
   "execution_count": 10,
   "metadata": {
    "colab": {
     "base_uri": "https://localhost:8080/"
    },
    "executionInfo": {
     "elapsed": 40436,
     "status": "ok",
     "timestamp": 1721674512923,
     "user": {
      "displayName": "Anastasia Litinetskaya",
      "userId": "11943097021664761537"
     },
     "user_tz": -120
    },
    "id": "ZdjobsUOuoTg",
    "outputId": "55d52446-d0c1-4580-ca2d-5828afb5c664"
   },
   "outputs": [
    {
     "data": {
      "text/plain": [
       "AnnData object with n_obs × n_vars = 90261 × 14087\n",
       "    obs: 'GEX_n_genes_by_counts', 'GEX_pct_counts_mt', 'GEX_size_factors', 'GEX_phase', 'ADT_n_antibodies_by_counts', 'ADT_total_counts', 'ADT_iso_count', 'cell_type', 'batch', 'ADT_pseudotime_order', 'GEX_pseudotime_order', 'Samplename', 'Site', 'DonorNumber', 'Modality', 'VendorLot', 'DonorID', 'DonorAge', 'DonorBMI', 'DonorBloodType', 'DonorRace', 'Ethnicity', 'DonorGender', 'QCMeds', 'DonorSmoker', 'is_train'\n",
       "    var: 'feature_types', 'gene_id'\n",
       "    uns: 'dataset_id', 'genome', 'organism'\n",
       "    obsm: 'ADT_X_pca', 'ADT_X_umap', 'ADT_isotype_controls', 'GEX_X_pca', 'GEX_X_umap'\n",
       "    layers: 'counts'"
      ]
     },
     "execution_count": 10,
     "metadata": {},
     "output_type": "execute_result"
    }
   ],
   "source": [
    "adata = sc.read_h5ad(data_path)\n",
    "adata"
   ]
  },
  {
   "cell_type": "code",
   "execution_count": 11,
   "metadata": {
    "colab": {
     "base_uri": "https://localhost:8080/"
    },
    "executionInfo": {
     "elapsed": 585,
     "status": "ok",
     "timestamp": 1721674534020,
     "user": {
      "displayName": "Anastasia Litinetskaya",
      "userId": "11943097021664761537"
     },
     "user_tz": -120
    },
    "id": "C0xjq2LRvJOo",
    "outputId": "0c96ef48-9912-4836-c63a-9f46d41fea4e"
   },
   "outputs": [
    {
     "data": {
      "text/plain": [
       "AnnData object with n_obs × n_vars = 90261 × 13953\n",
       "    obs: 'GEX_n_genes_by_counts', 'GEX_pct_counts_mt', 'GEX_size_factors', 'GEX_phase', 'ADT_n_antibodies_by_counts', 'ADT_total_counts', 'ADT_iso_count', 'cell_type', 'batch', 'ADT_pseudotime_order', 'GEX_pseudotime_order', 'Samplename', 'Site', 'DonorNumber', 'Modality', 'VendorLot', 'DonorID', 'DonorAge', 'DonorBMI', 'DonorBloodType', 'DonorRace', 'Ethnicity', 'DonorGender', 'QCMeds', 'DonorSmoker', 'is_train'\n",
       "    var: 'feature_types', 'gene_id'\n",
       "    uns: 'dataset_id', 'genome', 'organism'\n",
       "    obsm: 'ADT_X_pca', 'ADT_X_umap', 'ADT_isotype_controls', 'GEX_X_pca', 'GEX_X_umap'\n",
       "    layers: 'counts'"
      ]
     },
     "execution_count": 11,
     "metadata": {},
     "output_type": "execute_result"
    }
   ],
   "source": [
    "rna = adata[:, adata.var[\"feature_types\"] == \"GEX\"].copy()\n",
    "rna"
   ]
  },
  {
   "cell_type": "code",
   "execution_count": 12,
   "metadata": {
    "colab": {
     "base_uri": "https://localhost:8080/"
    },
    "executionInfo": {
     "elapsed": 488,
     "status": "ok",
     "timestamp": 1721674534505,
     "user": {
      "displayName": "Anastasia Litinetskaya",
      "userId": "11943097021664761537"
     },
     "user_tz": -120
    },
    "id": "kL2CEJmJvLqS",
    "outputId": "9f8408ee-1fb4-42a5-957e-3758136a1972"
   },
   "outputs": [
    {
     "data": {
      "text/plain": [
       "AnnData object with n_obs × n_vars = 90261 × 134\n",
       "    obs: 'GEX_n_genes_by_counts', 'GEX_pct_counts_mt', 'GEX_size_factors', 'GEX_phase', 'ADT_n_antibodies_by_counts', 'ADT_total_counts', 'ADT_iso_count', 'cell_type', 'batch', 'ADT_pseudotime_order', 'GEX_pseudotime_order', 'Samplename', 'Site', 'DonorNumber', 'Modality', 'VendorLot', 'DonorID', 'DonorAge', 'DonorBMI', 'DonorBloodType', 'DonorRace', 'Ethnicity', 'DonorGender', 'QCMeds', 'DonorSmoker', 'is_train'\n",
       "    var: 'feature_types', 'gene_id'\n",
       "    uns: 'dataset_id', 'genome', 'organism'\n",
       "    obsm: 'ADT_X_pca', 'ADT_X_umap', 'ADT_isotype_controls', 'GEX_X_pca', 'GEX_X_umap'\n",
       "    layers: 'counts'"
      ]
     },
     "execution_count": 12,
     "metadata": {},
     "output_type": "execute_result"
    }
   ],
   "source": [
    "adt = adata[:, adata.var[\"feature_types\"] == \"ADT\"].copy()\n",
    "adt"
   ]
  },
  {
   "cell_type": "code",
   "execution_count": 13,
   "metadata": {
    "executionInfo": {
     "elapsed": 4,
     "status": "ok",
     "timestamp": 1721674534506,
     "user": {
      "displayName": "Anastasia Litinetskaya",
      "userId": "11943097021664761537"
     },
     "user_tz": -120
    },
    "id": "ocVLM3p9wn4K"
   },
   "outputs": [],
   "source": [
    "# to free memory\n",
    "del adata"
   ]
  },
  {
   "cell_type": "code",
   "execution_count": 14,
   "metadata": {
    "executionInfo": {
     "elapsed": 3,
     "status": "ok",
     "timestamp": 1721674534506,
     "user": {
      "displayName": "Anastasia Litinetskaya",
      "userId": "11943097021664761537"
     },
     "user_tz": -120
    },
    "id": "CXkQRDS0vMpJ"
   },
   "outputs": [],
   "source": [
    "rna.X = rna.layers[\"counts\"].copy()"
   ]
  },
  {
   "cell_type": "code",
   "execution_count": 15,
   "metadata": {
    "executionInfo": {
     "elapsed": 3,
     "status": "ok",
     "timestamp": 1721674534506,
     "user": {
      "displayName": "Anastasia Litinetskaya",
      "userId": "11943097021664761537"
     },
     "user_tz": -120
    },
    "id": "FCScBsvbvPGv"
   },
   "outputs": [],
   "source": [
    "sc.pp.normalize_total(rna, target_sum=1e4)\n",
    "sc.pp.log1p(rna)"
   ]
  },
  {
   "cell_type": "code",
   "execution_count": 16,
   "metadata": {
    "executionInfo": {
     "elapsed": 3,
     "status": "ok",
     "timestamp": 1721674533437,
     "user": {
      "displayName": "Anastasia Litinetskaya",
      "userId": "11943097021664761537"
     },
     "user_tz": -120
    },
    "id": "vYqI162fvb7p"
   },
   "outputs": [],
   "source": [
    "n_top_genes = 2000\n",
    "batch_key = \"Site\""
   ]
  },
  {
   "cell_type": "code",
   "execution_count": 17,
   "metadata": {
    "colab": {
     "base_uri": "https://localhost:8080/"
    },
    "executionInfo": {
     "elapsed": 4256,
     "status": "ok",
     "timestamp": 1721674538759,
     "user": {
      "displayName": "Anastasia Litinetskaya",
      "userId": "11943097021664761537"
     },
     "user_tz": -120
    },
    "id": "_E0OiFzVvQsa",
    "outputId": "be749dc2-e27f-4fc2-a32b-d3df42a1d986"
   },
   "outputs": [
    {
     "data": {
      "text/plain": [
       "AnnData object with n_obs × n_vars = 90261 × 2000\n",
       "    obs: 'GEX_n_genes_by_counts', 'GEX_pct_counts_mt', 'GEX_size_factors', 'GEX_phase', 'ADT_n_antibodies_by_counts', 'ADT_total_counts', 'ADT_iso_count', 'cell_type', 'batch', 'ADT_pseudotime_order', 'GEX_pseudotime_order', 'Samplename', 'Site', 'DonorNumber', 'Modality', 'VendorLot', 'DonorID', 'DonorAge', 'DonorBMI', 'DonorBloodType', 'DonorRace', 'Ethnicity', 'DonorGender', 'QCMeds', 'DonorSmoker', 'is_train'\n",
       "    var: 'feature_types', 'gene_id', 'highly_variable', 'means', 'dispersions', 'dispersions_norm', 'highly_variable_nbatches', 'highly_variable_intersection'\n",
       "    uns: 'dataset_id', 'genome', 'organism', 'log1p', 'hvg'\n",
       "    obsm: 'ADT_X_pca', 'ADT_X_umap', 'ADT_isotype_controls', 'GEX_X_pca', 'GEX_X_umap'\n",
       "    layers: 'counts'"
      ]
     },
     "execution_count": 17,
     "metadata": {},
     "output_type": "execute_result"
    }
   ],
   "source": [
    "sc.pp.highly_variable_genes(rna, n_top_genes=n_top_genes, batch_key=batch_key, subset=True)\n",
    "rna"
   ]
  },
  {
   "cell_type": "code",
   "execution_count": 18,
   "metadata": {},
   "outputs": [],
   "source": [
    "rna.X = rna.layers['counts'].copy()"
   ]
  },
  {
   "cell_type": "code",
   "execution_count": 19,
   "metadata": {
    "executionInfo": {
     "elapsed": 17,
     "status": "ok",
     "timestamp": 1721674538759,
     "user": {
      "displayName": "Anastasia Litinetskaya",
      "userId": "11943097021664761537"
     },
     "user_tz": -120
    },
    "id": "ACSyIshKvaDq"
   },
   "outputs": [],
   "source": [
    "adt.X = adt.layers[\"counts\"].copy()"
   ]
  },
  {
   "cell_type": "code",
   "execution_count": 20,
   "metadata": {
    "executionInfo": {
     "elapsed": 16,
     "status": "ok",
     "timestamp": 1721674538760,
     "user": {
      "displayName": "Anastasia Litinetskaya",
      "userId": "11943097021664761537"
     },
     "user_tz": -120
    },
    "id": "9Kxnu5brvrhY"
   },
   "outputs": [],
   "source": [
    "muon.prot.pp.clr(adt)\n",
    "adt.layers[\"clr\"] = adt.X.copy()"
   ]
  },
  {
   "cell_type": "code",
   "execution_count": 21,
   "metadata": {},
   "outputs": [
    {
     "data": {
      "text/plain": [
       "GCATTAGCATAAGCGG-1-s1d1     test\n",
       "TACAGGTGTTAGAGTA-1-s1d1     test\n",
       "AGGATCTAGGTCTACT-1-s1d1     test\n",
       "GTAGAAAGTGACACAG-1-s1d1     test\n",
       "TCCGAAAAGGATCATA-1-s1d1     test\n",
       "                           ...  \n",
       "GAATCACCACGGAAGT-1-s4d9    train\n",
       "GCTGGGTGTACGGATG-1-s4d9    train\n",
       "TCGAAGTGTGACAGGT-1-s4d9    train\n",
       "GCAGGCTGTTGCATAC-1-s4d9    train\n",
       "ACGTAACAGGTCTACT-1-s4d9    train\n",
       "Name: split, Length: 90261, dtype: object"
      ]
     },
     "execution_count": 21,
     "metadata": {},
     "output_type": "execute_result"
    }
   ],
   "source": [
    "rna.obs['split'] = 'train'\n",
    "rna.obs.loc[rna.obs[batch_key] == \"site1\", 'split'] = 'test'\n",
    "rna.obs['split']"
   ]
  },
  {
   "cell_type": "code",
   "execution_count": 22,
   "metadata": {},
   "outputs": [
    {
     "data": {
      "text/plain": [
       "GCATTAGCATAAGCGG-1-s1d1     test\n",
       "TACAGGTGTTAGAGTA-1-s1d1     test\n",
       "AGGATCTAGGTCTACT-1-s1d1     test\n",
       "GTAGAAAGTGACACAG-1-s1d1     test\n",
       "TCCGAAAAGGATCATA-1-s1d1     test\n",
       "                           ...  \n",
       "GAATCACCACGGAAGT-1-s4d9    train\n",
       "GCTGGGTGTACGGATG-1-s4d9    train\n",
       "TCGAAGTGTGACAGGT-1-s4d9    train\n",
       "GCAGGCTGTTGCATAC-1-s4d9    train\n",
       "ACGTAACAGGTCTACT-1-s4d9    train\n",
       "Name: split, Length: 90261, dtype: object"
      ]
     },
     "execution_count": 22,
     "metadata": {},
     "output_type": "execute_result"
    }
   ],
   "source": [
    "adt.obs = adt.obs.join(rna.obs['split'])\n",
    "adt.obs['split']"
   ]
  },
  {
   "cell_type": "code",
   "execution_count": 23,
   "metadata": {},
   "outputs": [],
   "source": [
    "del rna.layers\n",
    "del adt.layers\n",
    "del rna.var\n",
    "del adt.var\n",
    "del rna.obsm\n",
    "del adt.obsm"
   ]
  },
  {
   "cell_type": "code",
   "execution_count": 24,
   "metadata": {},
   "outputs": [],
   "source": [
    "rna.write('../pipeline/data/cite_rna.h5ad')\n",
    "adt.write('../pipeline/data/cite_adt.h5ad')"
   ]
  },
  {
   "cell_type": "code",
   "execution_count": 25,
   "metadata": {},
   "outputs": [
    {
     "data": {
      "text/plain": [
       "array([1., 1., 1., ..., 1., 1., 1.], dtype=float32)"
      ]
     },
     "execution_count": 25,
     "metadata": {},
     "output_type": "execute_result"
    }
   ],
   "source": [
    "rna.X.data"
   ]
  },
  {
   "cell_type": "code",
   "execution_count": 26,
   "metadata": {},
   "outputs": [
    {
     "data": {
      "text/plain": [
       "array([0.38831878, 3.2994409 , 0.38831878, ..., 1.1925837 , 0.9706666 ,\n",
       "       0.7386633 ], dtype=float32)"
      ]
     },
     "execution_count": 26,
     "metadata": {},
     "output_type": "execute_result"
    }
   ],
   "source": [
    "adt.X.data"
   ]
  },
  {
   "cell_type": "code",
   "execution_count": null,
   "metadata": {},
   "outputs": [],
   "source": []
  }
 ],
 "metadata": {
  "colab": {
   "authorship_tag": "ABX9TyM7CrZ3zv2zVDsDbsjiuIPs",
   "provenance": []
  },
  "kernelspec": {
   "display_name": "Python 3 (ipykernel)",
   "language": "python",
   "name": "python3"
  },
  "language_info": {
   "codemirror_mode": {
    "name": "ipython",
    "version": 3
   },
   "file_extension": ".py",
   "mimetype": "text/x-python",
   "name": "python",
   "nbconvert_exporter": "python",
   "pygments_lexer": "ipython3",
   "version": "3.10.14"
  }
 },
 "nbformat": 4,
 "nbformat_minor": 4
}
