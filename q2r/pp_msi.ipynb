{
 "cells": [
  {
   "cell_type": "code",
   "execution_count": 1,
   "id": "11ed15c4-ed70-483e-90a3-5d80ab7090b0",
   "metadata": {},
   "outputs": [],
   "source": [
    "x=1"
   ]
  },
  {
   "cell_type": "code",
   "execution_count": 2,
   "id": "dc2ea908-5365-4813-80d5-4af5999a58bf",
   "metadata": {},
   "outputs": [],
   "source": [
    "import scanpy as sc"
   ]
  },
  {
   "cell_type": "code",
   "execution_count": 3,
   "id": "343716b8-1754-41c2-bd4d-0e421a37dd65",
   "metadata": {},
   "outputs": [],
   "source": [
    "adata_msi = sc.read('../pipeline/data/adata_visium_maldi_msi.h5ad')"
   ]
  },
  {
   "cell_type": "code",
   "execution_count": 4,
   "id": "aedb07cc-2743-4853-8de2-97387be75582",
   "metadata": {},
   "outputs": [
    {
     "data": {
      "text/plain": [
       "AnnData object with n_obs × n_vars = 5618 × 500\n",
       "    obs: 'technology', 'clusters', 'random_split', 'half_split', 'slide', 'msi_concat_clusters', 'split'\n",
       "    var: 'highly_variable', 'means', 'dispersions', 'dispersions_norm', 'highly_variable_nbatches', 'highly_variable_intersection', 'spatialy_highly_variable', 'msi_highly_variable'\n",
       "    uns: 'hvg', 'msi_concat_clusters', 'neighbors', 'pca', 'slide_colors', 'umap'\n",
       "    obsm: 'X_pca', 'X_umap', 'spatial', 'spatial_warp'\n",
       "    varm: 'PCs'\n",
       "    layers: 'counts'\n",
       "    obsp: 'connectivities', 'distances'"
      ]
     },
     "execution_count": 4,
     "metadata": {},
     "output_type": "execute_result"
    }
   ],
   "source": [
    "adata_msi"
   ]
  },
  {
   "cell_type": "code",
   "execution_count": 5,
   "id": "76af2fe7-f721-4c27-89bc-12f2a7fa7700",
   "metadata": {},
   "outputs": [
    {
     "data": {
      "text/plain": [
       "49      V11L12-038_A1\n",
       "50      V11L12-038_A1\n",
       "51      V11L12-038_A1\n",
       "52      V11L12-038_A1\n",
       "53      V11L12-038_A1\n",
       "            ...      \n",
       "5571    V11L12-038_B1\n",
       "5572    V11L12-038_B1\n",
       "5573    V11L12-038_B1\n",
       "5574    V11L12-038_B1\n",
       "5575    V11L12-038_B1\n",
       "Name: slide, Length: 5618, dtype: category\n",
       "Categories (2, object): ['V11L12-038_A1', 'V11L12-038_B1']"
      ]
     },
     "execution_count": 5,
     "metadata": {},
     "output_type": "execute_result"
    }
   ],
   "source": [
    "adata_msi.obs['slide']"
   ]
  },
  {
   "cell_type": "code",
   "execution_count": 6,
   "id": "fb685ce3-6469-4c76-aa8d-e13e2b165804",
   "metadata": {},
   "outputs": [
    {
     "data": {
      "text/plain": [
       "View of AnnData object with n_obs × n_vars = 2937 × 500\n",
       "    obs: 'technology', 'clusters', 'random_split', 'half_split', 'slide', 'msi_concat_clusters', 'split'\n",
       "    var: 'highly_variable', 'means', 'dispersions', 'dispersions_norm', 'highly_variable_nbatches', 'highly_variable_intersection', 'spatialy_highly_variable', 'msi_highly_variable'\n",
       "    uns: 'hvg', 'msi_concat_clusters', 'neighbors', 'pca', 'slide_colors', 'umap'\n",
       "    obsm: 'X_pca', 'X_umap', 'spatial', 'spatial_warp'\n",
       "    varm: 'PCs'\n",
       "    layers: 'counts'\n",
       "    obsp: 'connectivities', 'distances'"
      ]
     },
     "execution_count": 6,
     "metadata": {},
     "output_type": "execute_result"
    }
   ],
   "source": [
    "adata_msi[adata_msi.obs['slide'] == 'V11L12-038_B1']"
   ]
  },
  {
   "cell_type": "code",
   "execution_count": 7,
   "id": "b89f958c-1a20-43a9-973a-9bc0d0ac745e",
   "metadata": {},
   "outputs": [
    {
     "data": {
      "text/plain": [
       "View of AnnData object with n_obs × n_vars = 2681 × 500\n",
       "    obs: 'technology', 'clusters', 'random_split', 'half_split', 'slide', 'msi_concat_clusters', 'split'\n",
       "    var: 'highly_variable', 'means', 'dispersions', 'dispersions_norm', 'highly_variable_nbatches', 'highly_variable_intersection', 'spatialy_highly_variable', 'msi_highly_variable'\n",
       "    uns: 'hvg', 'msi_concat_clusters', 'neighbors', 'pca', 'slide_colors', 'umap'\n",
       "    obsm: 'X_pca', 'X_umap', 'spatial', 'spatial_warp'\n",
       "    varm: 'PCs'\n",
       "    layers: 'counts'\n",
       "    obsp: 'connectivities', 'distances'"
      ]
     },
     "execution_count": 7,
     "metadata": {},
     "output_type": "execute_result"
    }
   ],
   "source": [
    "adata_msi[adata_msi.obs['slide'] == 'V11L12-038_A1']"
   ]
  },
  {
   "cell_type": "code",
   "execution_count": 11,
   "id": "1673c82b-c944-4dc2-aeca-6f80db7f1bd1",
   "metadata": {},
   "outputs": [],
   "source": [
    "adata_msi.X = adata_msi.layers['counts'].copy()"
   ]
  },
  {
   "cell_type": "code",
   "execution_count": 12,
   "id": "b8c9ef00-5a3d-4168-aea7-bcc0c333111d",
   "metadata": {},
   "outputs": [],
   "source": [
    "X = adata_msi.X.copy()"
   ]
  },
  {
   "cell_type": "code",
   "execution_count": 13,
   "id": "eb45be3a-1f35-4ea7-95d9-801f2dfd1023",
   "metadata": {},
   "outputs": [],
   "source": [
    "adata_msi.X = (X - X.mean(axis=0))/(X.std(axis=0))"
   ]
  },
  {
   "cell_type": "code",
   "execution_count": 15,
   "id": "610d8b7b-bc58-4254-8918-fc467a2f9bcd",
   "metadata": {},
   "outputs": [],
   "source": [
    "adata_msi.write('../pipeline/data/adata_visium_maldi_msi_standardized.h5ad')"
   ]
  },
  {
   "cell_type": "code",
   "execution_count": null,
   "id": "eadbe3c6-c4dd-45da-afae-425e4c4814cd",
   "metadata": {},
   "outputs": [],
   "source": []
  }
 ],
 "metadata": {
  "kernelspec": {
   "display_name": "Python 3 (ipykernel)",
   "language": "python",
   "name": "python3"
  },
  "language_info": {
   "codemirror_mode": {
    "name": "ipython",
    "version": 3
   },
   "file_extension": ".py",
   "mimetype": "text/x-python",
   "name": "python",
   "nbconvert_exporter": "python",
   "pygments_lexer": "ipython3",
   "version": "3.10.14"
  }
 },
 "nbformat": 4,
 "nbformat_minor": 5
}
