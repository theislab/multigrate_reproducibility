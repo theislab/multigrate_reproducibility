{
 "cells": [
  {
   "cell_type": "code",
   "execution_count": 1,
   "id": "829c3d50",
   "metadata": {},
   "outputs": [],
   "source": [
    "import scanpy as sc\n",
    "import numpy as np\n",
    "import pandas as pd"
   ]
  },
  {
   "cell_type": "code",
   "execution_count": 4,
   "id": "84431582",
   "metadata": {},
   "outputs": [
    {
     "data": {
      "text/plain": [
       "AnnData object with n_obs × n_vars = 90261 × 4000\n",
       "    obs: 'GEX_n_genes_by_counts', 'GEX_pct_counts_mt', 'GEX_size_factors', 'GEX_phase', 'ADT_n_antibodies_by_counts', 'ADT_total_counts', 'ADT_iso_count', 'cell_type', 'batch', 'ADT_pseudotime_order', 'GEX_pseudotime_order', 'Samplename', 'Site', 'DonorNumber', 'Modality', 'VendorLot', 'DonorID', 'DonorAge', 'DonorBMI', 'DonorBloodType', 'DonorRace', 'Ethnicity', 'DonorGender', 'QCMeds', 'DonorSmoker', 'is_train', 'GEX_n_counts', 'GEX_n_genes', 'ATAC_nCount_peaks', 'ATAC_atac_fragments', 'ATAC_reads_in_peaks_frac', 'ATAC_blacklist_fraction', 'ATAC_nucleosome_signal', 'ATAC_pseudotime_order', 'technology', 'cell_type_l2', 'cell_type_l1', 'cell_type_l3', 'assay'\n",
       "    var: 'feature_types', 'gene_id', 'highly_variable-0', 'means-0', 'dispersions-0', 'dispersions_norm-0', 'highly_variable-1', 'means-1', 'dispersions-1', 'dispersions_norm-1', 'highly_variable', 'means', 'dispersions', 'dispersions_norm'\n",
       "    uns: 'hvg'\n",
       "    obsm: 'GEX_X_pca', 'GEX_X_umap'\n",
       "    layers: 'counts'"
      ]
     },
     "execution_count": 4,
     "metadata": {},
     "output_type": "execute_result"
    }
   ],
   "source": [
    "rna1_full = sc.read('../../data/neurips-cite/rna_concat_hvg.h5ad')\n",
    "rna1_full"
   ]
  },
  {
   "cell_type": "code",
   "execution_count": 5,
   "id": "c57bdeb5",
   "metadata": {},
   "outputs": [
    {
     "data": {
      "text/plain": [
       "AnnData object with n_obs × n_vars = 69249 × 4000\n",
       "    obs: 'GEX_n_genes_by_counts', 'GEX_pct_counts_mt', 'GEX_size_factors', 'GEX_phase', 'ADT_n_antibodies_by_counts', 'ADT_total_counts', 'ADT_iso_count', 'cell_type', 'batch', 'ADT_pseudotime_order', 'GEX_pseudotime_order', 'Samplename', 'Site', 'DonorNumber', 'Modality', 'VendorLot', 'DonorID', 'DonorAge', 'DonorBMI', 'DonorBloodType', 'DonorRace', 'Ethnicity', 'DonorGender', 'QCMeds', 'DonorSmoker', 'is_train', 'GEX_n_counts', 'GEX_n_genes', 'ATAC_nCount_peaks', 'ATAC_atac_fragments', 'ATAC_reads_in_peaks_frac', 'ATAC_blacklist_fraction', 'ATAC_nucleosome_signal', 'ATAC_pseudotime_order', 'technology', 'cell_type_l2', 'cell_type_l1', 'cell_type_l3', 'assay'\n",
       "    var: 'feature_types', 'gene_id', 'highly_variable-0', 'means-0', 'dispersions-0', 'dispersions_norm-0', 'highly_variable-1', 'means-1', 'dispersions-1', 'dispersions_norm-1', 'highly_variable', 'means', 'dispersions', 'dispersions_norm'\n",
       "    uns: 'hvg'\n",
       "    obsm: 'GEX_X_pca', 'GEX_X_umap'\n",
       "    layers: 'counts'"
      ]
     },
     "execution_count": 5,
     "metadata": {},
     "output_type": "execute_result"
    }
   ],
   "source": [
    "rna2_full = sc.read('../../data/neurips-multiome/rna_concat_hvg.h5ad')\n",
    "rna2_full"
   ]
  },
  {
   "cell_type": "markdown",
   "id": "7e06c9c3",
   "metadata": {},
   "source": [
    "# Create train"
   ]
  },
  {
   "cell_type": "code",
   "execution_count": 7,
   "id": "02e981c7",
   "metadata": {},
   "outputs": [
    {
     "data": {
      "text/plain": [
       "Index(['site1_donor1_cite', 'site1_donor2_cite', 'site1_donor3_cite',\n",
       "       'site2_donor1_cite', 'site2_donor4_cite', 'site2_donor5_cite',\n",
       "       'site3_donor1_cite', 'site3_donor6_cite', 'site3_donor7_cite',\n",
       "       'site4_donor1_cite', 'site4_donor8_cite', 'site4_donor9_cite'],\n",
       "      dtype='object')"
      ]
     },
     "execution_count": 7,
     "metadata": {},
     "output_type": "execute_result"
    }
   ],
   "source": [
    "rna1_full.obs['Samplename'].cat.categories"
   ]
  },
  {
   "cell_type": "code",
   "execution_count": 9,
   "id": "264bc7dc",
   "metadata": {},
   "outputs": [],
   "source": [
    "train_cite = [\n",
    "    'site1_donor1_cite', 'site1_donor2_cite',\n",
    "    'site2_donor1_cite', 'site2_donor4_cite',\n",
    "    'site3_donor1_cite', 'site3_donor6_cite',\n",
    "    'site4_donor1_cite', 'site4_donor8_cite'\n",
    "]"
   ]
  },
  {
   "cell_type": "code",
   "execution_count": 8,
   "id": "dc4b3243",
   "metadata": {},
   "outputs": [
    {
     "data": {
      "text/plain": [
       "Index(['site1_donor1_multiome', 'site1_donor2_multiome',\n",
       "       'site1_donor3_multiome', 'site2_donor1_multiome',\n",
       "       'site2_donor4_multiome', 'site2_donor5_multiome',\n",
       "       'site3_donor3_multiome', 'site3_donor6_multiome',\n",
       "       'site3_donor7_multiome', 'site3_donor10_multiome',\n",
       "       'site4_donor1_multiome', 'site4_donor8_multiome',\n",
       "       'site4_donor9_multiome'],\n",
       "      dtype='object')"
      ]
     },
     "execution_count": 8,
     "metadata": {},
     "output_type": "execute_result"
    }
   ],
   "source": [
    "rna2_full.obs['Samplename'].cat.categories"
   ]
  },
  {
   "cell_type": "code",
   "execution_count": 10,
   "id": "5e65222f",
   "metadata": {},
   "outputs": [],
   "source": [
    "train_multiome = [\n",
    "    'site1_donor1_multiome', 'site1_donor2_multiome',\n",
    "    'site2_donor1_multiome', 'site2_donor4_multiome',\n",
    "    'site3_donor3_multiome', 'site3_donor6_multiome', 'site3_donor7_multiome',\n",
    "    'site4_donor1_multiome', 'site4_donor8_multiome'\n",
    "]"
   ]
  },
  {
   "cell_type": "code",
   "execution_count": 14,
   "id": "0ac9c65e",
   "metadata": {},
   "outputs": [
    {
     "data": {
      "text/plain": [
       "Index(['test', 'train'], dtype='object')"
      ]
     },
     "execution_count": 14,
     "metadata": {},
     "output_type": "execute_result"
    }
   ],
   "source": [
    "rna1_full.obs['split'] = 'train'\n",
    "rna1_full.obs.loc[~rna1_full.obs['Samplename'].isin(train_cite), 'split'] = 'test'\n",
    "rna1_full.obs['split'].astype('category').cat.categories"
   ]
  },
  {
   "cell_type": "code",
   "execution_count": 15,
   "id": "c3b76a88",
   "metadata": {},
   "outputs": [
    {
     "data": {
      "text/plain": [
       "Index(['test', 'train'], dtype='object')"
      ]
     },
     "execution_count": 15,
     "metadata": {},
     "output_type": "execute_result"
    }
   ],
   "source": [
    "rna2_full.obs['split'] = 'train'\n",
    "rna2_full.obs.loc[~rna2_full.obs['Samplename'].isin(train_multiome), 'split'] = 'test'\n",
    "rna2_full.obs['split'].astype('category').cat.categories"
   ]
  },
  {
   "cell_type": "code",
   "execution_count": 16,
   "id": "2b12c2a8",
   "metadata": {},
   "outputs": [
    {
     "data": {
      "text/plain": [
       "AnnData object with n_obs × n_vars = 69249 × 40002\n",
       "    obs: 'GEX_pct_counts_mt', 'GEX_n_counts', 'GEX_n_genes', 'GEX_size_factors', 'GEX_phase', 'ATAC_nCount_peaks', 'ATAC_atac_fragments', 'ATAC_reads_in_peaks_frac', 'ATAC_blacklist_fraction', 'ATAC_nucleosome_signal', 'cell_type', 'batch', 'ATAC_pseudotime_order', 'GEX_pseudotime_order', 'Samplename', 'Site', 'DonorNumber', 'Modality', 'VendorLot', 'DonorID', 'DonorAge', 'DonorBMI', 'DonorBloodType', 'DonorRace', 'Ethnicity', 'DonorGender', 'QCMeds', 'DonorSmoker', 'cell_type_l2', 'cell_type_l1', 'cell_type_l3', 'assay'\n",
       "    var: 'feature_types', 'gene_id', 'n_cells', 'prop_shared_cells', 'variability_score'\n",
       "    uns: 'ATAC_gene_activity_var_names', 'dataset_id', 'genome', 'organism'\n",
       "    obsm: 'ATAC_gene_activity', 'ATAC_lsi_full', 'ATAC_lsi_red', 'ATAC_umap', 'GEX_X_pca', 'GEX_X_umap'\n",
       "    layers: 'binary', 'counts', 'cpm', 'tf-idf', 'tf-idf-binary', 'tf-idf-counts'"
      ]
     },
     "execution_count": 16,
     "metadata": {},
     "output_type": "execute_result"
    }
   ],
   "source": [
    "atac = sc.read('../../data/neurips-multiome/atac_hvf.h5ad')\n",
    "atac"
   ]
  },
  {
   "cell_type": "code",
   "execution_count": 17,
   "id": "279cd69f",
   "metadata": {},
   "outputs": [
    {
     "data": {
      "text/plain": [
       "AnnData object with n_obs × n_vars = 90261 × 134\n",
       "    obs: 'GEX_n_genes_by_counts', 'GEX_pct_counts_mt', 'GEX_size_factors', 'GEX_phase', 'ADT_n_antibodies_by_counts', 'ADT_total_counts', 'ADT_iso_count', 'cell_type', 'batch', 'ADT_pseudotime_order', 'GEX_pseudotime_order', 'Samplename', 'Site', 'DonorNumber', 'Modality', 'VendorLot', 'DonorID', 'DonorAge', 'DonorBMI', 'DonorBloodType', 'DonorRace', 'Ethnicity', 'DonorGender', 'QCMeds', 'DonorSmoker', 'is_train'\n",
       "    var: 'feature_types', 'gene_id'\n",
       "    uns: 'dataset_id', 'genome', 'organism'\n",
       "    obsm: 'ADT_X_pca', 'ADT_X_umap', 'ADT_isotype_controls', 'GEX_X_pca', 'GEX_X_umap'\n",
       "    layers: 'counts'"
      ]
     },
     "execution_count": 17,
     "metadata": {},
     "output_type": "execute_result"
    }
   ],
   "source": [
    "adt = sc.read('../../data/neurips-cite/protein.h5ad')\n",
    "adt"
   ]
  },
  {
   "cell_type": "code",
   "execution_count": 19,
   "id": "fde09b9d",
   "metadata": {},
   "outputs": [],
   "source": [
    "adt.obs = adt.obs.join(rna1_full.obs[['cell_type_l2', 'cell_type_l1', 'cell_type_l3', 'assay', 'split']])"
   ]
  },
  {
   "cell_type": "code",
   "execution_count": 21,
   "id": "e7d73510",
   "metadata": {},
   "outputs": [],
   "source": [
    "atac.obs = atac.obs.join(rna2_full.obs[['split']])"
   ]
  },
  {
   "cell_type": "markdown",
   "id": "68b0cacf",
   "metadata": {},
   "source": [
    "## Write"
   ]
  },
  {
   "cell_type": "code",
   "execution_count": 23,
   "id": "9af7eb17",
   "metadata": {},
   "outputs": [],
   "source": [
    "rna1_full.write('../../data/trimodal_neurips/rna_hvg_cite.h5ad')"
   ]
  },
  {
   "cell_type": "code",
   "execution_count": 24,
   "id": "104ec388",
   "metadata": {},
   "outputs": [],
   "source": [
    "rna2_full.write('../../data/trimodal_neurips/rna_hvg_multiome.h5ad')"
   ]
  },
  {
   "cell_type": "code",
   "execution_count": 25,
   "id": "138f6620",
   "metadata": {},
   "outputs": [],
   "source": [
    "adt.write('../../data/trimodal_neurips/adt.h5ad')"
   ]
  },
  {
   "cell_type": "code",
   "execution_count": 26,
   "id": "6575e76e",
   "metadata": {},
   "outputs": [],
   "source": [
    "atac.write('../../data/trimodal_neurips/atac_hvf.h5ad')"
   ]
  },
  {
   "cell_type": "code",
   "execution_count": null,
   "id": "b14c5860",
   "metadata": {},
   "outputs": [],
   "source": []
  }
 ],
 "metadata": {
  "kernelspec": {
   "display_name": "Python 3 (ipykernel)",
   "language": "python",
   "name": "python3"
  },
  "language_info": {
   "codemirror_mode": {
    "name": "ipython",
    "version": 3
   },
   "file_extension": ".py",
   "mimetype": "text/x-python",
   "name": "python",
   "nbconvert_exporter": "python",
   "pygments_lexer": "ipython3",
   "version": "3.8.13"
  }
 },
 "nbformat": 4,
 "nbformat_minor": 5
}
