{
 "cells": [
  {
   "cell_type": "code",
   "execution_count": 1,
   "metadata": {},
   "outputs": [
    {
     "name": "stdout",
     "output_type": "stream",
     "text": [
      "scanpy==1.4.6 anndata==0.7.3 umap==0.4.6 numpy==1.19.4 scipy==1.5.4 pandas==1.1.4 scikit-learn==0.23.2 statsmodels==0.12.1 python-igraph==0.8.3 louvain==0.6.1\n"
     ]
    }
   ],
   "source": [
    "import warnings\n",
    "warnings.simplefilter(action='ignore', category=FutureWarning)\n",
    "\n",
    "import scanpy as sc\n",
    "import anndata as ad\n",
    "import multigrate as mtg\n",
    "import numpy as np\n",
    "import gdown\n",
    "\n",
    "sc.logging.print_versions()"
   ]
  },
  {
   "cell_type": "code",
   "execution_count": 2,
   "metadata": {},
   "outputs": [],
   "source": [
    "%load_ext rpy2.ipython"
   ]
  },
  {
   "cell_type": "code",
   "execution_count": 3,
   "metadata": {
    "scrolled": true
   },
   "outputs": [
    {
     "name": "stderr",
     "output_type": "stream",
     "text": [
      "R[write to console]: Registered S3 method overwritten by 'cli':\n",
      "  method     from    \n",
      "  print.boxx spatstat\n",
      "\n",
      "R[write to console]: Registered S3 method overwritten by 'SeuratDisk':\n",
      "  method            from  \n",
      "  as.sparse.H5Group Seurat\n",
      "\n"
     ]
    }
   ],
   "source": [
    "%%R\n",
    "library(Seurat)\n",
    "library(SeuratDisk)"
   ]
  },
  {
   "cell_type": "markdown",
   "metadata": {},
   "source": [
    "# Expressions"
   ]
  },
  {
   "cell_type": "markdown",
   "metadata": {},
   "source": [
    "## Download the data"
   ]
  },
  {
   "cell_type": "code",
   "execution_count": 4,
   "metadata": {},
   "outputs": [
    {
     "name": "stderr",
     "output_type": "stream",
     "text": [
      "Downloading...\n",
      "From: https://drive.google.com/uc?id=1wA3VBUnYEW2qHPk9WijNTKjV9KriWe8y\n",
      "To: /Users/alitinet/Desktop/thesis/multigrate/kotliarov-expressions.h5ad\n",
      "137MB [05:39, 404kB/s]  \n"
     ]
    },
    {
     "data": {
      "text/plain": [
       "'kotliarov-expressions.h5ad'"
      ]
     },
     "execution_count": 4,
     "metadata": {},
     "output_type": "execute_result"
    }
   ],
   "source": [
    "gdown.download(\n",
    "    'https://drive.google.com/uc?id=1wA3VBUnYEW2qHPk9WijNTKjV9KriWe8y',\n",
    "    'kotliarov-expressions.h5ad'\n",
    ")"
   ]
  },
  {
   "cell_type": "code",
   "execution_count": 5,
   "metadata": {},
   "outputs": [
    {
     "data": {
      "text/plain": [
       "AnnData object with n_obs × n_vars = 52117 × 3999\n",
       "    obs: 'batch', 'cluster_level2', 'cluster_level3', 'sample', 'cell_type', 'n_genes', 'n_genes_by_counts', 'log1p_n_genes_by_counts', 'total_counts', 'log1p_total_counts', 'total_counts_mt', 'log1p_total_counts_mt', 'pct_counts_mt'\n",
       "    var: 'n_cells', 'mt', 'n_cells_by_counts', 'mean_counts', 'log1p_mean_counts', 'pct_dropout_by_counts', 'total_counts', 'log1p_total_counts', 'highly_variable', 'means', 'dispersions', 'dispersions_norm'\n",
       "    uns: 'batch_colors', 'cell_type_colors', 'cluster_level2_colors', 'cluster_level3_colors', 'neighbors', 'pca', 'sample_colors', 'umap'\n",
       "    obsm: 'X_pca', 'X_umap'\n",
       "    varm: 'PCs'\n",
       "    layers: 'count'\n",
       "    obsp: 'connectivities', 'distances'"
      ]
     },
     "execution_count": 5,
     "metadata": {},
     "output_type": "execute_result"
    }
   ],
   "source": [
    "adata = sc.read('kotliarov-expressions.h5ad')\n",
    "adata"
   ]
  },
  {
   "cell_type": "markdown",
   "metadata": {},
   "source": [
    "## Save raw counts"
   ]
  },
  {
   "cell_type": "code",
   "execution_count": 6,
   "metadata": {},
   "outputs": [],
   "source": [
    "adata_ = ad.AnnData(adata.layers['count'])\n",
    "adata_.obs_names = adata.obs_names\n",
    "adata_.var_names = adata.var_names\n",
    "adata_.obs['cell_type'] = adata.obs['cell_type']\n",
    "adata_.write('expressions_hvg_counts.h5ad')"
   ]
  },
  {
   "cell_type": "markdown",
   "metadata": {},
   "source": [
    "## Convert h5ad file with raw counts to a h5Seurat object"
   ]
  },
  {
   "cell_type": "code",
   "execution_count": 7,
   "metadata": {
    "scrolled": false
   },
   "outputs": [
    {
     "name": "stderr",
     "output_type": "stream",
     "text": [
      "R[write to console]: Warnung:\n",
      "R[write to console]:  Unknown file type: h5ad\n",
      "\n",
      "R[write to console]: Warnung:\n",
      "R[write to console]:  'assay' not set, setting to 'RNA'\n",
      "\n",
      "R[write to console]: Creating h5Seurat file for version 3.1.5.9900\n",
      "\n",
      "R[write to console]: Adding X as data\n",
      "\n",
      "R[write to console]: Adding X as counts\n",
      "\n",
      "R[write to console]: Adding meta.features from var\n",
      "\n"
     ]
    }
   ],
   "source": [
    "%%R\n",
    "Convert('expressions_hvg_counts.h5ad', 'h5seurat', overwrite=TRUE)"
   ]
  },
  {
   "cell_type": "markdown",
   "metadata": {},
   "source": [
    "# Protein"
   ]
  },
  {
   "cell_type": "markdown",
   "metadata": {},
   "source": [
    "## Download the data"
   ]
  },
  {
   "cell_type": "code",
   "execution_count": 8,
   "metadata": {},
   "outputs": [
    {
     "name": "stderr",
     "output_type": "stream",
     "text": [
      "Downloading...\n",
      "From: https://drive.google.com/uc?id=112mdDX76LZRL33tBLYhfYRRXOUrLUhw-\n",
      "To: /Users/alitinet/Desktop/thesis/multigrate/kotliarov-protein.h5ad\n",
      "143MB [06:36, 361kB/s]  \n"
     ]
    },
    {
     "data": {
      "text/plain": [
       "'kotliarov-protein.h5ad'"
      ]
     },
     "execution_count": 8,
     "metadata": {},
     "output_type": "execute_result"
    }
   ],
   "source": [
    "gdown.download(\n",
    "    'https://drive.google.com/uc?id=112mdDX76LZRL33tBLYhfYRRXOUrLUhw-',\n",
    "    'kotliarov-protein.h5ad'\n",
    ")"
   ]
  },
  {
   "cell_type": "code",
   "execution_count": 9,
   "metadata": {},
   "outputs": [
    {
     "data": {
      "text/plain": [
       "AnnData object with n_obs × n_vars = 52117 × 87\n",
       "    obs: 'batch', 'cluster_level2', 'cluster_level3', 'sample', 'cell_type', 'n_genes'\n",
       "    var: 'n_cells'\n",
       "    uns: 'batch_colors', 'cell_type_colors', 'cluster_level2_colors', 'cluster_level3_colors', 'neighbors', 'pca', 'sample_colors', 'umap'\n",
       "    obsm: 'X_pca', 'X_umap'\n",
       "    varm: 'PCs'\n",
       "    layers: 'count'\n",
       "    obsp: 'connectivities', 'distances'"
      ]
     },
     "execution_count": 9,
     "metadata": {},
     "output_type": "execute_result"
    }
   ],
   "source": [
    "adata = sc.read('kotliarov-protein.h5ad')\n",
    "adata"
   ]
  },
  {
   "cell_type": "markdown",
   "metadata": {},
   "source": [
    "## Save raw counts"
   ]
  },
  {
   "cell_type": "code",
   "execution_count": 10,
   "metadata": {},
   "outputs": [],
   "source": [
    "adata_ = ad.AnnData(adata.layers['count'])\n",
    "adata_.obs_names = adata.obs_names\n",
    "adata_.var_names = adata.var_names\n",
    "adata_.obs['cell_type'] = adata.obs['cell_type']\n",
    "adata_.write('protein_counts.h5ad')"
   ]
  },
  {
   "cell_type": "markdown",
   "metadata": {},
   "source": [
    "## Convert h5ad file with raw counts to a h5Seurat object"
   ]
  },
  {
   "cell_type": "code",
   "execution_count": 11,
   "metadata": {
    "scrolled": true
   },
   "outputs": [
    {
     "name": "stderr",
     "output_type": "stream",
     "text": [
      "R[write to console]: Warnung:\n",
      "R[write to console]:  Unknown file type: h5ad\n",
      "\n",
      "R[write to console]: Warnung:\n",
      "R[write to console]:  'assay' not set, setting to 'RNA'\n",
      "\n",
      "R[write to console]: Creating h5Seurat file for version 3.1.5.9900\n",
      "\n",
      "R[write to console]: Adding X as data\n",
      "\n",
      "R[write to console]: Adding X as counts\n",
      "\n",
      "R[write to console]: Adding meta.features from var\n",
      "\n"
     ]
    }
   ],
   "source": [
    "%%R\n",
    "Convert('protein_counts.h5ad', 'h5seurat', overwrite=TRUE)"
   ]
  },
  {
   "cell_type": "markdown",
   "metadata": {},
   "source": [
    "# Run Seurat v4 WNN\n",
    "Following https://satijalab.org/seurat/v4.0/weighted_nearest_neighbor_analysis.html."
   ]
  },
  {
   "cell_type": "code",
   "execution_count": 12,
   "metadata": {
    "scrolled": false
   },
   "outputs": [
    {
     "name": "stderr",
     "output_type": "stream",
     "text": [
      "R[write to console]: Validating h5Seurat file\n",
      "\n",
      "R[write to console]: Initializing RNA with data\n",
      "\n",
      "R[write to console]: Adding counts for RNA\n",
      "\n",
      "R[write to console]: Adding feature-level metadata for RNA\n",
      "\n",
      "R[write to console]: Adding command information\n",
      "\n",
      "R[write to console]: Adding cell-level metadata\n",
      "\n",
      "R[write to console]: Adding miscellaneous information\n",
      "\n",
      "R[write to console]: Adding tool-specific results\n",
      "\n",
      "R[write to console]: Validating h5Seurat file\n",
      "\n",
      "R[write to console]: Initializing RNA with data\n",
      "\n",
      "R[write to console]: Warnung:\n",
      "R[write to console]:  Feature names cannot have underscores ('_'), replacing with dashes ('-')\n",
      "\n",
      "R[write to console]: Adding counts for RNA\n",
      "\n",
      "R[write to console]: Warnung:\n",
      "R[write to console]:  Feature names cannot have underscores ('_'), replacing with dashes ('-')\n",
      "\n",
      "R[write to console]: Adding feature-level metadata for RNA\n",
      "\n",
      "R[write to console]: Adding command information\n",
      "\n",
      "R[write to console]: Adding cell-level metadata\n",
      "\n",
      "R[write to console]: Adding miscellaneous information\n",
      "\n",
      "R[write to console]: Adding tool-specific results\n",
      "\n"
     ]
    },
    {
     "name": "stdout",
     "output_type": "stream",
     "text": [
      "[1] \"Preprocessing RNA...\"\n",
      "[1] \"Preprocessing ADT...\"\n"
     ]
    },
    {
     "name": "stderr",
     "output_type": "stream",
     "text": [
      "R[write to console]: Warnung in irlba(A = t(x = object), nv = npcs, ...)\n",
      "R[write to console]: \n",
      " \n",
      "R[write to console]:  You're computing too large a percentage of total singular values, use a standard svd instead.\n",
      "\n",
      "R[write to console]: Calculating cell-specific modality weights\n",
      "\n",
      "R[write to console]: Finding 20 nearest neighbors for each modality.\n",
      "\n"
     ]
    },
    {
     "name": "stdout",
     "output_type": "stream",
     "text": [
      "  |                                                  | 0 % ~calculating   |+++++++++++++++++++++++++                         | 50% ~17s           |++++++++++++++++++++++++++++++++++++++++++++++++++| 100% elapsed=35s  \n"
     ]
    },
    {
     "name": "stderr",
     "output_type": "stream",
     "text": [
      "R[write to console]: Calculating kernel bandwidths\n",
      "\n"
     ]
    },
    {
     "name": "stdout",
     "output_type": "stream",
     "text": [
      "  |                                                  | 0 % ~calculating   |+++++++++++++++++++++++++                         | 50% ~07s           |++++++++++++++++++++++++++++++++++++++++++++++++++| 100% elapsed=10s  \n"
     ]
    },
    {
     "name": "stderr",
     "output_type": "stream",
     "text": [
      "R[write to console]: Finding multimodal neighbors\n",
      "\n"
     ]
    },
    {
     "name": "stdout",
     "output_type": "stream",
     "text": [
      "  |                                                  | 0 % ~calculating   |+++++++++++++++++++++++++                         | 50% ~01m 01s       |++++++++++++++++++++++++++++++++++++++++++++++++++| 100% elapsed=02m 05s\n",
      "  |                                                  | 0 % ~calculating   |+++++++++++++++++++++++++                         | 50% ~08s           |++++++++++++++++++++++++++++++++++++++++++++++++++| 100% elapsed=13s  \n"
     ]
    },
    {
     "name": "stderr",
     "output_type": "stream",
     "text": [
      "R[write to console]: Constructing multimodal KNN graph\n",
      "\n",
      "R[write to console]: Constructing multimodal SNN graph\n",
      "\n",
      "R[write to console]: Warnung:\n",
      "R[write to console]:  The default method for RunUMAP has changed from calling Python UMAP via reticulate to the R-native UWOT using the cosine metric\n",
      "To use Python UMAP via reticulate, set umap.method to 'umap-learn' and metric to 'correlation'\n",
      "This message will be shown once per session\n",
      "\n",
      "R[write to console]: Warnung:\n",
      "R[write to console]:  Overwriting previous file integrated_kotliarov.h5seurat\n",
      "\n",
      "R[write to console]: Creating h5Seurat file for version 3.1.5.9900\n",
      "\n",
      "R[write to console]: Adding counts for RNA\n",
      "\n",
      "R[write to console]: Adding data for RNA\n",
      "\n",
      "R[write to console]: Adding scale.data for RNA\n",
      "\n",
      "R[write to console]: Adding variable features for RNA\n",
      "\n",
      "R[write to console]: No feature-level metadata found for RNA\n",
      "\n",
      "R[write to console]: Adding counts for ADT\n",
      "\n",
      "R[write to console]: Adding data for ADT\n",
      "\n",
      "R[write to console]: Adding scale.data for ADT\n",
      "\n",
      "R[write to console]: Adding variable features for ADT\n",
      "\n",
      "R[write to console]: No feature-level metadata found for ADT\n",
      "\n",
      "R[write to console]: Adding cell embeddings for pca\n",
      "\n",
      "R[write to console]: Adding loadings for pca\n",
      "\n",
      "R[write to console]: No projected loadings for pca\n",
      "\n",
      "R[write to console]: Adding standard deviations for pca\n",
      "\n",
      "R[write to console]: No JackStraw data for pca\n",
      "\n",
      "R[write to console]: Adding cell embeddings for apca\n",
      "\n",
      "R[write to console]: Adding loadings for apca\n",
      "\n",
      "R[write to console]: No projected loadings for apca\n",
      "\n",
      "R[write to console]: Adding standard deviations for apca\n",
      "\n",
      "R[write to console]: No JackStraw data for apca\n",
      "\n",
      "R[write to console]: Adding cell embeddings for wnn.umap\n",
      "\n",
      "R[write to console]: No loadings for wnn.umap\n",
      "\n",
      "R[write to console]: No projected loadings for wnn.umap\n",
      "\n",
      "R[write to console]: No standard deviations for wnn.umap\n",
      "\n",
      "R[write to console]: No JackStraw data for wnn.umap\n",
      "\n"
     ]
    }
   ],
   "source": [
    "%%R\n",
    "rna <- LoadH5Seurat(\"expressions_hvg_counts.h5seurat\")\n",
    "cite <- LoadH5Seurat(\"protein_counts.h5seurat\")\n",
    "\n",
    "bm <- rna\n",
    "bm[[\"ADT\"]] <- CreateAssayObject(counts = cite@assays$RNA@counts)\n",
    "\n",
    "rm(rna)\n",
    "rm(cite)\n",
    "\n",
    "print('Preprocessing RNA...')\n",
    "DefaultAssay(bm) <- \"RNA\"\n",
    "bm <- NormalizeData(bm, verbose=FALSE)\n",
    "VariableFeatures(bm) <- rownames(bm[[\"RNA\"]])\n",
    "bm <- ScaleData(bm, verbose=FALSE)\n",
    "bm <- RunPCA(bm, verbose=FALSE)\n",
    "\n",
    "print('Preprocessing ADT...')\n",
    "DefaultAssay(bm) <- \"ADT\"\n",
    "VariableFeatures(bm) <- rownames(bm[[\"ADT\"]])\n",
    "bm <- NormalizeData(bm, normalization.method = 'CLR', margin = 2, verbose=FALSE)\n",
    "bm <- ScaleData(bm, verbose=FALSE)\n",
    "bm <- RunPCA(bm, reduction.name = \"apca\", verbose=FALSE)\n",
    "\n",
    "bm <- FindMultiModalNeighbors(\n",
    "       bm, reduction.list = list(\"pca\", \"apca\"), \n",
    "       dims.list = list(1:30, 1:18), modality.weight.name = \"RNA.weight\"\n",
    "   )\n",
    "\n",
    "bm <- RunUMAP(bm, nn.name = \"weighted.nn\", reduction.name = \"wnn.umap\", reduction.key = \"wnnUMAP_\", verbose=FALSE)\n",
    "bm <- FindClusters(bm, graph.name = \"wsnn\", algorithm = 3, resolution = 2, verbose = FALSE)\n",
    "\n",
    "SaveH5Seurat(bm, 'integrated_kotliarov.h5seurat', overwrite = TRUE)"
   ]
  },
  {
   "cell_type": "code",
   "execution_count": 13,
   "metadata": {},
   "outputs": [
    {
     "name": "stderr",
     "output_type": "stream",
     "text": [
      "R[write to console]: Validating h5Seurat file\n",
      "\n",
      "R[write to console]: Adding scale.data from RNA as X\n",
      "\n",
      "R[write to console]: Adding data from RNA as raw\n",
      "\n",
      "R[write to console]: Transfering meta.data to obs\n",
      "\n",
      "R[write to console]: Adding dimensional reduction information for pca\n",
      "\n",
      "R[write to console]: Adding feature loadings for pca\n",
      "\n",
      "R[write to console]: Adding dimensional reduction information for wnn.umap (global)\n",
      "\n",
      "R[write to console]: Adding wsnn as neighbors\n",
      "\n"
     ]
    }
   ],
   "source": [
    "%%R\n",
    "Convert(\"integrated_kotliarov.h5Seurat\", assay=\"RNA\", \"h5ad\", overwrite=TRUE)"
   ]
  },
  {
   "cell_type": "markdown",
   "metadata": {},
   "source": [
    "## Visualize the result"
   ]
  },
  {
   "cell_type": "code",
   "execution_count": 14,
   "metadata": {},
   "outputs": [
    {
     "data": {
      "text/plain": [
       "AnnData object with n_obs × n_vars = 52117 × 3999\n",
       "    obs: 'cell_type', 'nCount_ADT', 'nFeature_ADT', 'RNA.weight', 'wsnn_res.2', 'seurat_clusters'\n",
       "    var: 'features'\n",
       "    uns: 'neighbors'\n",
       "    obsm: 'X_pca', 'X_wnn.umap'\n",
       "    varm: 'PCs'\n",
       "    obsp: 'distances'"
      ]
     },
     "execution_count": 14,
     "metadata": {},
     "output_type": "execute_result"
    }
   ],
   "source": [
    "integrated = sc.read('integrated_kotliarov.h5ad')\n",
    "integrated"
   ]
  },
  {
   "cell_type": "markdown",
   "metadata": {},
   "source": [
    "Cell types don't transfer properly due to a SeuratDisk bug so set them manually (https://github.com/mojaveazure/seurat-disk/issues/23)."
   ]
  },
  {
   "cell_type": "code",
   "execution_count": 15,
   "metadata": {},
   "outputs": [
    {
     "data": {
      "text/plain": [
       "0"
      ]
     },
     "execution_count": 15,
     "metadata": {},
     "output_type": "execute_result"
    }
   ],
   "source": [
    "# check indices\n",
    "np.sum(adata.obs['cell_type'].index != integrated.obs['cell_type'].index)"
   ]
  },
  {
   "cell_type": "code",
   "execution_count": 16,
   "metadata": {},
   "outputs": [],
   "source": [
    "integrated.obs['cell_type'] = adata.obs['cell_type']"
   ]
  },
  {
   "cell_type": "code",
   "execution_count": 17,
   "metadata": {},
   "outputs": [],
   "source": [
    "integrated.obs['seurat_clusters'] = integrated.obs['seurat_clusters'].astype('category')"
   ]
  },
  {
   "cell_type": "code",
   "execution_count": 18,
   "metadata": {},
   "outputs": [
    {
     "data": {
      "image/png": "[encoded data removed]",
      "text/plain": [
       "<Figure size 494.64x864 with 4 Axes>"
      ]
     },
     "metadata": {
      "needs_background": "light"
     },
     "output_type": "display_data"
    }
   ],
   "source": [
    "sc.pl.embedding(integrated, basis='wnn.umap', color=['cell_type', 'RNA.weight', 'seurat_clusters'], ncols=1)"
   ]
  },
  {
   "cell_type": "markdown",
   "metadata": {},
   "source": [
    "## Run metrics"
   ]
  },
  {
   "cell_type": "markdown",
   "metadata": {},
   "source": [
    "SeuratDisk writes the neighbors graph from the Seurat object to `.uns['neighbors']['distances']`, so change the location to `.uns['neighbors']['connectivities']`."
   ]
  },
  {
   "cell_type": "code",
   "execution_count": 19,
   "metadata": {},
   "outputs": [
    {
     "data": {
      "text/plain": [
       "AnnData object with n_obs × n_vars = 52117 × 3999\n",
       "    obs: 'cell_type', 'nCount_ADT', 'nFeature_ADT', 'RNA.weight', 'wsnn_res.2', 'seurat_clusters'\n",
       "    var: 'features'\n",
       "    uns: 'neighbors', 'cell_type_colors', 'seurat_clusters_colors'\n",
       "    obsm: 'X_pca', 'X_wnn.umap'\n",
       "    varm: 'PCs'\n",
       "    obsp: 'distances'"
      ]
     },
     "execution_count": 19,
     "metadata": {},
     "output_type": "execute_result"
    }
   ],
   "source": [
    "integrated"
   ]
  },
  {
   "cell_type": "code",
   "execution_count": 20,
   "metadata": {},
   "outputs": [],
   "source": [
    "integrated.uns['neighbors']['connectivities'] = integrated.uns['neighbors']['distances']"
   ]
  },
  {
   "cell_type": "code",
   "execution_count": 25,
   "metadata": {},
   "outputs": [],
   "source": [
    "# had to delete due to some seurat to h5ad errors\n",
    "del integrated.raw"
   ]
  },
  {
   "cell_type": "code",
   "execution_count": 26,
   "metadata": {},
   "outputs": [],
   "source": [
    "integrated.write('integrated_kotliarov.h5ad')"
   ]
  },
  {
   "cell_type": "markdown",
   "metadata": {},
   "source": [
    "We only can run graph-based metrics. We don't run `isolated_label_f1` because it requires batch labels, but we treat datasets as batches, i.e. here we have one dataset = one batch, so don't use it."
   ]
  },
  {
   "cell_type": "code",
   "execution_count": 27,
   "metadata": {},
   "outputs": [
    {
     "name": "stdout",
     "output_type": "stream",
     "text": [
      "Clustering...\n",
      "Graph connectivity...\n",
      "NMI cluster/label...\n",
      "ARI cluster/label...\n"
     ]
    },
    {
     "data": {
      "text/html": [
       "<div>\n",
       "<style scoped>\n",
       "    .dataframe tbody tr th:only-of-type {\n",
       "        vertical-align: middle;\n",
       "    }\n",
       "\n",
       "    .dataframe tbody tr th {\n",
       "        vertical-align: top;\n",
       "    }\n",
       "\n",
       "    .dataframe thead th {\n",
       "        text-align: right;\n",
       "    }\n",
       "</style>\n",
       "<table border=\"1\" class=\"dataframe\">\n",
       "  <thead>\n",
       "    <tr style=\"text-align: right;\">\n",
       "      <th></th>\n",
       "      <th>score</th>\n",
       "    </tr>\n",
       "  </thead>\n",
       "  <tbody>\n",
       "    <tr>\n",
       "      <th>graph_conn</th>\n",
       "      <td>0.991643</td>\n",
       "    </tr>\n",
       "    <tr>\n",
       "      <th>NMI_cluster/label</th>\n",
       "      <td>0.878427</td>\n",
       "    </tr>\n",
       "    <tr>\n",
       "      <th>ARI_cluster/label</th>\n",
       "      <td>0.874662</td>\n",
       "    </tr>\n",
       "  </tbody>\n",
       "</table>\n",
       "</div>"
      ],
      "text/plain": [
       "                      score\n",
       "graph_conn         0.991643\n",
       "NMI_cluster/label  0.878427\n",
       "ARI_cluster/label  0.874662"
      ]
     },
     "execution_count": 27,
     "metadata": {},
     "output_type": "execute_result"
    }
   ],
   "source": [
    "metrics = mtg.metrics.metrics(\n",
    "    None, integrated,\n",
    "    batch_key=None,\n",
    "    label_key='cell_type',\n",
    "    method='seurat',\n",
    "    asw_label=False, \n",
    "    asw_batch=False,\n",
    "    pcr_batch=False, \n",
    "    graph_connectivity_batch=True, \n",
    "    nmi_=True, \n",
    "    ari_=True,\n",
    "    isolated_label_asw=False, \n",
    "    isolated_label_f1=False\n",
    ")\n",
    "metrics"
   ]
  },
  {
   "cell_type": "markdown",
   "metadata": {},
   "source": [
    "Finally, remove unnecessary files. "
   ]
  },
  {
   "cell_type": "code",
   "execution_count": 28,
   "metadata": {},
   "outputs": [],
   "source": [
    "!rm 'kotliarov-expressions.h5ad'\n",
    "!rm 'kotliarov-protein.h5ad'\n",
    "!rm 'expressions_hvg_counts.h5ad'\n",
    "!rm 'protein_counts.h5ad'\n",
    "!rm 'expressions_hvg_counts.h5seurat'\n",
    "!rm 'protein_counts.h5seurat'\n",
    "!rm 'integrated_kotliarov.h5Seurat'"
   ]
  },
  {
   "cell_type": "code",
   "execution_count": 29,
   "metadata": {},
   "outputs": [
    {
     "name": "stdout",
     "output_type": "stream",
     "text": [
      "R version 4.0.3 (2020-10-10)\n",
      "Platform: x86_64-apple-darwin17.0 (64-bit)\n",
      "Running under: macOS Big Sur 10.16\n",
      "\n",
      "Matrix products: default\n",
      "BLAS:   /Users/alitinet/opt/miniconda3/envs/scmulti/lib/python3.7/site-packages/numpy/.dylibs/libopenblas.0.dylib\n",
      "LAPACK: /Library/Frameworks/R.framework/Versions/4.0/Resources/lib/libRlapack.dylib\n",
      "\n",
      "locale:\n",
      "[1] C/UTF-8/C/C/C/C\n",
      "\n",
      "attached base packages:\n",
      "[1] tools     stats     graphics  grDevices utils     datasets  methods  \n",
      "[8] base     \n",
      "\n",
      "other attached packages:\n",
      "[1] SeuratDisk_0.0.0.9013 Seurat_3.9.9.9010    \n",
      "\n",
      "loaded via a namespace (and not attached):\n",
      "  [1] nlme_3.1-150          matrixStats_0.57.0    bit64_4.0.5          \n",
      "  [4] RcppAnnoy_0.0.18      RColorBrewer_1.1-2    httr_1.4.2           \n",
      "  [7] sctransform_0.3.1     R6_2.5.0              irlba_2.3.3          \n",
      " [10] rpart_4.1-15          KernSmooth_2.23-18    uwot_0.1.9.9000      \n",
      " [13] lazyeval_0.2.2        mgcv_1.8-33           colorspace_2.0-0     \n",
      " [16] withr_2.3.0           tidyselect_1.1.0      gridExtra_2.3        \n",
      " [19] bit_4.0.4             compiler_4.0.3        cli_2.2.0            \n",
      " [22] hdf5r_1.3.3           plotly_4.9.2.1        scales_1.1.1         \n",
      " [25] lmtest_0.9-38         spatstat.data_1.5-2   ggridges_0.5.2       \n",
      " [28] pbapply_1.4-3         spatstat_1.64-1       goftest_1.2-2        \n",
      " [31] stringr_1.4.0         digest_0.6.27         spatstat.utils_1.17-0\n",
      " [34] pkgconfig_2.0.3       htmltools_0.5.0       parallelly_1.21.0    \n",
      " [37] fastmap_1.0.1         htmlwidgets_1.5.2     rlang_0.4.10         \n",
      " [40] shiny_1.5.0           generics_0.1.0        zoo_1.8-8            \n",
      " [43] jsonlite_1.7.2        ica_1.0-2             dplyr_1.0.2          \n",
      " [46] magrittr_2.0.1        patchwork_1.1.0       Matrix_1.2-18        \n",
      " [49] fansi_0.4.1           Rcpp_1.0.5            munsell_0.5.0        \n",
      " [52] abind_1.4-5           reticulate_1.18       lifecycle_0.2.0      \n",
      " [55] stringi_1.5.3         MASS_7.3-53           Rtsne_0.15           \n",
      " [58] plyr_1.8.6            grid_4.0.3            parallel_4.0.3       \n",
      " [61] listenv_0.8.0         promises_1.1.1        ggrepel_0.9.0        \n",
      " [64] crayon_1.3.4          miniUI_0.1.1.1        deldir_0.2-3         \n",
      " [67] lattice_0.20-41       cowplot_1.1.1         splines_4.0.3        \n",
      " [70] tensor_1.5            pillar_1.4.7          igraph_1.2.6         \n",
      " [73] future.apply_1.6.0    reshape2_1.4.4        codetools_0.2-18     \n",
      " [76] leiden_0.3.6          glue_1.4.2            data.table_1.13.4    \n",
      " [79] png_0.1-7             vctrs_0.3.6           httpuv_1.5.4         \n",
      " [82] gtable_0.3.0          RANN_2.6.1            purrr_0.3.4          \n",
      " [85] polyclip_1.10-0       tidyr_1.1.2           assertthat_0.2.1     \n",
      " [88] future_1.20.1         ggplot2_3.3.3         rsvd_1.0.3           \n",
      " [91] mime_0.9              xtable_1.8-4          RSpectra_0.16-0      \n",
      " [94] later_1.1.0.1         survival_3.2-7        viridisLite_0.3.0    \n",
      " [97] tibble_3.0.4          cluster_2.1.0         globals_0.14.0       \n",
      "[100] fitdistrplus_1.1-3    ellipsis_0.3.1        ROCR_1.0-11          \n"
     ]
    }
   ],
   "source": [
    "%%R\n",
    "sessionInfo()"
   ]
  },
  {
   "cell_type": "code",
   "execution_count": null,
   "metadata": {},
   "outputs": [],
   "source": []
  }
 ],
 "metadata": {
  "kernelspec": {
   "display_name": "Python 3",
   "language": "python",
   "name": "python3"
  },
  "language_info": {
   "codemirror_mode": {
    "name": "ipython",
    "version": 3
   },
   "file_extension": ".py",
   "mimetype": "text/x-python",
   "name": "python",
   "nbconvert_exporter": "python",
   "pygments_lexer": "ipython3",
   "version": "3.7.9"
  }
 },
 "nbformat": 4,
 "nbformat_minor": 4
}
