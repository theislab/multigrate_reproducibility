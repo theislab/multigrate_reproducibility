{
 "cells": [
  {
   "cell_type": "code",
   "execution_count": 1,
   "metadata": {},
   "outputs": [],
   "source": [
    "import warnings\n",
    "warnings.simplefilter(action='ignore', category=FutureWarning)\n",
    "\n",
    "import scanpy as sc\n",
    "import anndata as ad\n",
    "import numpy as np\n",
    "import pandas as pd\n",
    "import anndata2ri\n",
    "import gdown\n",
    "import scipy\n",
    "import scipy.io\n",
    "from rpy2.robjects import r\n",
    "\n",
    "anndata2ri.activate()"
   ]
  },
  {
   "cell_type": "code",
   "execution_count": 2,
   "metadata": {},
   "outputs": [],
   "source": [
    "%load_ext rpy2.ipython"
   ]
  },
  {
   "cell_type": "code",
   "execution_count": 3,
   "metadata": {
    "scrolled": true
   },
   "outputs": [],
   "source": [
    "%%R\n",
    "suppressPackageStartupMessages({\n",
    "    library(SingleCellExperiment)\n",
    "    library(Seurat)\n",
    "    library(SeuratDisk)\n",
    "    library(Signac)\n",
    "})"
   ]
  },
  {
   "cell_type": "markdown",
   "metadata": {},
   "source": [
    "# Expressions"
   ]
  },
  {
   "cell_type": "markdown",
   "metadata": {},
   "source": [
    "## Load the data"
   ]
  },
  {
   "cell_type": "code",
   "execution_count": 5,
   "metadata": {},
   "outputs": [
    {
     "data": {
      "text/plain": [
       "AnnData object with n_obs × n_vars = 6334 × 4000\n",
       "    obs: 'n_genes', 'n_genes_by_counts', 'log1p_n_genes_by_counts', 'total_counts', 'log1p_total_counts', 'total_counts_mt', 'log1p_total_counts_mt', 'pct_counts_mt', 'cell_type', 'batch'\n",
       "    var: 'gene_ids', 'feature_types', 'genome', 'mt', 'n_cells-0', 'n_cells_by_counts-0', 'mean_counts-0', 'log1p_mean_counts-0', 'pct_dropout_by_counts-0', 'total_counts-0', 'log1p_total_counts-0', 'highly_variable-0', 'means-0', 'dispersions-0', 'dispersions_norm-0', 'n_cells-1', 'n_cells_by_counts-1', 'mean_counts-1', 'log1p_mean_counts-1', 'pct_dropout_by_counts-1', 'total_counts-1', 'log1p_total_counts-1', 'highly_variable-1', 'means-1', 'dispersions-1', 'dispersions_norm-1', 'highly_variable', 'means', 'dispersions', 'dispersions_norm'\n",
       "    uns: 'hvg'\n",
       "    obsm: 'X_pca'\n",
       "    layers: 'count'"
      ]
     },
     "execution_count": 5,
     "metadata": {},
     "output_type": "execute_result"
    }
   ],
   "source": [
    "adata = sc.read('../data/sagner-2021/expressions_hvg.h5ad')\n",
    "adata"
   ]
  },
  {
   "cell_type": "code",
   "execution_count": 6,
   "metadata": {},
   "outputs": [],
   "source": [
    "adata_ = ad.AnnData(adata.layers['count'])\n",
    "adata_.obs_names = adata.obs_names\n",
    "adata_.var_names = adata.var_names\n",
    "adata_.obs['cell_type'] = adata.obs['cell_type']\n",
    "adata_.obs['batch'] = adata.obs['batch']"
   ]
  },
  {
   "cell_type": "code",
   "execution_count": 7,
   "metadata": {},
   "outputs": [
    {
     "name": "stdout",
     "output_type": "stream",
     "text": [
      "An object of class Seurat \n",
      "4000 features across 6334 samples within 1 assay \n",
      "Active assay: RNA (4000 features, 0 variable features)\n"
     ]
    }
   ],
   "source": [
    "%%R -i adata_\n",
    "rna = as.Seurat(adata_, counts='X', data=NULL)\n",
    "rna"
   ]
  },
  {
   "cell_type": "markdown",
   "metadata": {},
   "source": [
    "# Peaks"
   ]
  },
  {
   "cell_type": "markdown",
   "metadata": {},
   "source": [
    "## Load the data"
   ]
  },
  {
   "cell_type": "code",
   "execution_count": 9,
   "metadata": {},
   "outputs": [
    {
     "data": {
      "text/plain": [
       "AnnData object with n_obs × n_vars = 6334 × 38313\n",
       "    obs: 'nb_features', 'cell_type', 'batch'\n",
       "    var: 'feature_types', 'genome', 'gene_ids-0', 'n_cells-0', 'commonness-0', 'prop_shared_cells-0', 'variability_score-0', 'gene_ids-1', 'n_cells-1', 'commonness-1', 'prop_shared_cells-1', 'variability_score-1'\n",
       "    layers: 'binary'"
      ]
     },
     "execution_count": 9,
     "metadata": {},
     "output_type": "execute_result"
    }
   ],
   "source": [
    "adata = sc.read('../data/sagner-2021/peaks.h5ad')\n",
    "adata"
   ]
  },
  {
   "cell_type": "code",
   "execution_count": 10,
   "metadata": {},
   "outputs": [],
   "source": [
    "adata_ = ad.AnnData(adata.layers['binary'])\n",
    "adata_.obs_names = adata.obs_names\n",
    "adata_.var_names = adata.var_names\n",
    "adata_.obs['cell_type'] = adata.obs['cell_type']\n",
    "adata_.obs['batch'] = adata.obs['batch']"
   ]
  },
  {
   "cell_type": "code",
   "execution_count": 11,
   "metadata": {},
   "outputs": [
    {
     "name": "stdout",
     "output_type": "stream",
     "text": [
      "An object of class Seurat \n",
      "38313 features across 6334 samples within 1 assay \n",
      "Active assay: RNA (38313 features, 0 variable features)\n"
     ]
    }
   ],
   "source": [
    "%%R -i adata_\n",
    "peaks = as.Seurat(adata_, counts='X', data=NULL)\n",
    "peaks"
   ]
  },
  {
   "cell_type": "markdown",
   "metadata": {},
   "source": [
    "# Integrate RNA batches\n",
    "Following https://satijalab.org/seurat/articles/integration_introduction.html"
   ]
  },
  {
   "cell_type": "code",
   "execution_count": 12,
   "metadata": {},
   "outputs": [
    {
     "name": "stderr",
     "output_type": "stream",
     "text": [
      "R[write to console]: Calculating cell attributes from input UMI matrix: log_umi\n",
      "\n",
      "R[write to console]: Variance stabilizing transformation of count matrix of size 3483 by 2859\n",
      "\n",
      "R[write to console]: Model formula is y ~ log_umi\n",
      "\n",
      "R[write to console]: Get Negative Binomial regression parameters per gene\n",
      "\n",
      "R[write to console]: Using 2000 genes, 2859 cells\n",
      "\n"
     ]
    },
    {
     "name": "stdout",
     "output_type": "stream",
     "text": [
      "  |======================================================================| 100%\n"
     ]
    },
    {
     "name": "stderr",
     "output_type": "stream",
     "text": [
      "R[write to console]: Found 1 outliers - those will be ignored in fitting/regularization step\n",
      "\n",
      "\n",
      "R[write to console]: Second step: Get residuals using fitted parameters for 3483 genes\n",
      "\n"
     ]
    },
    {
     "name": "stdout",
     "output_type": "stream",
     "text": [
      "  |======================================================================| 100%\n"
     ]
    },
    {
     "name": "stderr",
     "output_type": "stream",
     "text": [
      "R[write to console]: Computing corrected count matrix for 3483 genes\n",
      "\n"
     ]
    },
    {
     "name": "stdout",
     "output_type": "stream",
     "text": [
      "  |======================================================================| 100%\n"
     ]
    },
    {
     "name": "stderr",
     "output_type": "stream",
     "text": [
      "R[write to console]: Calculating gene attributes\n",
      "\n",
      "R[write to console]: Wall clock passed: Time difference of 1.704511 mins\n",
      "\n",
      "R[write to console]: Determine variable features\n",
      "\n",
      "R[write to console]: Place corrected count matrix in counts slot\n",
      "\n",
      "R[write to console]: Centering data matrix\n",
      "\n",
      "  |                                                                            \n",
      "  |                                                                      |   0%\n",
      "  |                                                                            \n",
      "  |==============                                                        |  20%\n",
      "  |                                                                            \n",
      "  |============================                                          |  40%\n",
      "  |                                                                            \n",
      "  |==========================================                            |  60%\n",
      "  |                                                                            \n",
      "  |========================================================              |  80%\n",
      "  |                                                                            \n",
      "  |======================================================================| 100%\n",
      "R[write to console]: \n",
      "\n",
      "R[write to console]: Set default assay to SCT\n",
      "\n",
      "R[write to console]: Calculating cell attributes from input UMI matrix: log_umi\n",
      "\n",
      "R[write to console]: Variance stabilizing transformation of count matrix of size 3548 by 3475\n",
      "\n",
      "R[write to console]: Model formula is y ~ log_umi\n",
      "\n",
      "R[write to console]: Get Negative Binomial regression parameters per gene\n",
      "\n",
      "R[write to console]: Using 2000 genes, 3475 cells\n",
      "\n"
     ]
    },
    {
     "name": "stdout",
     "output_type": "stream",
     "text": [
      "  |======================================================================| 100%\n"
     ]
    },
    {
     "name": "stderr",
     "output_type": "stream",
     "text": [
      "R[write to console]: Found 2 outliers - those will be ignored in fitting/regularization step\n",
      "\n",
      "\n",
      "R[write to console]: Second step: Get residuals using fitted parameters for 3548 genes\n",
      "\n"
     ]
    },
    {
     "name": "stdout",
     "output_type": "stream",
     "text": [
      "  |======================================================================| 100%\n"
     ]
    },
    {
     "name": "stderr",
     "output_type": "stream",
     "text": [
      "R[write to console]: Computing corrected count matrix for 3548 genes\n",
      "\n"
     ]
    },
    {
     "name": "stdout",
     "output_type": "stream",
     "text": [
      "  |======================================================================| 100%\n"
     ]
    },
    {
     "name": "stderr",
     "output_type": "stream",
     "text": [
      "R[write to console]: Calculating gene attributes\n",
      "\n",
      "R[write to console]: Wall clock passed: Time difference of 1.74686 mins\n",
      "\n",
      "R[write to console]: Determine variable features\n",
      "\n",
      "R[write to console]: Place corrected count matrix in counts slot\n",
      "\n",
      "R[write to console]: Centering data matrix\n",
      "\n",
      "  |                                                                            \n",
      "  |                                                                      |   0%\n",
      "  |                                                                            \n",
      "  |==============                                                        |  20%\n",
      "  |                                                                            \n",
      "  |============================                                          |  40%\n",
      "  |                                                                            \n",
      "  |==========================================                            |  60%\n",
      "  |                                                                            \n",
      "  |========================================================              |  80%\n",
      "  |                                                                            \n",
      "  |======================================================================| 100%\n",
      "R[write to console]: \n",
      "\n",
      "R[write to console]: Set default assay to SCT\n",
      "\n"
     ]
    },
    {
     "name": "stdout",
     "output_type": "stream",
     "text": [
      "  |                                                  | 0 % ~calculating   |+++++++++++++++++++++++++                         | 50% ~03s           |++++++++++++++++++++++++++++++++++++++++++++++++++| 100% elapsed=07s  \n"
     ]
    }
   ],
   "source": [
    "%%R\n",
    "rna.list <- SplitObject(rna, split.by = \"batch\")\n",
    "rna.list <- lapply(X = rna.list, FUN = SCTransform, variable.features.n = 4000)\n",
    "features <- SelectIntegrationFeatures(object.list = rna.list, nfeatures = 4000)\n",
    "rna.list <- PrepSCTIntegration(object.list = rna.list, anchor.features = features)"
   ]
  },
  {
   "cell_type": "code",
   "execution_count": 13,
   "metadata": {
    "scrolled": true
   },
   "outputs": [
    {
     "name": "stderr",
     "output_type": "stream",
     "text": [
      "R[write to console]: Finding all pairwise anchors\n",
      "\n"
     ]
    },
    {
     "name": "stdout",
     "output_type": "stream",
     "text": [
      "  |                                                  | 0 % ~calculating  "
     ]
    },
    {
     "name": "stderr",
     "output_type": "stream",
     "text": [
      "R[write to console]: Running CCA\n",
      "\n",
      "R[write to console]: Merging objects\n",
      "\n",
      "R[write to console]: Finding neighborhoods\n",
      "\n",
      "R[write to console]: Finding anchors\n",
      "\n",
      "R[write to console]: \tFound 8197 anchors\n",
      "\n",
      "R[write to console]: Filtering anchors\n",
      "\n",
      "R[write to console]: \tRetained 6134 anchors\n",
      "\n"
     ]
    },
    {
     "name": "stdout",
     "output_type": "stream",
     "text": [
      "  |++++++++++++++++++++++++++++++++++++++++++++++++++| 100% elapsed=01m 13s\n"
     ]
    },
    {
     "name": "stderr",
     "output_type": "stream",
     "text": [
      "R[write to console]: Merging dataset 1 into 2\n",
      "\n",
      "R[write to console]: Extracting anchors for merged samples\n",
      "\n",
      "R[write to console]: Finding integration vectors\n",
      "\n",
      "R[write to console]: Finding integration vector weights\n",
      "\n",
      "R[write to console]: 0%   10   20   30   40   50   60   70   80   90   100%\n",
      "\n",
      "R[write to console]: [----|----|----|----|----|----|----|----|----|----|\n",
      "\n",
      "R[write to console]: *\n",
      "R[write to console]: *\n",
      "R[write to console]: *\n",
      "R[write to console]: *\n",
      "R[write to console]: *\n",
      "R[write to console]: *\n",
      "R[write to console]: *\n",
      "R[write to console]: *\n",
      "R[write to console]: *\n",
      "R[write to console]: *\n",
      "R[write to console]: *\n",
      "R[write to console]: *\n",
      "R[write to console]: *\n",
      "R[write to console]: *\n",
      "R[write to console]: *\n",
      "R[write to console]: *\n",
      "R[write to console]: *\n",
      "R[write to console]: *\n",
      "R[write to console]: *\n",
      "R[write to console]: *\n",
      "R[write to console]: *\n",
      "R[write to console]: *\n",
      "R[write to console]: *\n",
      "R[write to console]: *\n",
      "R[write to console]: *\n",
      "R[write to console]: *\n",
      "R[write to console]: *\n",
      "R[write to console]: *\n",
      "R[write to console]: *\n",
      "R[write to console]: *\n",
      "R[write to console]: *\n",
      "R[write to console]: *\n",
      "R[write to console]: *\n",
      "R[write to console]: *\n",
      "R[write to console]: *\n",
      "R[write to console]: *\n",
      "R[write to console]: *\n",
      "R[write to console]: *\n",
      "R[write to console]: *\n",
      "R[write to console]: *\n",
      "R[write to console]: *\n",
      "R[write to console]: *\n",
      "R[write to console]: *\n",
      "R[write to console]: *\n",
      "R[write to console]: *\n",
      "R[write to console]: *\n",
      "R[write to console]: *\n",
      "R[write to console]: *\n",
      "R[write to console]: *\n",
      "R[write to console]: *\n",
      "R[write to console]: |\n",
      "\n",
      "R[write to console]: Integrating data\n",
      "\n"
     ]
    }
   ],
   "source": [
    "%%R\n",
    "anchors <- FindIntegrationAnchors(object.list = rna.list, normalization.method = \"SCT\", \n",
    "    anchor.features = features)\n",
    "integrated <- IntegrateData(anchorset = anchors, normalization.method = \"SCT\")"
   ]
  },
  {
   "cell_type": "code",
   "execution_count": 14,
   "metadata": {},
   "outputs": [
    {
     "name": "stderr",
     "output_type": "stream",
     "text": [
      "R[write to console]: PC_ 1 \n",
      "Positive:  PLXDC2, VCAN, SLC8A1, FCN1, LRMDA, RBM47, LYN, MCTP1, AC020916.1, DMXL2 \n",
      "\t   CSF3R, IRAK3, PSAP, SAT1, NEAT1, CD83, HDAC9, PLAUR, SLC11A1, MARCH1 \n",
      "\t   RRP12, CLEC12A, FGD4, HLA-DRA, PID1, LRRK2, CLEC7A, CREB5, GRK3, CST3 \n",
      "Negative:  SKAP1, CD247, PRKCH, BCL11B, CAMK4, RORA, IL7R, INPP4B, TC2N, SYNE2 \n",
      "\t   LEF1, CD96, THEMIS, STAT4, ANK3, TXK, GNLY, PRKCQ, ITK, BACH2 \n",
      "\t   TRAC, SLFN12L, BCL2, PRF1, CD69, ETS1, SCML4, LINC01934, NCALD, TCF7 \n",
      "PC_ 2 \n",
      "Positive:  BANK1, AFF3, CD79A, MS4A1, IGHM, EBF1, RALGPS2, PAX5, FCRL1, OSBPL10 \n",
      "\t   IGHD, BACH2, COL19A1, BLK, LINC00926, CD74, HLA-DQA1, LIX1-AS1, CD79B, ADAM28 \n",
      "\t   HLA-DQB1, HLA-DRA, HLA-DRB1, GNG7, COBLL1, NIBAN3, PLEKHG1, LARGE1, IGKC, KHDRBS2 \n",
      "Negative:  GNLY, PRF1, NKG7, AOAH, PLCB1, FGFBP2, ARHGAP26, SPON2, CCL5, KLRD1 \n",
      "\t   GZMA, CD247, GZMB, CST7, GZMH, TGFBR3, CTSW, BNC2, NEAT1, PRKCH \n",
      "\t   IL2RB, ADGRG1, NCALD, KLRF1, MYOM2, PPP2R2B, PLXDC2, FCGR3A, CCL4, PDGFD \n",
      "PC_ 3 \n",
      "Positive:  GNLY, PRF1, NKG7, FGFBP2, SPON2, GZMB, KLRD1, GZMH, BNC2, GZMA \n",
      "\t   CST7, ADGRG1, KLRF1, MYOM2, IL2RB, MCTP2, PDGFD, CCL5, AUTS2, BANK1 \n",
      "\t   CTSW, FCGR3A, NCAM1, TGFBR3, CCL4, C1orf21, PRSS23, GRIK4, PTGDS, MS4A1 \n",
      "Negative:  LEF1, CAMK4, INPP4B, IL7R, PRKCA, SERINC5, MAML2, PDE3B, NELL2, THEMIS \n",
      "\t   BCL11B, PLCL1, ANK3, TSHZ2, TRAC, TCF7, TRABD2A, CDC14A, CCR7, RCAN3 \n",
      "\t   ITK, OXNAD1, NR3C2, MLLT3, AC139720.1, FHIT, FKBP5, TC2N, MAL, RETREG1 \n",
      "PC_ 4 \n",
      "Positive:  LEF1, APBA2, TXK, FGFBP2, FCGR3A, BNC2, MYOM2, SPON2, FHIT, BACH2 \n",
      "\t   AK5, CCR7, IGF1R, GRIK4, GZMB, KLRF1, NELL2, ATP10A, CD7, PTGDS \n",
      "\t   SERINC5, LINC01505, TRABD2A, FCER1G, PRSS23, CX3CR1, IGFBP7, MAML2, TSHZ2, LDB2 \n",
      "Negative:  SLC4A10, AL136456.1, GZMK, A2M, ADAM12, PHACTR2, KLRG1, PZP, IFNG-AS1, A2M-AS1 \n",
      "\t   IL4I1, IL23R, SCART1, LINC01644, AGAP1, LTK, LINC00612, TRGC2, TRGC1, NIBAN1 \n",
      "\t   PLCB1, RORA, IL7R, CXCR6, CCL5, LINC00944, ME1, SYTL2, AC093865.1, IKZF2 \n",
      "PC_ 5 \n",
      "Positive:  VCAN, DYSF, PLCB1, CSF3R, CXCL8, LINC00937, CD36, NCF1, FCAR, LUCAT1 \n",
      "\t   CREB5, ARHGAP24, GLT1D1, EREG, LIN7A, CRISPLD2, NRG1, CD14, NLRP12, AC020916.1 \n",
      "\t   PADI4, ACSL1, TREM1, NLRP3, PROK2, ARHGAP26, CLMN, AL163541.1, OLR1, KIF13A \n",
      "Negative:  CDKN1C, FCGR3A, TCF7L2, FMNL2, PAPSS2, CSF1R, CCDC26, LYPD2, LST1, MTSS1 \n",
      "\t   MS4A7, IFITM3, C1QA, CST3, CFD, AC092546.1, SETBP1, FCER1G, PTPN13, SERPINA1 \n",
      "\t   HMOX1, WARS, SNED1, HLA-DPA1, P2RX1, IFI30, FTL, UBASH3B, PPP1R17, CX3CR1 \n",
      "\n"
     ]
    }
   ],
   "source": [
    "%%R\n",
    "integrated <- RunPCA(integrated)"
   ]
  },
  {
   "cell_type": "markdown",
   "metadata": {},
   "source": [
    "# Integrate ATAC-seq batches"
   ]
  },
  {
   "cell_type": "code",
   "execution_count": 15,
   "metadata": {},
   "outputs": [
    {
     "name": "stderr",
     "output_type": "stream",
     "text": [
      "R[write to console]: Performing TF-IDF normalization\n",
      "\n",
      "R[write to console]: Performing TF-IDF normalization\n",
      "\n"
     ]
    }
   ],
   "source": [
    "%%R\n",
    "peaks.list <- SplitObject(peaks, split.by = \"batch\")\n",
    "\n",
    "for (i in 1:length(peaks.list)) {\n",
    "    peaks.list[[i]] <- RunTFIDF(peaks.list[[i]])\n",
    "    peaks.list[[i]] <- FindTopFeatures(peaks.list[[i]], min.cutoff = 50)\n",
    "}"
   ]
  },
  {
   "cell_type": "code",
   "execution_count": 16,
   "metadata": {},
   "outputs": [
    {
     "name": "stderr",
     "output_type": "stream",
     "text": [
      "R[write to console]: Running SVD\n",
      "\n",
      "R[write to console]: Scaling cell embeddings\n",
      "\n",
      "R[write to console]: Running SVD\n",
      "\n",
      "R[write to console]: Scaling cell embeddings\n",
      "\n"
     ]
    }
   ],
   "source": [
    "%%R\n",
    "for (i in 1:length(peaks.list)) {\n",
    "    peaks.list[[i]] <- RunSVD(peaks.list[[i]])\n",
    "}"
   ]
  },
  {
   "cell_type": "code",
   "execution_count": 17,
   "metadata": {},
   "outputs": [
    {
     "name": "stderr",
     "output_type": "stream",
     "text": [
      "R[write to console]: Scaling features for provided objects\n",
      "\n"
     ]
    },
    {
     "name": "stdout",
     "output_type": "stream",
     "text": [
      "  |                                                  | 0 % ~calculating   |+++++++++++++++++++++++++                         | 50% ~32s           |++++++++++++++++++++++++++++++++++++++++++++++++++| 100% elapsed=01m 08s\n"
     ]
    },
    {
     "name": "stderr",
     "output_type": "stream",
     "text": [
      "R[write to console]: Finding all pairwise anchors\n",
      "\n"
     ]
    },
    {
     "name": "stdout",
     "output_type": "stream",
     "text": [
      "  |                                                  | 0 % ~calculating  "
     ]
    },
    {
     "name": "stderr",
     "output_type": "stream",
     "text": [
      "R[write to console]: Running CCA\n",
      "\n",
      "R[write to console]: Merging objects\n",
      "\n",
      "R[write to console]: Finding neighborhoods\n",
      "\n",
      "R[write to console]: Finding anchors\n",
      "\n",
      "R[write to console]: \tFound 8779 anchors\n",
      "\n"
     ]
    },
    {
     "name": "stdout",
     "output_type": "stream",
     "text": [
      "  |++++++++++++++++++++++++++++++++++++++++++++++++++| 100% elapsed=56s  \n"
     ]
    }
   ],
   "source": [
    "%%R\n",
    "anchors <- FindIntegrationAnchors(\n",
    "  object.list = peaks.list,\n",
    "  anchor.features = rownames(peaks.list[[1]]),\n",
    "  k.filter = NA\n",
    ")"
   ]
  },
  {
   "cell_type": "code",
   "execution_count": 18,
   "metadata": {
    "scrolled": true
   },
   "outputs": [
    {
     "name": "stderr",
     "output_type": "stream",
     "text": [
      "R[write to console]: Merging dataset 2 into 1\n",
      "\n",
      "R[write to console]: Extracting anchors for merged samples\n",
      "\n",
      "R[write to console]: Finding integration vectors\n",
      "\n",
      "R[write to console]: Finding integration vector weights\n",
      "\n",
      "R[write to console]: 0%   10   20   30   40   50   60   70   80   90   100%\n",
      "\n",
      "R[write to console]: [----|----|----|----|----|----|----|----|----|----|\n",
      "\n",
      "R[write to console]: *\n",
      "R[write to console]: *\n",
      "R[write to console]: *\n",
      "R[write to console]: *\n",
      "R[write to console]: *\n",
      "R[write to console]: *\n",
      "R[write to console]: *\n",
      "R[write to console]: *\n",
      "R[write to console]: *\n",
      "R[write to console]: *\n",
      "R[write to console]: *\n",
      "R[write to console]: *\n",
      "R[write to console]: *\n",
      "R[write to console]: *\n",
      "R[write to console]: *\n",
      "R[write to console]: *\n",
      "R[write to console]: *\n",
      "R[write to console]: *\n",
      "R[write to console]: *\n",
      "R[write to console]: *\n",
      "R[write to console]: *\n",
      "R[write to console]: *\n",
      "R[write to console]: *\n",
      "R[write to console]: *\n",
      "R[write to console]: *\n",
      "R[write to console]: *\n",
      "R[write to console]: *\n",
      "R[write to console]: *\n",
      "R[write to console]: *\n",
      "R[write to console]: *\n",
      "R[write to console]: *\n",
      "R[write to console]: *\n",
      "R[write to console]: *\n",
      "R[write to console]: *\n",
      "R[write to console]: *\n",
      "R[write to console]: *\n",
      "R[write to console]: *\n",
      "R[write to console]: *\n",
      "R[write to console]: *\n",
      "R[write to console]: *\n",
      "R[write to console]: *\n",
      "R[write to console]: *\n",
      "R[write to console]: *\n",
      "R[write to console]: *\n",
      "R[write to console]: *\n",
      "R[write to console]: *\n",
      "R[write to console]: *\n",
      "R[write to console]: *\n",
      "R[write to console]: *\n",
      "R[write to console]: *\n",
      "R[write to console]: |\n",
      "\n",
      "R[write to console]: Integrating data\n",
      "\n"
     ]
    }
   ],
   "source": [
    "%%R\n",
    "integrated_atac <- IntegrateData(\n",
    "  anchorset = anchors,\n",
    "  weight.reduction = 'lsi',\n",
    "  dims = 2:30,\n",
    "  preserve.order = TRUE\n",
    ")"
   ]
  },
  {
   "cell_type": "code",
   "execution_count": 19,
   "metadata": {
    "scrolled": true
   },
   "outputs": [
    {
     "name": "stderr",
     "output_type": "stream",
     "text": [
      "R[write to console]: Running SVD\n",
      "\n",
      "R[write to console]: Scaling cell embeddings\n",
      "\n"
     ]
    }
   ],
   "source": [
    "%%R\n",
    "integrated_atac <- RunSVD(integrated_atac, n = 30, reduction.name = 'integratedLSI')"
   ]
  },
  {
   "cell_type": "markdown",
   "metadata": {},
   "source": [
    "# Run Seurat v4 WNN\n",
    "Following https://satijalab.org/seurat/v4.0/weighted_nearest_neighbor_analysis.html."
   ]
  },
  {
   "cell_type": "code",
   "execution_count": 20,
   "metadata": {},
   "outputs": [
    {
     "name": "stderr",
     "output_type": "stream",
     "text": [
      "R[write to console]: Calculating cell-specific modality weights\n",
      "\n",
      "R[write to console]: Finding 20 nearest neighbors for each modality.\n",
      "\n"
     ]
    },
    {
     "name": "stdout",
     "output_type": "stream",
     "text": [
      "  |                                                  | 0 % ~calculating   |+++++++++++++++++++++++++                         | 50% ~04s           |++++++++++++++++++++++++++++++++++++++++++++++++++| 100% elapsed=08s  \n"
     ]
    },
    {
     "name": "stderr",
     "output_type": "stream",
     "text": [
      "R[write to console]: Calculating kernel bandwidths\n",
      "\n"
     ]
    },
    {
     "name": "stdout",
     "output_type": "stream",
     "text": [
      "  |                                                  | 0 % ~calculating   |+++++++++++++++++++++++++                         | 50% ~01s           |++++++++++++++++++++++++++++++++++++++++++++++++++| 100% elapsed=01s  \n"
     ]
    },
    {
     "name": "stderr",
     "output_type": "stream",
     "text": [
      "R[write to console]: Finding multimodal neighbors\n",
      "\n"
     ]
    },
    {
     "name": "stdout",
     "output_type": "stream",
     "text": [
      "  |                                                  | 0 % ~calculating   |+++++++++++++++++++++++++                         | 50% ~11s           |++++++++++++++++++++++++++++++++++++++++++++++++++| 100% elapsed=26s  \n",
      "  |                                                  | 0 % ~calculating   |+++++++++++++++++++++++++                         | 50% ~02s           |++++++++++++++++++++++++++++++++++++++++++++++++++| 100% elapsed=02s  \n"
     ]
    },
    {
     "name": "stderr",
     "output_type": "stream",
     "text": [
      "R[write to console]: Constructing multimodal KNN graph\n",
      "\n",
      "R[write to console]: Constructing multimodal SNN graph\n",
      "\n",
      "R[write to console]: Computing sPCA transformation\n",
      "\n",
      "R[write to console]: Creating h5Seurat file for version 3.1.5.9900\n",
      "\n",
      "R[write to console]: Adding counts for RNA\n",
      "\n",
      "R[write to console]: Adding data for RNA\n",
      "\n",
      "R[write to console]: No variable features found for RNA\n",
      "\n",
      "R[write to console]: No feature-level metadata found for RNA\n",
      "\n",
      "R[write to console]: Adding counts for SCT\n",
      "\n",
      "R[write to console]: Adding data for SCT\n",
      "\n",
      "R[write to console]: Adding scale.data for SCT\n",
      "\n",
      "R[write to console]: No variable features found for SCT\n",
      "\n",
      "R[write to console]: No feature-level metadata found for SCT\n",
      "\n",
      "R[write to console]: Writing out SCTModel.list for SCT\n",
      "\n",
      "R[write to console]: Adding data for integrated\n",
      "\n",
      "R[write to console]: Adding scale.data for integrated\n",
      "\n",
      "R[write to console]: Adding variable features for integrated\n",
      "\n",
      "R[write to console]: No feature-level metadata found for integrated\n",
      "\n",
      "R[write to console]: Writing out SCTModel.list for integrated\n",
      "\n",
      "R[write to console]: Adding data for IATAC\n",
      "\n",
      "R[write to console]: Adding variable features for IATAC\n",
      "\n",
      "R[write to console]: No feature-level metadata found for IATAC\n",
      "\n",
      "R[write to console]: Adding cell embeddings for pca\n",
      "\n",
      "R[write to console]: Adding loadings for pca\n",
      "\n",
      "R[write to console]: No projected loadings for pca\n",
      "\n",
      "R[write to console]: Adding standard deviations for pca\n",
      "\n",
      "R[write to console]: No JackStraw data for pca\n",
      "\n",
      "R[write to console]: Adding cell embeddings for integratedLSI\n",
      "\n",
      "R[write to console]: Adding loadings for integratedLSI\n",
      "\n",
      "R[write to console]: No projected loadings for integratedLSI\n",
      "\n",
      "R[write to console]: Adding standard deviations for integratedLSI\n",
      "\n",
      "R[write to console]: No JackStraw data for integratedLSI\n",
      "\n",
      "R[write to console]: Adding cell embeddings for spca\n",
      "\n",
      "R[write to console]: Adding loadings for spca\n",
      "\n",
      "R[write to console]: No projected loadings for spca\n",
      "\n",
      "R[write to console]: Adding standard deviations for spca\n",
      "\n",
      "R[write to console]: No JackStraw data for spca\n",
      "\n"
     ]
    }
   ],
   "source": [
    "%%R\n",
    "integrated[[\"IATAC\"]] <- integrated_atac[[\"integrated\"]]\n",
    "integrated[[\"integratedLSI\"]] <- integrated_atac[[\"integratedLSI\"]]\n",
    "\n",
    "integrated <- FindMultiModalNeighbors(integrated, reduction.list = list(\"pca\", \"integratedLSI\"), \n",
    "                              dims.list = list(1:50, 2:30), modality.weight.name = \"RNA.weight\")\n",
    "\n",
    "integrated <- RunSPCA(integrated, assay = 'integrated', graph = 'wsnn', npcs = 20)\n",
    "\n",
    "SaveH5Seurat(integrated, 'sagner-seurat.h5seurat', overwrite = TRUE)"
   ]
  },
  {
   "cell_type": "code",
   "execution_count": 30,
   "metadata": {},
   "outputs": [],
   "source": [
    "# otherwise convertion to an AnnData object throws errors\n",
    "%%R\n",
    "integrated[[\"integratedLSI\"]] <- NULL"
   ]
  },
  {
   "cell_type": "code",
   "execution_count": 31,
   "metadata": {},
   "outputs": [
    {
     "name": "stderr",
     "output_type": "stream",
     "text": [
      "R[write to console]: Warning:\n",
      "R[write to console]:  Overwriting previous file sagner-seurat.h5seurat\n",
      "\n",
      "R[write to console]: Creating h5Seurat file for version 3.1.5.9900\n",
      "\n",
      "R[write to console]: Adding counts for RNA\n",
      "\n",
      "R[write to console]: Adding data for RNA\n",
      "\n",
      "R[write to console]: No variable features found for RNA\n",
      "\n",
      "R[write to console]: No feature-level metadata found for RNA\n",
      "\n",
      "R[write to console]: Adding counts for SCT\n",
      "\n",
      "R[write to console]: Adding data for SCT\n",
      "\n",
      "R[write to console]: Adding scale.data for SCT\n",
      "\n",
      "R[write to console]: No variable features found for SCT\n",
      "\n",
      "R[write to console]: No feature-level metadata found for SCT\n",
      "\n",
      "R[write to console]: Writing out SCTModel.list for SCT\n",
      "\n",
      "R[write to console]: Adding data for integrated\n",
      "\n",
      "R[write to console]: Adding scale.data for integrated\n",
      "\n",
      "R[write to console]: Adding variable features for integrated\n",
      "\n",
      "R[write to console]: No feature-level metadata found for integrated\n",
      "\n",
      "R[write to console]: Writing out SCTModel.list for integrated\n",
      "\n",
      "R[write to console]: Adding data for IATAC\n",
      "\n",
      "R[write to console]: Adding variable features for IATAC\n",
      "\n",
      "R[write to console]: No feature-level metadata found for IATAC\n",
      "\n",
      "R[write to console]: Adding cell embeddings for pca\n",
      "\n",
      "R[write to console]: Adding loadings for pca\n",
      "\n",
      "R[write to console]: No projected loadings for pca\n",
      "\n",
      "R[write to console]: Adding standard deviations for pca\n",
      "\n",
      "R[write to console]: No JackStraw data for pca\n",
      "\n",
      "R[write to console]: Adding cell embeddings for spca\n",
      "\n",
      "R[write to console]: Adding loadings for spca\n",
      "\n",
      "R[write to console]: No projected loadings for spca\n",
      "\n",
      "R[write to console]: Adding standard deviations for spca\n",
      "\n",
      "R[write to console]: No JackStraw data for spca\n",
      "\n"
     ]
    }
   ],
   "source": [
    "%%R\n",
    "SaveH5Seurat(integrated, 'sagner-seurat.h5seurat', overwrite = TRUE)"
   ]
  },
  {
   "cell_type": "code",
   "execution_count": 32,
   "metadata": {},
   "outputs": [
    {
     "name": "stderr",
     "output_type": "stream",
     "text": [
      "R[write to console]: Validating h5Seurat file\n",
      "\n",
      "R[write to console]: Adding scale.data from integrated as X\n",
      "\n",
      "R[write to console]: Adding data from integrated as raw\n",
      "\n",
      "R[write to console]: Transfering meta.data to obs\n",
      "\n",
      "R[write to console]: Adding dimensional reduction information for pca\n",
      "\n",
      "R[write to console]: Adding feature loadings for pca\n",
      "\n",
      "R[write to console]: Adding dimensional reduction information for spca\n",
      "\n",
      "R[write to console]: Adding feature loadings for spca\n",
      "\n",
      "R[write to console]: Adding wsnn as neighbors\n",
      "\n",
      "R[write to console]: Adding scale.data from SCT as a layer\n",
      "\n"
     ]
    }
   ],
   "source": [
    "%%R\n",
    "Convert(\"sagner-seurat.h5seurat\", assay=\"integrated\", \"sagner-seurat.h5ad\", overwrite=TRUE)"
   ]
  },
  {
   "cell_type": "code",
   "execution_count": 33,
   "metadata": {},
   "outputs": [
    {
     "data": {
      "text/plain": [
       "AnnData object with n_obs × n_vars = 6334 × 3361\n",
       "    obs: 'cell_type', 'batch', 'nCount_RNA', 'nFeature_RNA', 'nCount_SCT', 'nFeature_SCT', 'integrated.weight'\n",
       "    var: 'features', 'SCT_features'\n",
       "    uns: 'neighbors'\n",
       "    obsm: 'X_pca', 'X_spca'\n",
       "    varm: 'PCs', 'SPCA'\n",
       "    layers: 'SCT'\n",
       "    obsp: 'distances'"
      ]
     },
     "execution_count": 33,
     "metadata": {},
     "output_type": "execute_result"
    }
   ],
   "source": [
    "integrated = sc.read('sagner-seurat.h5ad')\n",
    "integrated"
   ]
  },
  {
   "cell_type": "code",
   "execution_count": 35,
   "metadata": {},
   "outputs": [],
   "source": [
    "latent = sc.AnnData(integrated.obsm['X_spca'])\n",
    "latent.obs = integrated.obs\n",
    "latent.obsp['connectivities'] = integrated.uns['neighbors']['distances']"
   ]
  },
  {
   "cell_type": "code",
   "execution_count": 36,
   "metadata": {},
   "outputs": [
    {
     "name": "stderr",
     "output_type": "stream",
     "text": [
      "... storing 'cell_type' as categorical\n",
      "... storing 'batch' as categorical\n"
     ]
    }
   ],
   "source": [
    "latent.write('../data/integrated/seurat/sagner-seurat.h5ad')"
   ]
  },
  {
   "cell_type": "code",
   "execution_count": 37,
   "metadata": {},
   "outputs": [],
   "source": [
    "!rm 'sagner-seurat.h5seurat'\n",
    "!rm 'sagner-seurat.h5ad'"
   ]
  },
  {
   "cell_type": "code",
   "execution_count": 38,
   "metadata": {},
   "outputs": [
    {
     "name": "stdout",
     "output_type": "stream",
     "text": [
      "R version 4.0.3 (2020-10-10)\n",
      "Platform: x86_64-conda-linux-gnu (64-bit)\n",
      "Running under: CentOS Linux 7 (Core)\n",
      "\n",
      "Matrix products: default\n",
      "BLAS/LAPACK: /mnt/home/icb/anastasia.litinetskaya/miniconda3/envs/signac/lib/libopenblasp-r0.3.10.so\n",
      "\n",
      "locale:\n",
      " [1] LC_CTYPE=C                 LC_NUMERIC=C              \n",
      " [3] LC_TIME=en_US.UTF-8        LC_COLLATE=en_US.UTF-8    \n",
      " [5] LC_MONETARY=en_US.UTF-8    LC_MESSAGES=en_US.UTF-8   \n",
      " [7] LC_PAPER=en_US.UTF-8       LC_NAME=C                 \n",
      " [9] LC_ADDRESS=C               LC_TELEPHONE=C            \n",
      "[11] LC_MEASUREMENT=en_US.UTF-8 LC_IDENTIFICATION=C       \n",
      "\n",
      "attached base packages:\n",
      " [1] parallel  stats4    tools     stats     graphics  grDevices utils    \n",
      " [8] datasets  methods   base     \n",
      "\n",
      "other attached packages:\n",
      " [1] Matrix_1.3-2                Signac_1.1.1               \n",
      " [3] SeuratDisk_0.0.0.9018       SeuratObject_4.0.0         \n",
      " [5] Seurat_4.0.0                SingleCellExperiment_1.12.0\n",
      " [7] SummarizedExperiment_1.20.0 Biobase_2.50.0             \n",
      " [9] GenomicRanges_1.42.0        GenomeInfoDb_1.26.0        \n",
      "[11] IRanges_2.24.0              S4Vectors_0.28.0           \n",
      "[13] BiocGenerics_0.36.0         MatrixGenerics_1.2.0       \n",
      "[15] matrixStats_0.58.0         \n",
      "\n",
      "loaded via a namespace (and not attached):\n",
      "  [1] utf8_1.1.4               reticulate_1.18          tidyselect_1.1.0        \n",
      "  [4] RSQLite_2.2.3            AnnotationDbi_1.52.0     htmlwidgets_1.5.3       \n",
      "  [7] grid_4.0.3               BiocParallel_1.24.0      Rtsne_0.15              \n",
      " [10] munsell_0.5.0            codetools_0.2-18         ica_1.0-2               \n",
      " [13] future_1.21.0            miniUI_0.1.1.1           withr_2.4.1             \n",
      " [16] colorspace_2.0-0         OrganismDbi_1.32.0       knitr_1.31              \n",
      " [19] rstudioapi_0.13          ROCR_1.0-11              tensor_1.5              \n",
      " [22] listenv_0.8.0            GenomeInfoDbData_1.2.4   polyclip_1.10-0         \n",
      " [25] farver_2.1.0             bit64_4.0.5              parallelly_1.23.0       \n",
      " [28] vctrs_0.3.6              generics_0.1.0           xfun_0.20               \n",
      " [31] biovizBase_1.38.0        BiocFileCache_1.14.0     lsa_0.73.2              \n",
      " [34] ggseqlogo_0.1            R6_2.5.0                 hdf5r_1.3.3             \n",
      " [37] AnnotationFilter_1.14.0  reshape_0.8.8            bitops_1.0-6            \n",
      " [40] spatstat.utils_2.0-0     cachem_1.0.4             DelayedArray_0.16.0     \n",
      " [43] assertthat_0.2.1         promises_1.2.0.1         scales_1.1.1            \n",
      " [46] nnet_7.3-15              gtable_0.3.0             globals_0.14.0          \n",
      " [49] goftest_1.2-2            ggbio_1.38.0             ensembldb_2.14.0        \n",
      " [52] rlang_0.4.10             RcppRoll_0.3.0           splines_4.0.3           \n",
      " [55] rtracklayer_1.50.0       lazyeval_0.2.2           dichromat_2.0-0         \n",
      " [58] checkmate_2.0.0          BiocManager_1.30.10      reshape2_1.4.4          \n",
      " [61] abind_1.4-5              GenomicFeatures_1.42.0   backports_1.2.1         \n",
      " [64] httpuv_1.5.5             Hmisc_4.5-0              RBGL_1.66.0             \n",
      " [67] ggplot2_3.3.3            ellipsis_0.3.1           RColorBrewer_1.1-2      \n",
      " [70] ggridges_0.5.3           Rcpp_1.0.6               plyr_1.8.6              \n",
      " [73] base64enc_0.1-3          progress_1.2.2           zlibbioc_1.36.0         \n",
      " [76] purrr_0.3.4              RCurl_1.98-1.2           prettyunits_1.1.1       \n",
      " [79] rpart_4.1-15             openssl_1.4.3            deldir_0.2-10           \n",
      " [82] pbapply_1.4-3            cowplot_1.1.1            zoo_1.8-8               \n",
      " [85] ggrepel_0.9.1            cluster_2.1.1            magrittr_2.0.1          \n",
      " [88] data.table_1.14.0        scattermore_0.7          lmtest_0.9-38           \n",
      " [91] RANN_2.6.1               SnowballC_0.7.0          ProtGenerics_1.22.0     \n",
      " [94] fitdistrplus_1.1-3       hms_1.0.0                patchwork_1.1.1         \n",
      " [97] mime_0.10                xtable_1.8-4             XML_3.99-0.5            \n",
      "[100] jpeg_0.1-8.1             gridExtra_2.3            compiler_4.0.3          \n",
      "[103] biomaRt_2.46.0           tibble_3.1.0             KernSmooth_2.23-18      \n",
      "[106] crayon_1.4.1             htmltools_0.5.1.1        mgcv_1.8-34             \n",
      "[109] later_1.1.0.1            Formula_1.2-4            tidyr_1.1.3             \n",
      "[112] DBI_1.1.1                tweenr_1.0.1             dbplyr_2.1.0            \n",
      "[115] MASS_7.3-53.1            rappdirs_0.3.3           cli_2.3.1               \n",
      "[118] igraph_1.2.6             pkgconfig_2.0.3          GenomicAlignments_1.26.0\n",
      "[121] foreign_0.8-81           plotly_4.9.3             xml2_1.3.2              \n",
      "[124] XVector_0.30.0           stringr_1.4.0            VariantAnnotation_1.36.0\n",
      "[127] digest_0.6.27            sctransform_0.3.2        RcppAnnoy_0.0.18        \n",
      "[130] graph_1.68.0             spatstat.data_2.0-0      Biostrings_2.58.0       \n",
      "[133] fastmatch_1.1-0          leiden_0.3.7             htmlTable_2.1.0         \n",
      "[136] uwot_0.1.10              curl_4.3                 shiny_1.6.0             \n",
      "[139] Rsamtools_2.6.0          lifecycle_1.0.0          nlme_3.1-152            \n",
      "[142] jsonlite_1.7.2           viridisLite_0.3.0        askpass_1.1             \n",
      "[145] BSgenome_1.58.0          fansi_0.4.2              pillar_1.5.0            \n",
      "[148] GGally_2.1.0             lattice_0.20-41          fastmap_1.1.0           \n",
      "[151] httr_1.4.2               survival_3.2-7           glue_1.4.2              \n",
      "[154] spatstat_1.64-1          png_0.1-7                bit_4.0.4               \n",
      "[157] ggforce_0.3.2            stringi_1.5.3            blob_1.2.1              \n",
      "[160] latticeExtra_0.6-29      memoise_2.0.0            dplyr_1.0.4             \n",
      "[163] irlba_2.3.3              future.apply_1.7.0      \n"
     ]
    }
   ],
   "source": [
    "%%R\n",
    "sessionInfo()"
   ]
  },
  {
   "cell_type": "markdown",
   "metadata": {},
   "source": [
    "# Visualize results"
   ]
  },
  {
   "cell_type": "code",
   "execution_count": 39,
   "metadata": {},
   "outputs": [],
   "source": [
    "sc.pp.neighbors(latent)\n",
    "sc.tl.umap(latent)"
   ]
  },
  {
   "cell_type": "code",
   "execution_count": 40,
   "metadata": {},
   "outputs": [
    {
     "data": {
      "image/png": "[encoded data removed]",
      "text/plain": [
       "<Figure size 494.64x576 with 2 Axes>"
      ]
     },
     "metadata": {},
     "output_type": "display_data"
    }
   ],
   "source": [
    "sc.pl.umap(latent, color=['cell_type', 'batch'], frameon=False, ncols=1)"
   ]
  },
  {
   "cell_type": "code",
   "execution_count": null,
   "metadata": {},
   "outputs": [],
   "source": []
  }
 ],
 "metadata": {
  "kernelspec": {
   "display_name": "Python 3",
   "language": "python",
   "name": "python3"
  },
  "language_info": {
   "codemirror_mode": {
    "name": "ipython",
    "version": 3
   },
   "file_extension": ".py",
   "mimetype": "text/x-python",
   "name": "python",
   "nbconvert_exporter": "python",
   "pygments_lexer": "ipython3",
   "version": "3.7.9"
  }
 },
 "nbformat": 4,
 "nbformat_minor": 4
}
