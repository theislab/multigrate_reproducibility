{
 "cells": [
  {
   "cell_type": "code",
   "execution_count": 1,
   "metadata": {},
   "outputs": [],
   "source": [
    "import warnings\n",
    "warnings.simplefilter(action='ignore', category=FutureWarning)\n",
    "\n",
    "import scanpy as sc\n",
    "import anndata as ad\n",
    "import numpy as np\n",
    "import pandas as pd\n",
    "import anndata2ri\n",
    "import gdown\n",
    "import scipy\n",
    "import scipy.io\n",
    "from rpy2.robjects import r\n",
    "\n",
    "anndata2ri.activate()"
   ]
  },
  {
   "cell_type": "code",
   "execution_count": 2,
   "metadata": {},
   "outputs": [],
   "source": [
    "%load_ext rpy2.ipython"
   ]
  },
  {
   "cell_type": "code",
   "execution_count": 3,
   "metadata": {
    "scrolled": true
   },
   "outputs": [],
   "source": [
    "%%R\n",
    "suppressPackageStartupMessages({\n",
    "    library(SingleCellExperiment)\n",
    "    library(Seurat)\n",
    "    library(SeuratDisk)\n",
    "    library(Signac)\n",
    "})"
   ]
  },
  {
   "cell_type": "markdown",
   "metadata": {},
   "source": [
    "# Expressions"
   ]
  },
  {
   "cell_type": "markdown",
   "metadata": {},
   "source": [
    "## Download the data"
   ]
  },
  {
   "cell_type": "code",
   "execution_count": 4,
   "metadata": {},
   "outputs": [
    {
     "name": "stderr",
     "output_type": "stream",
     "text": [
      "Downloading...\n",
      "From: https://drive.google.com/uc?id=1E3AT2wztvswn3p_N5kWEmk0_ZHaT3OWH\n",
      "To: /mnt/home/icb/anastasia.litinetskaya/multigrate/example/chen2019-expressions.h5ad\n",
      "9.00MB [00:00, 83.4MB/s]\n"
     ]
    },
    {
     "data": {
      "text/plain": [
       "'chen2019-expressions.h5ad'"
      ]
     },
     "execution_count": 4,
     "metadata": {},
     "output_type": "execute_result"
    }
   ],
   "source": [
    "gdown.download(\n",
    "    'https://drive.google.com/uc?id=1E3AT2wztvswn3p_N5kWEmk0_ZHaT3OWH',\n",
    "    'chen2019-expressions.h5ad'\n",
    ")"
   ]
  },
  {
   "cell_type": "code",
   "execution_count": 5,
   "metadata": {},
   "outputs": [],
   "source": [
    "adata = sc.read('chen2019-expressions.h5ad')"
   ]
  },
  {
   "cell_type": "code",
   "execution_count": 6,
   "metadata": {},
   "outputs": [],
   "source": [
    "adata_ = ad.AnnData(adata.layers['count'])\n",
    "adata_.obs_names = adata.obs_names\n",
    "adata_.var_names = adata.var_names\n",
    "adata_.obs['cell_type'] = adata.obs['cell_type']"
   ]
  },
  {
   "cell_type": "code",
   "execution_count": 7,
   "metadata": {},
   "outputs": [
    {
     "name": "stdout",
     "output_type": "stream",
     "text": [
      "An object of class Seurat \n",
      "4000 features across 4793 samples within 1 assay \n",
      "Active assay: RNA (4000 features, 0 variable features)\n"
     ]
    }
   ],
   "source": [
    "%%R -i adata_\n",
    "rna = as.Seurat(adata_, counts='X', data=NULL)\n",
    "rna"
   ]
  },
  {
   "cell_type": "markdown",
   "metadata": {},
   "source": [
    "# Peaks"
   ]
  },
  {
   "cell_type": "markdown",
   "metadata": {},
   "source": [
    "## Download the data"
   ]
  },
  {
   "cell_type": "code",
   "execution_count": 8,
   "metadata": {},
   "outputs": [
    {
     "name": "stderr",
     "output_type": "stream",
     "text": [
      "Downloading...\n",
      "From: https://drive.google.com/uc?id=13SdXwNDjG_UbnpCUnYqc2iHLwXEAjxNc\n",
      "To: /mnt/home/icb/anastasia.litinetskaya/multigrate/example/chen2019-peaks.h5ad\n",
      "106MB [00:01, 65.1MB/s] \n"
     ]
    },
    {
     "data": {
      "text/plain": [
       "'chen2019-peaks.h5ad'"
      ]
     },
     "execution_count": 8,
     "metadata": {},
     "output_type": "execute_result"
    }
   ],
   "source": [
    "gdown.download(\n",
    "    'https://drive.google.com/uc?id=13SdXwNDjG_UbnpCUnYqc2iHLwXEAjxNc',\n",
    "    'chen2019-peaks.h5ad'\n",
    ")"
   ]
  },
  {
   "cell_type": "code",
   "execution_count": 9,
   "metadata": {},
   "outputs": [],
   "source": [
    "adata = sc.read('chen2019-peaks.h5ad')"
   ]
  },
  {
   "cell_type": "code",
   "execution_count": 10,
   "metadata": {},
   "outputs": [],
   "source": [
    "adata_ = ad.AnnData(adata.layers['binary'])\n",
    "adata_.obs_names = adata.obs_names\n",
    "adata_.var_names = adata.var_names\n",
    "adata_.obs['cell_type'] = adata.obs['cell_type']"
   ]
  },
  {
   "cell_type": "code",
   "execution_count": 11,
   "metadata": {},
   "outputs": [
    {
     "name": "stdout",
     "output_type": "stream",
     "text": [
      "An object of class Seurat \n",
      "40623 features across 4793 samples within 1 assay \n",
      "Active assay: RNA (40623 features, 0 variable features)\n"
     ]
    }
   ],
   "source": [
    "%%R -i adata_\n",
    "peaks = as.Seurat(adata_, counts='X', data=NULL)\n",
    "peaks"
   ]
  },
  {
   "cell_type": "markdown",
   "metadata": {},
   "source": [
    "# Run Seurat v4 WNN\n",
    "Following https://satijalab.org/seurat/v4.0/weighted_nearest_neighbor_analysis.html."
   ]
  },
  {
   "cell_type": "code",
   "execution_count": 12,
   "metadata": {
    "scrolled": false
   },
   "outputs": [
    {
     "name": "stdout",
     "output_type": "stream",
     "text": [
      "[1] \"Preprocessing RNA...\"\n"
     ]
    },
    {
     "name": "stderr",
     "output_type": "stream",
     "text": [
      "R[write to console]: Warning:\n",
      "R[write to console]:  The default method for RunUMAP has changed from calling Python UMAP via reticulate to the R-native UWOT using the cosine metric\n",
      "To use Python UMAP via reticulate, set umap.method to 'umap-learn' and metric to 'correlation'\n",
      "This message will be shown once per session\n",
      "\n"
     ]
    },
    {
     "name": "stdout",
     "output_type": "stream",
     "text": [
      "[1] \"Preprocessing ATAC...\"\n"
     ]
    },
    {
     "name": "stderr",
     "output_type": "stream",
     "text": [
      "R[write to console]: Calculating cell-specific modality weights\n",
      "\n",
      "R[write to console]: Finding 20 nearest neighbors for each modality.\n",
      "\n"
     ]
    },
    {
     "name": "stdout",
     "output_type": "stream",
     "text": [
      "  |                                                  | 0 % ~calculating   |+++++++++++++++++++++++++                         | 50% ~02s           |++++++++++++++++++++++++++++++++++++++++++++++++++| 100% elapsed=04s  \n"
     ]
    },
    {
     "name": "stderr",
     "output_type": "stream",
     "text": [
      "R[write to console]: Calculating kernel bandwidths\n",
      "\n"
     ]
    },
    {
     "name": "stdout",
     "output_type": "stream",
     "text": [
      "  |                                                  | 0 % ~calculating   |+++++++++++++++++++++++++                         | 50% ~00s           |++++++++++++++++++++++++++++++++++++++++++++++++++| 100% elapsed=01s  \n"
     ]
    },
    {
     "name": "stderr",
     "output_type": "stream",
     "text": [
      "R[write to console]: Finding multimodal neighbors\n",
      "\n"
     ]
    },
    {
     "name": "stdout",
     "output_type": "stream",
     "text": [
      "  |                                                  | 0 % ~calculating   |+++++++++++++++++++++++++                         | 50% ~06s           |++++++++++++++++++++++++++++++++++++++++++++++++++| 100% elapsed=13s  \n",
      "  |                                                  | 0 % ~calculating   |+++++++++++++++++++++++++                         | 50% ~01s           |++++++++++++++++++++++++++++++++++++++++++++++++++| 100% elapsed=01s  \n"
     ]
    },
    {
     "name": "stderr",
     "output_type": "stream",
     "text": [
      "R[write to console]: Constructing multimodal KNN graph\n",
      "\n",
      "R[write to console]: Constructing multimodal SNN graph\n",
      "\n",
      "R[write to console]: Computing sPCA transformation\n",
      "\n",
      "R[write to console]: Creating h5Seurat file for version 3.1.5.9900\n",
      "\n",
      "R[write to console]: Adding counts for RNA\n",
      "\n",
      "R[write to console]: Adding data for RNA\n",
      "\n",
      "R[write to console]: No variable features found for RNA\n",
      "\n",
      "R[write to console]: No feature-level metadata found for RNA\n",
      "\n",
      "R[write to console]: Adding counts for ATAC\n",
      "\n",
      "R[write to console]: Adding data for ATAC\n",
      "\n",
      "R[write to console]: Adding variable features for ATAC\n",
      "\n",
      "R[write to console]: Adding feature-level metadata for ATAC\n",
      "\n",
      "R[write to console]: Adding counts for SCT\n",
      "\n",
      "R[write to console]: Adding data for SCT\n",
      "\n",
      "R[write to console]: Adding scale.data for SCT\n",
      "\n",
      "R[write to console]: Adding variable features for SCT\n",
      "\n",
      "R[write to console]: No feature-level metadata found for SCT\n",
      "\n",
      "R[write to console]: Writing out SCTModel.list for SCT\n",
      "\n",
      "R[write to console]: Adding cell embeddings for pca\n",
      "\n",
      "R[write to console]: Adding loadings for pca\n",
      "\n",
      "R[write to console]: No projected loadings for pca\n",
      "\n",
      "R[write to console]: Adding standard deviations for pca\n",
      "\n",
      "R[write to console]: No JackStraw data for pca\n",
      "\n",
      "R[write to console]: Adding cell embeddings for umap.rna\n",
      "\n",
      "R[write to console]: No loadings for umap.rna\n",
      "\n",
      "R[write to console]: No projected loadings for umap.rna\n",
      "\n",
      "R[write to console]: No standard deviations for umap.rna\n",
      "\n",
      "R[write to console]: No JackStraw data for umap.rna\n",
      "\n",
      "R[write to console]: Adding cell embeddings for lsi\n",
      "\n",
      "R[write to console]: Adding loadings for lsi\n",
      "\n",
      "R[write to console]: No projected loadings for lsi\n",
      "\n",
      "R[write to console]: Adding standard deviations for lsi\n",
      "\n",
      "R[write to console]: No JackStraw data for lsi\n",
      "\n",
      "R[write to console]: Adding cell embeddings for umap.atac\n",
      "\n",
      "R[write to console]: No loadings for umap.atac\n",
      "\n",
      "R[write to console]: No projected loadings for umap.atac\n",
      "\n",
      "R[write to console]: No standard deviations for umap.atac\n",
      "\n",
      "R[write to console]: No JackStraw data for umap.atac\n",
      "\n",
      "R[write to console]: Adding cell embeddings for spca\n",
      "\n",
      "R[write to console]: Adding loadings for spca\n",
      "\n",
      "R[write to console]: No projected loadings for spca\n",
      "\n",
      "R[write to console]: Adding standard deviations for spca\n",
      "\n",
      "R[write to console]: No JackStraw data for spca\n",
      "\n"
     ]
    }
   ],
   "source": [
    "%%R\n",
    "bm <- rna\n",
    "bm[[\"ATAC\"]] <- CreateAssayObject(counts = peaks@assays$RNA@counts)\n",
    "\n",
    "rm(rna)\n",
    "rm(peaks)\n",
    "\n",
    "print('Preprocessing RNA...')\n",
    "DefaultAssay(bm) <- \"RNA\"\n",
    "bm <- SCTransform(bm, variable.features.n = 4000, verbose=FALSE)\n",
    "bm <- RunPCA(bm, verbose=FALSE)\n",
    "bm <- RunUMAP(bm, dims = 1:50, reduction.name = 'umap.rna', reduction.key = 'rnaUMAP_', verbose=FALSE)\n",
    "\n",
    "print('Preprocessing ATAC...')\n",
    "DefaultAssay(bm) <- \"ATAC\"\n",
    "bm <- RunTFIDF(bm, verbose=FALSE)\n",
    "bm <- FindTopFeatures(bm, min.cutoff = 'q0', verbose=FALSE)\n",
    "bm <- RunSVD(bm, verbose=FALSE)\n",
    "bm <- RunUMAP(bm, reduction = 'lsi', dims = 2:50, reduction.name = \"umap.atac\", \n",
    "              reduction.key = \"atacUMAP_\", verbose=FALSE)\n",
    "\n",
    "bm <- FindMultiModalNeighbors(bm, reduction.list = list(\"pca\", \"lsi\"), \n",
    "                              dims.list = list(1:50, 2:50), modality.weight.name = \"RNA.weight\")\n",
    "\n",
    "bm <- RunSPCA(bm, assay = 'SCT', graph = 'wsnn', npcs = 20)\n",
    "\n",
    "SaveH5Seurat(bm, 'chen2019-seurat.h5seurat', overwrite = TRUE)"
   ]
  },
  {
   "cell_type": "code",
   "execution_count": 13,
   "metadata": {},
   "outputs": [
    {
     "name": "stderr",
     "output_type": "stream",
     "text": [
      "R[write to console]: Validating h5Seurat file\n",
      "\n",
      "R[write to console]: Adding scale.data from SCT as X\n",
      "\n",
      "R[write to console]: Adding data from SCT as raw\n",
      "\n",
      "R[write to console]: Transfering meta.data to obs\n",
      "\n",
      "R[write to console]: Adding dimensional reduction information for pca\n",
      "\n",
      "R[write to console]: Adding feature loadings for pca\n",
      "\n",
      "R[write to console]: Adding dimensional reduction information for spca\n",
      "\n",
      "R[write to console]: Adding feature loadings for spca\n",
      "\n",
      "R[write to console]: Adding dimensional reduction information for umap.rna\n",
      "\n",
      "R[write to console]: Adding dimensional reduction information for umap.atac (global)\n",
      "\n",
      "R[write to console]: Adding wsnn as neighbors\n",
      "\n"
     ]
    }
   ],
   "source": [
    "%%R\n",
    "# wsnn graph is stored in SCT assay\n",
    "Convert(\"chen2019-seurat.h5seurat\", assay=\"SCT\", \"chen2019-seurat.h5ad\", overwrite=TRUE)"
   ]
  },
  {
   "cell_type": "code",
   "execution_count": 14,
   "metadata": {},
   "outputs": [
    {
     "data": {
      "text/plain": [
       "AnnData object with n_obs × n_vars = 4793 × 3809\n",
       "    obs: 'cell_type', 'nCount_ATAC', 'nFeature_ATAC', 'nCount_SCT', 'nFeature_SCT', 'SCT.weight', 'ATAC.weight'\n",
       "    var: 'features'\n",
       "    uns: 'neighbors'\n",
       "    obsm: 'X_pca', 'X_spca', 'X_umap.atac', 'X_umap.rna'\n",
       "    varm: 'PCs', 'SPCA'\n",
       "    obsp: 'distances'"
      ]
     },
     "execution_count": 14,
     "metadata": {},
     "output_type": "execute_result"
    }
   ],
   "source": [
    "integrated = sc.read('chen2019-seurat.h5ad')\n",
    "integrated"
   ]
  },
  {
   "cell_type": "code",
   "execution_count": 15,
   "metadata": {},
   "outputs": [],
   "source": [
    "latent = sc.AnnData(integrated.obsm['X_spca'])\n",
    "latent.obs = integrated.obs\n",
    "latent.obsp['connectivities'] = integrated.uns['neighbors']['distances']"
   ]
  },
  {
   "cell_type": "code",
   "execution_count": 16,
   "metadata": {},
   "outputs": [],
   "source": [
    "latent.write('../data/integrated/seurat/chen-seurat.h5ad')"
   ]
  },
  {
   "cell_type": "code",
   "execution_count": 19,
   "metadata": {},
   "outputs": [],
   "source": [
    "!rm 'chen2019-expressions.h5ad'\n",
    "!rm 'chen2019-peaks.h5ad'\n",
    "!rm 'chen2019-seurat.h5seurat'\n",
    "!rm 'chen2019-seurat.h5ad'"
   ]
  },
  {
   "cell_type": "code",
   "execution_count": 20,
   "metadata": {},
   "outputs": [
    {
     "name": "stdout",
     "output_type": "stream",
     "text": [
      "R version 4.0.3 (2020-10-10)\n",
      "Platform: x86_64-conda-linux-gnu (64-bit)\n",
      "Running under: CentOS Linux 7 (Core)\n",
      "\n",
      "Matrix products: default\n",
      "BLAS/LAPACK: /mnt/home/icb/anastasia.litinetskaya/miniconda3/envs/signac/lib/libopenblasp-r0.3.10.so\n",
      "\n",
      "locale:\n",
      " [1] LC_CTYPE=C                 LC_NUMERIC=C              \n",
      " [3] LC_TIME=en_US.UTF-8        LC_COLLATE=en_US.UTF-8    \n",
      " [5] LC_MONETARY=en_US.UTF-8    LC_MESSAGES=en_US.UTF-8   \n",
      " [7] LC_PAPER=en_US.UTF-8       LC_NAME=C                 \n",
      " [9] LC_ADDRESS=C               LC_TELEPHONE=C            \n",
      "[11] LC_MEASUREMENT=en_US.UTF-8 LC_IDENTIFICATION=C       \n",
      "\n",
      "attached base packages:\n",
      " [1] parallel  stats4    tools     stats     graphics  grDevices utils    \n",
      " [8] datasets  methods   base     \n",
      "\n",
      "other attached packages:\n",
      " [1] Matrix_1.3-2                Signac_1.1.1               \n",
      " [3] SeuratDisk_0.0.0.9018       SeuratObject_4.0.0         \n",
      " [5] Seurat_4.0.0                SingleCellExperiment_1.12.0\n",
      " [7] SummarizedExperiment_1.20.0 Biobase_2.50.0             \n",
      " [9] GenomicRanges_1.42.0        GenomeInfoDb_1.26.0        \n",
      "[11] IRanges_2.24.0              S4Vectors_0.28.0           \n",
      "[13] BiocGenerics_0.36.0         MatrixGenerics_1.2.0       \n",
      "[15] matrixStats_0.58.0         \n",
      "\n",
      "loaded via a namespace (and not attached):\n",
      "  [1] utf8_1.1.4               reticulate_1.18          tidyselect_1.1.0        \n",
      "  [4] RSQLite_2.2.3            AnnotationDbi_1.52.0     htmlwidgets_1.5.3       \n",
      "  [7] grid_4.0.3               BiocParallel_1.24.0      Rtsne_0.15              \n",
      " [10] munsell_0.5.0            codetools_0.2-18         ica_1.0-2               \n",
      " [13] future_1.21.0            miniUI_0.1.1.1           withr_2.4.1             \n",
      " [16] colorspace_2.0-0         OrganismDbi_1.32.0       knitr_1.31              \n",
      " [19] rstudioapi_0.13          ROCR_1.0-11              tensor_1.5              \n",
      " [22] listenv_0.8.0            GenomeInfoDbData_1.2.4   polyclip_1.10-0         \n",
      " [25] farver_2.1.0             bit64_4.0.5              parallelly_1.23.0       \n",
      " [28] vctrs_0.3.6              generics_0.1.0           xfun_0.20               \n",
      " [31] biovizBase_1.38.0        BiocFileCache_1.14.0     lsa_0.73.2              \n",
      " [34] ggseqlogo_0.1            R6_2.5.0                 hdf5r_1.3.3             \n",
      " [37] AnnotationFilter_1.14.0  reshape_0.8.8            bitops_1.0-6            \n",
      " [40] spatstat.utils_2.0-0     cachem_1.0.4             DelayedArray_0.16.0     \n",
      " [43] assertthat_0.2.1         promises_1.2.0.1         scales_1.1.1            \n",
      " [46] nnet_7.3-15              gtable_0.3.0             globals_0.14.0          \n",
      " [49] goftest_1.2-2            ggbio_1.38.0             ensembldb_2.14.0        \n",
      " [52] rlang_0.4.10             RcppRoll_0.3.0           splines_4.0.3           \n",
      " [55] rtracklayer_1.50.0       lazyeval_0.2.2           dichromat_2.0-0         \n",
      " [58] checkmate_2.0.0          BiocManager_1.30.10      reshape2_1.4.4          \n",
      " [61] abind_1.4-5              GenomicFeatures_1.42.0   backports_1.2.1         \n",
      " [64] httpuv_1.5.5             Hmisc_4.5-0              RBGL_1.66.0             \n",
      " [67] ggplot2_3.3.3            ellipsis_0.3.1           RColorBrewer_1.1-2      \n",
      " [70] ggridges_0.5.3           Rcpp_1.0.6               plyr_1.8.6              \n",
      " [73] base64enc_0.1-3          progress_1.2.2           zlibbioc_1.36.0         \n",
      " [76] purrr_0.3.4              RCurl_1.98-1.2           prettyunits_1.1.1       \n",
      " [79] rpart_4.1-15             openssl_1.4.3            deldir_0.2-10           \n",
      " [82] pbapply_1.4-3            cowplot_1.1.1            zoo_1.8-8               \n",
      " [85] ggrepel_0.9.1            cluster_2.1.1            magrittr_2.0.1          \n",
      " [88] RSpectra_0.16-0          data.table_1.14.0        scattermore_0.7         \n",
      " [91] lmtest_0.9-38            RANN_2.6.1               SnowballC_0.7.0         \n",
      " [94] ProtGenerics_1.22.0      fitdistrplus_1.1-3       hms_1.0.0               \n",
      " [97] patchwork_1.1.1          mime_0.10                xtable_1.8-4            \n",
      "[100] XML_3.99-0.5             jpeg_0.1-8.1             gridExtra_2.3           \n",
      "[103] compiler_4.0.3           biomaRt_2.46.0           tibble_3.1.0            \n",
      "[106] KernSmooth_2.23-18       crayon_1.4.1             htmltools_0.5.1.1       \n",
      "[109] mgcv_1.8-34              later_1.1.0.1            Formula_1.2-4           \n",
      "[112] tidyr_1.1.3              DBI_1.1.1                tweenr_1.0.1            \n",
      "[115] dbplyr_2.1.0             MASS_7.3-53.1            rappdirs_0.3.3          \n",
      "[118] cli_2.3.1                igraph_1.2.6             pkgconfig_2.0.3         \n",
      "[121] GenomicAlignments_1.26.0 foreign_0.8-81           plotly_4.9.3            \n",
      "[124] xml2_1.3.2               XVector_0.30.0           stringr_1.4.0           \n",
      "[127] VariantAnnotation_1.36.0 digest_0.6.27            sctransform_0.3.2       \n",
      "[130] RcppAnnoy_0.0.18         graph_1.68.0             spatstat.data_2.0-0     \n",
      "[133] Biostrings_2.58.0        fastmatch_1.1-0          leiden_0.3.7            \n",
      "[136] htmlTable_2.1.0          uwot_0.1.10              curl_4.3                \n",
      "[139] shiny_1.6.0              Rsamtools_2.6.0          lifecycle_1.0.0         \n",
      "[142] nlme_3.1-152             jsonlite_1.7.2           viridisLite_0.3.0       \n",
      "[145] askpass_1.1              BSgenome_1.58.0          fansi_0.4.2             \n",
      "[148] pillar_1.5.0             GGally_2.1.0             lattice_0.20-41         \n",
      "[151] fastmap_1.1.0            httr_1.4.2               survival_3.2-7          \n",
      "[154] glue_1.4.2               spatstat_1.64-1          png_0.1-7               \n",
      "[157] bit_4.0.4                ggforce_0.3.2            stringi_1.5.3           \n",
      "[160] blob_1.2.1               latticeExtra_0.6-29      memoise_2.0.0           \n",
      "[163] dplyr_1.0.4              irlba_2.3.3              future.apply_1.7.0      \n"
     ]
    }
   ],
   "source": [
    "%%R\n",
    "sessionInfo()"
   ]
  },
  {
   "cell_type": "markdown",
   "metadata": {},
   "source": [
    "# Visualize results"
   ]
  },
  {
   "cell_type": "code",
   "execution_count": 21,
   "metadata": {},
   "outputs": [
    {
     "data": {
      "text/plain": [
       "0"
      ]
     },
     "execution_count": 21,
     "metadata": {},
     "output_type": "execute_result"
    }
   ],
   "source": [
    "np.sum(latent.obs_names != adata.obs_names)"
   ]
  },
  {
   "cell_type": "code",
   "execution_count": 22,
   "metadata": {},
   "outputs": [],
   "source": [
    "latent.obs['cell_type'] = adata.obs['cell_type']"
   ]
  },
  {
   "cell_type": "code",
   "execution_count": 23,
   "metadata": {},
   "outputs": [],
   "source": [
    "sc.pp.neighbors(latent)\n",
    "sc.tl.umap(latent)"
   ]
  },
  {
   "cell_type": "code",
   "execution_count": 24,
   "metadata": {},
   "outputs": [
    {
     "data": {
      "image/png": "[encoded data removed]",
      "text/plain": [
       "<Figure size 432x288 with 1 Axes>"
      ]
     },
     "metadata": {},
     "output_type": "display_data"
    }
   ],
   "source": [
    "sc.pl.umap(latent, color='cell_type', frameon=False)"
   ]
  },
  {
   "cell_type": "code",
   "execution_count": null,
   "metadata": {},
   "outputs": [],
   "source": []
  }
 ],
 "metadata": {
  "kernelspec": {
   "display_name": "Python 3",
   "language": "python",
   "name": "python3"
  },
  "language_info": {
   "codemirror_mode": {
    "name": "ipython",
    "version": 3
   },
   "file_extension": ".py",
   "mimetype": "text/x-python",
   "name": "python",
   "nbconvert_exporter": "python",
   "pygments_lexer": "ipython3",
   "version": "3.7.9"
  }
 },
 "nbformat": 4,
 "nbformat_minor": 4
}
