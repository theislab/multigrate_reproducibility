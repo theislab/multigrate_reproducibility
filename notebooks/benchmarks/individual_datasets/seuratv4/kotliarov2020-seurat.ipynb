{
 "cells": [
  {
   "cell_type": "code",
   "execution_count": 1,
   "metadata": {},
   "outputs": [
    {
     "name": "stdout",
     "output_type": "stream",
     "text": [
      "scanpy==1.4.6 anndata==0.7.5 umap==0.5.1 numpy==1.20.1 scipy==1.6.0 pandas==1.2.3 scikit-learn==0.24.1 statsmodels==0.12.2\n"
     ]
    }
   ],
   "source": [
    "import warnings\n",
    "warnings.simplefilter(action='ignore', category=FutureWarning)\n",
    "\n",
    "import scanpy as sc\n",
    "import anndata as ad\n",
    "import numpy as np\n",
    "import pandas as pd\n",
    "import anndata2ri\n",
    "import gdown\n",
    "import scipy\n",
    "import scipy.io\n",
    "from rpy2.robjects import r\n",
    "\n",
    "anndata2ri.activate()\n",
    "sc.logging.print_versions()"
   ]
  },
  {
   "cell_type": "code",
   "execution_count": 2,
   "metadata": {},
   "outputs": [],
   "source": [
    "%load_ext rpy2.ipython"
   ]
  },
  {
   "cell_type": "code",
   "execution_count": 3,
   "metadata": {
    "scrolled": true
   },
   "outputs": [],
   "source": [
    "%%R\n",
    "suppressPackageStartupMessages({\n",
    "    library(SingleCellExperiment)\n",
    "    library(Seurat)\n",
    "    library(SeuratDisk)\n",
    "})"
   ]
  },
  {
   "cell_type": "markdown",
   "metadata": {},
   "source": [
    "# Expressions"
   ]
  },
  {
   "cell_type": "markdown",
   "metadata": {},
   "source": [
    "## Download the data"
   ]
  },
  {
   "cell_type": "code",
   "execution_count": 4,
   "metadata": {},
   "outputs": [
    {
     "name": "stderr",
     "output_type": "stream",
     "text": [
      "Downloading...\n",
      "From: https://drive.google.com/uc?id=1wA3VBUnYEW2qHPk9WijNTKjV9KriWe8y\n",
      "To: /mnt/home/icb/anastasia.litinetskaya/multigrate/example/kotliarov2020-expressions.h5ad\n",
      "137MB [00:01, 85.7MB/s] \n"
     ]
    },
    {
     "data": {
      "text/plain": [
       "'kotliarov2020-expressions.h5ad'"
      ]
     },
     "execution_count": 4,
     "metadata": {},
     "output_type": "execute_result"
    }
   ],
   "source": [
    "gdown.download(\n",
    "    'https://drive.google.com/uc?id=1wA3VBUnYEW2qHPk9WijNTKjV9KriWe8y',\n",
    "    'kotliarov2020-expressions.h5ad'\n",
    ")"
   ]
  },
  {
   "cell_type": "code",
   "execution_count": 5,
   "metadata": {},
   "outputs": [
    {
     "data": {
      "text/plain": [
       "AnnData object with n_obs × n_vars = 52117 × 3999\n",
       "    obs: 'batch', 'cluster_level2', 'cluster_level3', 'sample', 'cell_type', 'n_genes', 'n_genes_by_counts', 'log1p_n_genes_by_counts', 'total_counts', 'log1p_total_counts', 'total_counts_mt', 'log1p_total_counts_mt', 'pct_counts_mt'\n",
       "    var: 'n_cells', 'mt', 'n_cells_by_counts', 'mean_counts', 'log1p_mean_counts', 'pct_dropout_by_counts', 'total_counts', 'log1p_total_counts', 'highly_variable', 'means', 'dispersions', 'dispersions_norm'\n",
       "    uns: 'batch_colors', 'cell_type_colors', 'cluster_level2_colors', 'cluster_level3_colors', 'neighbors', 'pca', 'sample_colors', 'umap'\n",
       "    obsm: 'X_pca', 'X_umap'\n",
       "    varm: 'PCs'\n",
       "    layers: 'count'\n",
       "    obsp: 'connectivities', 'distances'"
      ]
     },
     "execution_count": 5,
     "metadata": {},
     "output_type": "execute_result"
    }
   ],
   "source": [
    "adata = sc.read('kotliarov2020-expressions.h5ad')\n",
    "adata"
   ]
  },
  {
   "cell_type": "code",
   "execution_count": 6,
   "metadata": {},
   "outputs": [],
   "source": [
    "adata_ = ad.AnnData(adata.layers['count'])\n",
    "adata_.obs_names = adata.obs_names\n",
    "adata_.var_names = adata.var_names\n",
    "adata_.obs['cell_type'] = adata.obs['cell_type']"
   ]
  },
  {
   "cell_type": "code",
   "execution_count": 7,
   "metadata": {},
   "outputs": [
    {
     "name": "stdout",
     "output_type": "stream",
     "text": [
      "An object of class Seurat \n",
      "3999 features across 52117 samples within 1 assay \n",
      "Active assay: RNA (3999 features, 0 variable features)\n"
     ]
    }
   ],
   "source": [
    "%%R -i adata_\n",
    "rna = as.Seurat(adata_, counts='X', data=NULL)\n",
    "rna"
   ]
  },
  {
   "cell_type": "markdown",
   "metadata": {},
   "source": [
    "# Protein"
   ]
  },
  {
   "cell_type": "markdown",
   "metadata": {},
   "source": [
    "## Download the data"
   ]
  },
  {
   "cell_type": "code",
   "execution_count": 8,
   "metadata": {},
   "outputs": [
    {
     "name": "stderr",
     "output_type": "stream",
     "text": [
      "Downloading...\n",
      "From: https://drive.google.com/uc?id=112mdDX76LZRL33tBLYhfYRRXOUrLUhw-\n",
      "To: /mnt/home/icb/anastasia.litinetskaya/multigrate/example/kotliarov2020-proteins.h5ad\n",
      "143MB [00:02, 67.5MB/s] \n"
     ]
    },
    {
     "data": {
      "text/plain": [
       "'kotliarov2020-proteins.h5ad'"
      ]
     },
     "execution_count": 8,
     "metadata": {},
     "output_type": "execute_result"
    }
   ],
   "source": [
    "gdown.download(\n",
    "    'https://drive.google.com/uc?id=112mdDX76LZRL33tBLYhfYRRXOUrLUhw-',\n",
    "    'kotliarov2020-proteins.h5ad'\n",
    ")"
   ]
  },
  {
   "cell_type": "code",
   "execution_count": 9,
   "metadata": {},
   "outputs": [],
   "source": [
    "adata = sc.read('kotliarov2020-proteins.h5ad')"
   ]
  },
  {
   "cell_type": "code",
   "execution_count": 10,
   "metadata": {},
   "outputs": [],
   "source": [
    "adata_ = ad.AnnData(adata.layers['count'])\n",
    "adata_.obs_names = adata.obs_names\n",
    "adata_.var_names = adata.var_names\n",
    "adata_.obs['cell_type'] = adata.obs['cell_type']"
   ]
  },
  {
   "cell_type": "code",
   "execution_count": 11,
   "metadata": {},
   "outputs": [
    {
     "name": "stderr",
     "output_type": "stream",
     "text": [
      "R[write to console]: Warning:\n",
      "R[write to console]:  Feature names cannot have underscores ('_'), replacing with dashes ('-')\n",
      "\n"
     ]
    },
    {
     "name": "stdout",
     "output_type": "stream",
     "text": [
      "An object of class Seurat \n",
      "87 features across 52117 samples within 1 assay \n",
      "Active assay: RNA (87 features, 0 variable features)\n"
     ]
    }
   ],
   "source": [
    "%%R -i adata_\n",
    "cite = as.Seurat(adata_, counts='X', data=NULL)\n",
    "cite"
   ]
  },
  {
   "cell_type": "markdown",
   "metadata": {},
   "source": [
    "# Run Seurat v4 WNN\n",
    "Following https://satijalab.org/seurat/v4.0/weighted_nearest_neighbor_analysis.html."
   ]
  },
  {
   "cell_type": "code",
   "execution_count": 12,
   "metadata": {
    "scrolled": false
   },
   "outputs": [
    {
     "name": "stdout",
     "output_type": "stream",
     "text": [
      "[1] \"Preprocessing RNA...\"\n",
      "[1] \"Preprocessing ADT...\"\n"
     ]
    },
    {
     "name": "stderr",
     "output_type": "stream",
     "text": [
      "R[write to console]: Warning in irlba(A = t(x = object), nv = npcs, ...) :\n",
      "R[write to console]: \n",
      " \n",
      "R[write to console]:  You're computing too large a percentage of total singular values, use a standard svd instead.\n",
      "\n",
      "R[write to console]: Calculating cell-specific modality weights\n",
      "\n",
      "R[write to console]: Finding 20 nearest neighbors for each modality.\n",
      "\n"
     ]
    },
    {
     "name": "stdout",
     "output_type": "stream",
     "text": [
      "  |                                                  | 0 % ~calculating   |+++++++++++++++++++++++++                         | 50% ~25s           |++++++++++++++++++++++++++++++++++++++++++++++++++| 100% elapsed=50s  \n"
     ]
    },
    {
     "name": "stderr",
     "output_type": "stream",
     "text": [
      "R[write to console]: Calculating kernel bandwidths\n",
      "\n"
     ]
    },
    {
     "name": "stdout",
     "output_type": "stream",
     "text": [
      "  |                                                  | 0 % ~calculating   |+++++++++++++++++++++++++                         | 50% ~07s           |++++++++++++++++++++++++++++++++++++++++++++++++++| 100% elapsed=10s  \n"
     ]
    },
    {
     "name": "stderr",
     "output_type": "stream",
     "text": [
      "R[write to console]: Finding multimodal neighbors\n",
      "\n"
     ]
    },
    {
     "name": "stdout",
     "output_type": "stream",
     "text": [
      "  |                                                  | 0 % ~calculating   |+++++++++++++++++++++++++                         | 50% ~01m 30s       |++++++++++++++++++++++++++++++++++++++++++++++++++| 100% elapsed=03m 02s\n",
      "  |                                                  | 0 % ~calculating   |+++++++++++++++++++++++++                         | 50% ~09s           |++++++++++++++++++++++++++++++++++++++++++++++++++| 100% elapsed=15s  \n"
     ]
    },
    {
     "name": "stderr",
     "output_type": "stream",
     "text": [
      "R[write to console]: Constructing multimodal KNN graph\n",
      "\n",
      "R[write to console]: Constructing multimodal SNN graph\n",
      "\n",
      "R[write to console]: Computing sPCA transformation\n",
      "\n",
      "R[write to console]: Creating h5Seurat file for version 3.1.5.9900\n",
      "\n",
      "R[write to console]: Adding counts for RNA\n",
      "\n",
      "R[write to console]: Adding data for RNA\n",
      "\n",
      "R[write to console]: Adding scale.data for RNA\n",
      "\n",
      "R[write to console]: Adding variable features for RNA\n",
      "\n",
      "R[write to console]: No feature-level metadata found for RNA\n",
      "\n",
      "R[write to console]: Adding counts for ADT\n",
      "\n",
      "R[write to console]: Adding data for ADT\n",
      "\n",
      "R[write to console]: Adding scale.data for ADT\n",
      "\n",
      "R[write to console]: Adding variable features for ADT\n",
      "\n",
      "R[write to console]: No feature-level metadata found for ADT\n",
      "\n",
      "R[write to console]: Adding cell embeddings for pca\n",
      "\n",
      "R[write to console]: Adding loadings for pca\n",
      "\n",
      "R[write to console]: No projected loadings for pca\n",
      "\n",
      "R[write to console]: Adding standard deviations for pca\n",
      "\n",
      "R[write to console]: No JackStraw data for pca\n",
      "\n",
      "R[write to console]: Adding cell embeddings for apca\n",
      "\n",
      "R[write to console]: Adding loadings for apca\n",
      "\n",
      "R[write to console]: No projected loadings for apca\n",
      "\n",
      "R[write to console]: Adding standard deviations for apca\n",
      "\n",
      "R[write to console]: No JackStraw data for apca\n",
      "\n",
      "R[write to console]: Adding cell embeddings for spca\n",
      "\n",
      "R[write to console]: Adding loadings for spca\n",
      "\n",
      "R[write to console]: No projected loadings for spca\n",
      "\n",
      "R[write to console]: Adding standard deviations for spca\n",
      "\n",
      "R[write to console]: No JackStraw data for spca\n",
      "\n"
     ]
    }
   ],
   "source": [
    "%%R\n",
    "bm <- rna\n",
    "bm[[\"ADT\"]] <- CreateAssayObject(counts = cite@assays$RNA@counts)\n",
    "\n",
    "rm(rna)\n",
    "rm(cite)\n",
    "\n",
    "print('Preprocessing RNA...')\n",
    "DefaultAssay(bm) <- \"RNA\"\n",
    "bm <- NormalizeData(bm, verbose=FALSE)\n",
    "VariableFeatures(bm) <- rownames(bm[[\"RNA\"]])\n",
    "bm <- ScaleData(bm, verbose=FALSE)\n",
    "\n",
    "bm <- RunPCA(bm, verbose=FALSE)\n",
    "\n",
    "print('Preprocessing ADT...')\n",
    "DefaultAssay(bm) <- \"ADT\"\n",
    "VariableFeatures(bm) <- rownames(bm[[\"ADT\"]])\n",
    "bm <- NormalizeData(bm, normalization.method = 'CLR', margin = 2, verbose=FALSE)\n",
    "bm <- ScaleData(bm, verbose=FALSE)\n",
    "bm <- RunPCA(bm, reduction.name = \"apca\", verbose=FALSE)\n",
    "\n",
    "bm <- FindMultiModalNeighbors(\n",
    "       bm, reduction.list = list(\"pca\", \"apca\"), \n",
    "       dims.list = list(1:30, 1:18), modality.weight.name = \"RNA.weight\"\n",
    "   )\n",
    "\n",
    "bm <- RunSPCA(bm, assay = 'RNA', graph = 'wsnn', npcs = 20)\n",
    "\n",
    "SaveH5Seurat(bm, 'kotliarov-seurat.h5seurat', overwrite = TRUE)"
   ]
  },
  {
   "cell_type": "code",
   "execution_count": 13,
   "metadata": {},
   "outputs": [
    {
     "name": "stderr",
     "output_type": "stream",
     "text": [
      "R[write to console]: Validating h5Seurat file\n",
      "\n",
      "R[write to console]: Adding scale.data from RNA as X\n",
      "\n",
      "R[write to console]: Adding data from RNA as raw\n",
      "\n",
      "R[write to console]: Transfering meta.data to obs\n",
      "\n",
      "R[write to console]: Adding dimensional reduction information for pca\n",
      "\n",
      "R[write to console]: Adding feature loadings for pca\n",
      "\n",
      "R[write to console]: Adding dimensional reduction information for spca\n",
      "\n",
      "R[write to console]: Adding feature loadings for spca\n",
      "\n",
      "R[write to console]: Adding wsnn as neighbors\n",
      "\n"
     ]
    }
   ],
   "source": [
    "%%R\n",
    "Convert(\"kotliarov-seurat.h5seurat\", assay=\"RNA\", \"kotliarov-seurat.h5ad\", overwrite=TRUE)"
   ]
  },
  {
   "cell_type": "code",
   "execution_count": 14,
   "metadata": {},
   "outputs": [
    {
     "data": {
      "text/plain": [
       "AnnData object with n_obs × n_vars = 52117 × 3999\n",
       "    obs: 'cell_type', 'nCount_ADT', 'nFeature_ADT', 'RNA.weight', 'ADT.weight'\n",
       "    var: 'features'\n",
       "    uns: 'neighbors'\n",
       "    obsm: 'X_pca', 'X_spca'\n",
       "    varm: 'PCs', 'SPCA'\n",
       "    obsp: 'distances'"
      ]
     },
     "execution_count": 14,
     "metadata": {},
     "output_type": "execute_result"
    }
   ],
   "source": [
    "integrated = sc.read('kotliarov-seurat.h5ad')\n",
    "integrated"
   ]
  },
  {
   "cell_type": "code",
   "execution_count": 15,
   "metadata": {},
   "outputs": [],
   "source": [
    "latent = sc.AnnData(integrated.obsm['X_spca'])\n",
    "latent.obs = integrated.obs\n",
    "latent.obsp['connectivities'] = integrated.uns['neighbors']['distances']"
   ]
  },
  {
   "cell_type": "code",
   "execution_count": 16,
   "metadata": {},
   "outputs": [],
   "source": [
    "latent.write('../data/integrated/seurat/kotliarov-seurat-20.h5ad')"
   ]
  },
  {
   "cell_type": "code",
   "execution_count": 17,
   "metadata": {},
   "outputs": [],
   "source": [
    "!rm 'kotliarov2020-expressions.h5ad'\n",
    "!rm 'kotliarov2020-proteins.h5ad'\n",
    "!rm 'kotliarov-seurat.h5ad'\n",
    "!rm 'kotliarov-seurat.h5seurat'"
   ]
  },
  {
   "cell_type": "code",
   "execution_count": 18,
   "metadata": {},
   "outputs": [
    {
     "name": "stdout",
     "output_type": "stream",
     "text": [
      "R version 4.0.3 (2020-10-10)\n",
      "Platform: x86_64-conda-linux-gnu (64-bit)\n",
      "Running under: CentOS Linux 7 (Core)\n",
      "\n",
      "Matrix products: default\n",
      "BLAS/LAPACK: /mnt/home/icb/anastasia.litinetskaya/miniconda3/envs/signac/lib/libopenblasp-r0.3.10.so\n",
      "\n",
      "locale:\n",
      " [1] LC_CTYPE=C                 LC_NUMERIC=C              \n",
      " [3] LC_TIME=en_US.UTF-8        LC_COLLATE=en_US.UTF-8    \n",
      " [5] LC_MONETARY=en_US.UTF-8    LC_MESSAGES=en_US.UTF-8   \n",
      " [7] LC_PAPER=en_US.UTF-8       LC_NAME=C                 \n",
      " [9] LC_ADDRESS=C               LC_TELEPHONE=C            \n",
      "[11] LC_MEASUREMENT=en_US.UTF-8 LC_IDENTIFICATION=C       \n",
      "\n",
      "attached base packages:\n",
      " [1] parallel  stats4    tools     stats     graphics  grDevices utils    \n",
      " [8] datasets  methods   base     \n",
      "\n",
      "other attached packages:\n",
      " [1] Matrix_1.3-2                SeuratDisk_0.0.0.9018      \n",
      " [3] SeuratObject_4.0.0          Seurat_4.0.0               \n",
      " [5] SingleCellExperiment_1.12.0 SummarizedExperiment_1.20.0\n",
      " [7] Biobase_2.50.0              GenomicRanges_1.42.0       \n",
      " [9] GenomeInfoDb_1.26.0         IRanges_2.24.0             \n",
      "[11] S4Vectors_0.28.0            BiocGenerics_0.36.0        \n",
      "[13] MatrixGenerics_1.2.0        matrixStats_0.58.0         \n",
      "\n",
      "loaded via a namespace (and not attached):\n",
      "  [1] Rtsne_0.15             colorspace_2.0-0       deldir_0.2-10         \n",
      "  [4] ellipsis_0.3.1         ggridges_0.5.3         XVector_0.30.0        \n",
      "  [7] spatstat.data_2.0-0    leiden_0.3.7           listenv_0.8.0         \n",
      " [10] bit64_4.0.5            ggrepel_0.9.1          fansi_0.4.2           \n",
      " [13] codetools_0.2-18       splines_4.0.3          polyclip_1.10-0       \n",
      " [16] jsonlite_1.7.2         ica_1.0-2              cluster_2.1.1         \n",
      " [19] png_0.1-7              uwot_0.1.10            shiny_1.6.0           \n",
      " [22] sctransform_0.3.2      compiler_4.0.3         httr_1.4.2            \n",
      " [25] assertthat_0.2.1       fastmap_1.1.0          lazyeval_0.2.2        \n",
      " [28] cli_2.3.1              later_1.1.0.1          htmltools_0.5.1.1     \n",
      " [31] igraph_1.2.6           gtable_0.3.0           glue_1.4.2            \n",
      " [34] GenomeInfoDbData_1.2.4 RANN_2.6.1             reshape2_1.4.4        \n",
      " [37] dplyr_1.0.4            Rcpp_1.0.6             spatstat_1.64-1       \n",
      " [40] scattermore_0.7        vctrs_0.3.6            nlme_3.1-152          \n",
      " [43] lmtest_0.9-38          stringr_1.4.0          globals_0.14.0        \n",
      " [46] mime_0.10              miniUI_0.1.1.1         lifecycle_1.0.0       \n",
      " [49] irlba_2.3.3            goftest_1.2-2          future_1.21.0         \n",
      " [52] zlibbioc_1.36.0        MASS_7.3-53.1          zoo_1.8-8             \n",
      " [55] scales_1.1.1           promises_1.2.0.1       spatstat.utils_2.0-0  \n",
      " [58] RColorBrewer_1.1-2     reticulate_1.18        pbapply_1.4-3         \n",
      " [61] gridExtra_2.3          ggplot2_3.3.3          rpart_4.1-15          \n",
      " [64] stringi_1.5.3          rlang_0.4.10           pkgconfig_2.0.3       \n",
      " [67] bitops_1.0-6           lattice_0.20-41        tensor_1.5            \n",
      " [70] ROCR_1.0-11            purrr_0.3.4            patchwork_1.1.1       \n",
      " [73] htmlwidgets_1.5.3      bit_4.0.4              cowplot_1.1.1         \n",
      " [76] tidyselect_1.1.0       parallelly_1.23.0      RcppAnnoy_0.0.18      \n",
      " [79] plyr_1.8.6             magrittr_2.0.1         R6_2.5.0              \n",
      " [82] generics_0.1.0         DelayedArray_0.16.0    DBI_1.1.1             \n",
      " [85] withr_2.4.1            mgcv_1.8-34            pillar_1.5.0          \n",
      " [88] fitdistrplus_1.1-3     abind_1.4-5            survival_3.2-7        \n",
      " [91] RCurl_1.98-1.2         tibble_3.1.0           future.apply_1.7.0    \n",
      " [94] hdf5r_1.3.3            crayon_1.4.1           KernSmooth_2.23-18    \n",
      " [97] utf8_1.1.4             plotly_4.9.3           grid_4.0.3            \n",
      "[100] data.table_1.14.0      digest_0.6.27          xtable_1.8-4          \n",
      "[103] tidyr_1.1.3            httpuv_1.5.5           munsell_0.5.0         \n",
      "[106] viridisLite_0.3.0     \n"
     ]
    }
   ],
   "source": [
    "%%R\n",
    "sessionInfo()"
   ]
  },
  {
   "cell_type": "markdown",
   "metadata": {},
   "source": [
    "# Visualize results"
   ]
  },
  {
   "cell_type": "code",
   "execution_count": 19,
   "metadata": {},
   "outputs": [
    {
     "data": {
      "text/plain": [
       "0"
      ]
     },
     "execution_count": 19,
     "metadata": {},
     "output_type": "execute_result"
    }
   ],
   "source": [
    "np.sum(latent.obs_names != adata.obs_names)"
   ]
  },
  {
   "cell_type": "code",
   "execution_count": 20,
   "metadata": {},
   "outputs": [],
   "source": [
    "latent.obs['cell_type'] = adata.obs['cell_type']"
   ]
  },
  {
   "cell_type": "code",
   "execution_count": 21,
   "metadata": {},
   "outputs": [],
   "source": [
    "sc.pp.neighbors(latent)\n",
    "sc.tl.umap(latent)"
   ]
  },
  {
   "cell_type": "code",
   "execution_count": 22,
   "metadata": {},
   "outputs": [
    {
     "data": {
      "image/png": "[encoded data removed]",
      "text/plain": [
       "<Figure size 432x288 with 1 Axes>"
      ]
     },
     "metadata": {},
     "output_type": "display_data"
    }
   ],
   "source": [
    "sc.pl.umap(latent, color='cell_type', frameon=False)"
   ]
  },
  {
   "cell_type": "code",
   "execution_count": null,
   "metadata": {},
   "outputs": [],
   "source": []
  }
 ],
 "metadata": {
  "kernelspec": {
   "display_name": "Python 3",
   "language": "python",
   "name": "python3"
  },
  "language_info": {
   "codemirror_mode": {
    "name": "ipython",
    "version": 3
   },
   "file_extension": ".py",
   "mimetype": "text/x-python",
   "name": "python",
   "nbconvert_exporter": "python",
   "pygments_lexer": "ipython3",
   "version": "3.7.9"
  }
 },
 "nbformat": 4,
 "nbformat_minor": 4
}
