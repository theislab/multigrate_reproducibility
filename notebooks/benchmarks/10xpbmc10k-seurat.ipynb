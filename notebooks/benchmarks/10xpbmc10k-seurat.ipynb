{
 "cells": [
  {
   "cell_type": "code",
   "execution_count": 1,
   "metadata": {},
   "outputs": [
    {
     "name": "stdout",
     "output_type": "stream",
     "text": [
      "scanpy==1.4.6 anndata==0.7.3 umap==0.4.6 numpy==1.19.4 scipy==1.5.4 pandas==1.1.4 scikit-learn==0.23.2 statsmodels==0.12.1 python-igraph==0.8.3 louvain==0.6.1\n"
     ]
    }
   ],
   "source": [
    "import warnings\n",
    "warnings.simplefilter(action='ignore', category=FutureWarning)\n",
    "\n",
    "import scanpy as sc\n",
    "import anndata as ad\n",
    "import multigrate as mtg\n",
    "import numpy as np\n",
    "import pandas as pd\n",
    "import gdown\n",
    "import scipy\n",
    "\n",
    "sc.logging.print_versions()"
   ]
  },
  {
   "cell_type": "code",
   "execution_count": 2,
   "metadata": {},
   "outputs": [],
   "source": [
    "%load_ext rpy2.ipython"
   ]
  },
  {
   "cell_type": "code",
   "execution_count": 3,
   "metadata": {
    "scrolled": true
   },
   "outputs": [
    {
     "name": "stderr",
     "output_type": "stream",
     "text": [
      "R[write to console]: Registered S3 method overwritten by 'cli':\n",
      "  method     from    \n",
      "  print.boxx spatstat\n",
      "\n",
      "R[write to console]: Registered S3 method overwritten by 'SeuratDisk':\n",
      "  method            from  \n",
      "  as.sparse.H5Group Seurat\n",
      "\n",
      "R[write to console]: Registered S3 method overwritten by 'GGally':\n",
      "  method from   \n",
      "  +.gg   ggplot2\n",
      "\n",
      "R[write to console]: \n",
      "Attache Paket: 'Signac'\n",
      "\n",
      "\n",
      "R[write to console]: Следующий объект скрыт от 'package:Seurat':\n",
      "\n",
      "    FoldChange\n",
      "\n",
      "\n"
     ]
    }
   ],
   "source": [
    "%%R\n",
    "library(Seurat)\n",
    "library(SeuratDisk)\n",
    "library(Signac)"
   ]
  },
  {
   "cell_type": "markdown",
   "metadata": {},
   "source": [
    "# Expressions"
   ]
  },
  {
   "cell_type": "markdown",
   "metadata": {},
   "source": [
    "## Download the data"
   ]
  },
  {
   "cell_type": "code",
   "execution_count": 4,
   "metadata": {},
   "outputs": [
    {
     "name": "stderr",
     "output_type": "stream",
     "text": [
      "Downloading...\n",
      "From: https://drive.google.com/uc?id=1QK5Ua4HStjIm3URxw4WHHM2gdzDmbvsN\n",
      "To: /Users/alitinet/Desktop/thesis/multigrate/10xpbmc10k-expressions.h5ad\n",
      "48.8MB [02:04, 391kB/s]\n"
     ]
    },
    {
     "data": {
      "text/plain": [
       "'10xpbmc10k-expressions.h5ad'"
      ]
     },
     "execution_count": 4,
     "metadata": {},
     "output_type": "execute_result"
    }
   ],
   "source": [
    "gdown.download(\n",
    "    'https://drive.google.com/uc?id=1QK5Ua4HStjIm3URxw4WHHM2gdzDmbvsN',\n",
    "    '10xpbmc10k-expressions.h5ad'\n",
    ")"
   ]
  },
  {
   "cell_type": "code",
   "execution_count": 5,
   "metadata": {},
   "outputs": [
    {
     "data": {
      "text/plain": [
       "AnnData object with n_obs × n_vars = 10000 × 3999\n",
       "    obs: 'cell_type', 'n_genes', 'n_genes_by_counts', 'log1p_n_genes_by_counts', 'total_counts', 'log1p_total_counts', 'total_counts_mt', 'log1p_total_counts_mt', 'pct_counts_mt'\n",
       "    var: 'gene_ids', 'feature_types', 'genome', 'n_cells', 'mt', 'n_cells_by_counts', 'mean_counts', 'log1p_mean_counts', 'pct_dropout_by_counts', 'total_counts', 'log1p_total_counts', 'highly_variable', 'means', 'dispersions', 'dispersions_norm'\n",
       "    uns: 'cell_type_colors', 'neighbors', 'umap'\n",
       "    obsm: 'X_pca', 'X_umap'\n",
       "    layers: 'count'\n",
       "    obsp: 'connectivities', 'distances'"
      ]
     },
     "execution_count": 5,
     "metadata": {},
     "output_type": "execute_result"
    }
   ],
   "source": [
    "adata = sc.read('10xpbmc10k-expressions.h5ad')\n",
    "adata"
   ]
  },
  {
   "cell_type": "markdown",
   "metadata": {},
   "source": [
    "## Save raw counts"
   ]
  },
  {
   "cell_type": "code",
   "execution_count": 6,
   "metadata": {},
   "outputs": [],
   "source": [
    "adata_ = ad.AnnData(adata.layers['count'])\n",
    "adata_.obs_names = adata.obs_names\n",
    "adata_.var_names = adata.var_names\n",
    "adata_.obs['cell_type'] = adata.obs['cell_type']\n",
    "adata_.write('expressions_hvg_counts.h5ad')"
   ]
  },
  {
   "cell_type": "markdown",
   "metadata": {},
   "source": [
    "## Convert h5ad file with raw counts to a h5Seurat object"
   ]
  },
  {
   "cell_type": "code",
   "execution_count": 7,
   "metadata": {
    "scrolled": false
   },
   "outputs": [
    {
     "name": "stderr",
     "output_type": "stream",
     "text": [
      "R[write to console]: Warnung:\n",
      "R[write to console]:  Unknown file type: h5ad\n",
      "\n",
      "R[write to console]: Warnung:\n",
      "R[write to console]:  'assay' not set, setting to 'RNA'\n",
      "\n",
      "R[write to console]: Creating h5Seurat file for version 3.1.5.9900\n",
      "\n",
      "R[write to console]: Adding X as data\n",
      "\n",
      "R[write to console]: Adding X as counts\n",
      "\n",
      "R[write to console]: Adding meta.features from var\n",
      "\n"
     ]
    }
   ],
   "source": [
    "%%R\n",
    "Convert('expressions_hvg_counts.h5ad', 'h5seurat', overwrite=TRUE)"
   ]
  },
  {
   "cell_type": "markdown",
   "metadata": {},
   "source": [
    "# Protein"
   ]
  },
  {
   "cell_type": "markdown",
   "metadata": {},
   "source": [
    "## Download the data"
   ]
  },
  {
   "cell_type": "code",
   "execution_count": 8,
   "metadata": {},
   "outputs": [
    {
     "name": "stderr",
     "output_type": "stream",
     "text": [
      "Downloading...\n",
      "From: https://drive.google.com/uc?id=1OkryKwFCna0hWD_oUiRFknzVy72oaFfc\n",
      "To: /Users/alitinet/Desktop/thesis/multigrate/10xpbmc10k-peaks.h5ad\n",
      "789MB [25:24, 517kB/s] \n"
     ]
    },
    {
     "data": {
      "text/plain": [
       "'10xpbmc10k-peaks.h5ad'"
      ]
     },
     "execution_count": 8,
     "metadata": {},
     "output_type": "execute_result"
    }
   ],
   "source": [
    "gdown.download(\n",
    "    'https://drive.google.com/uc?id=1OkryKwFCna0hWD_oUiRFknzVy72oaFfc',\n",
    "    '10xpbmc10k-peaks.h5ad'\n",
    ")"
   ]
  },
  {
   "cell_type": "code",
   "execution_count": 9,
   "metadata": {},
   "outputs": [
    {
     "data": {
      "text/plain": [
       "AnnData object with n_obs × n_vars = 10000 × 40086\n",
       "    obs: 'cell_type', 'nb_features'\n",
       "    var: 'gene_ids', 'feature_types', 'genome', 'n_cells', 'commonness', 'prop_shared_cells', 'variability_score'\n",
       "    uns: 'cell_type_colors', 'neighbors', 'umap'\n",
       "    obsm: 'X_pca', 'X_umap'\n",
       "    layers: 'binary'\n",
       "    obsp: 'connectivities', 'distances'"
      ]
     },
     "execution_count": 9,
     "metadata": {},
     "output_type": "execute_result"
    }
   ],
   "source": [
    "adata = sc.read('10xpbmc10k-peaks.h5ad')\n",
    "adata"
   ]
  },
  {
   "cell_type": "markdown",
   "metadata": {},
   "source": [
    "## Save raw counts"
   ]
  },
  {
   "cell_type": "code",
   "execution_count": 10,
   "metadata": {},
   "outputs": [],
   "source": [
    "adata_ = ad.AnnData(adata.layers['binary'])\n",
    "adata_.obs_names = adata.obs_names\n",
    "adata_.var_names = adata.var_names\n",
    "adata_.obs['cell_type'] = adata.obs['cell_type']\n",
    "adata_.write('peaks_binary.h5ad')"
   ]
  },
  {
   "cell_type": "markdown",
   "metadata": {},
   "source": [
    "## Convert h5ad file with raw counts to a h5Seurat object"
   ]
  },
  {
   "cell_type": "code",
   "execution_count": 11,
   "metadata": {
    "scrolled": true
   },
   "outputs": [
    {
     "name": "stderr",
     "output_type": "stream",
     "text": [
      "R[write to console]: Warnung:\n",
      "R[write to console]:  Unknown file type: h5ad\n",
      "\n",
      "R[write to console]: Warnung:\n",
      "R[write to console]:  'assay' not set, setting to 'RNA'\n",
      "\n",
      "R[write to console]: Creating h5Seurat file for version 3.1.5.9900\n",
      "\n",
      "R[write to console]: Adding X as data\n",
      "\n",
      "R[write to console]: Adding X as counts\n",
      "\n",
      "R[write to console]: Adding meta.features from var\n",
      "\n"
     ]
    }
   ],
   "source": [
    "%%R\n",
    "Convert('peaks_binary.h5ad', 'h5seurat', overwrite=TRUE)"
   ]
  },
  {
   "cell_type": "markdown",
   "metadata": {},
   "source": [
    "# Run Seurat v4 WNN\n",
    "Following https://satijalab.org/seurat/v4.0/weighted_nearest_neighbor_analysis.html."
   ]
  },
  {
   "cell_type": "code",
   "execution_count": 12,
   "metadata": {
    "scrolled": true
   },
   "outputs": [
    {
     "name": "stderr",
     "output_type": "stream",
     "text": [
      "R[write to console]: Validating h5Seurat file\n",
      "\n",
      "R[write to console]: Initializing RNA with data\n",
      "\n",
      "R[write to console]: Adding counts for RNA\n",
      "\n",
      "R[write to console]: Adding feature-level metadata for RNA\n",
      "\n",
      "R[write to console]: Adding command information\n",
      "\n",
      "R[write to console]: Adding cell-level metadata\n",
      "\n",
      "R[write to console]: Adding miscellaneous information\n",
      "\n",
      "R[write to console]: Adding tool-specific results\n",
      "\n",
      "R[write to console]: Validating h5Seurat file\n",
      "\n",
      "R[write to console]: Initializing RNA with data\n",
      "\n",
      "R[write to console]: Adding counts for RNA\n",
      "\n",
      "R[write to console]: Adding feature-level metadata for RNA\n",
      "\n",
      "R[write to console]: Adding command information\n",
      "\n",
      "R[write to console]: Adding cell-level metadata\n",
      "\n",
      "R[write to console]: Adding miscellaneous information\n",
      "\n",
      "R[write to console]: Adding tool-specific results\n",
      "\n"
     ]
    },
    {
     "name": "stdout",
     "output_type": "stream",
     "text": [
      "[1] \"Preprocessing RNA...\"\n"
     ]
    },
    {
     "name": "stderr",
     "output_type": "stream",
     "text": [
      "R[write to console]: Warnung:\n",
      "R[write to console]:  The default method for RunUMAP has changed from calling Python UMAP via reticulate to the R-native UWOT using the cosine metric\n",
      "To use Python UMAP via reticulate, set umap.method to 'umap-learn' and metric to 'correlation'\n",
      "This message will be shown once per session\n",
      "\n"
     ]
    },
    {
     "name": "stdout",
     "output_type": "stream",
     "text": [
      "[1] \"Preprocessing ATAC...\"\n"
     ]
    },
    {
     "name": "stderr",
     "output_type": "stream",
     "text": [
      "R[write to console]: Calculating cell-specific modality weights\n",
      "\n",
      "R[write to console]: Finding 20 nearest neighbors for each modality.\n",
      "\n"
     ]
    },
    {
     "name": "stdout",
     "output_type": "stream",
     "text": [
      "  |                                                  | 0 % ~calculating   |+++++++++++++++++++++++++                         | 50% ~03s           |++++++++++++++++++++++++++++++++++++++++++++++++++| 100% elapsed=05s  \n"
     ]
    },
    {
     "name": "stderr",
     "output_type": "stream",
     "text": [
      "R[write to console]: Calculating kernel bandwidths\n",
      "\n"
     ]
    },
    {
     "name": "stdout",
     "output_type": "stream",
     "text": [
      "  |                                                  | 0 % ~calculating   |+++++++++++++++++++++++++                         | 50% ~00s           |++++++++++++++++++++++++++++++++++++++++++++++++++| 100% elapsed=01s  \n"
     ]
    },
    {
     "name": "stderr",
     "output_type": "stream",
     "text": [
      "R[write to console]: Finding multimodal neighbors\n",
      "\n"
     ]
    },
    {
     "name": "stdout",
     "output_type": "stream",
     "text": [
      "  |                                                  | 0 % ~calculating   |+++++++++++++++++++++++++                         | 50% ~09s           |++++++++++++++++++++++++++++++++++++++++++++++++++| 100% elapsed=20s  \n",
      "  |                                                  | 0 % ~calculating   |+++++++++++++++++++++++++                         | 50% ~01s           |++++++++++++++++++++++++++++++++++++++++++++++++++| 100% elapsed=02s  \n"
     ]
    },
    {
     "name": "stderr",
     "output_type": "stream",
     "text": [
      "R[write to console]: Constructing multimodal KNN graph\n",
      "\n",
      "R[write to console]: Constructing multimodal SNN graph\n",
      "\n",
      "R[write to console]: Creating h5Seurat file for version 3.1.5.9900\n",
      "\n",
      "R[write to console]: Adding counts for RNA\n",
      "\n",
      "R[write to console]: Adding data for RNA\n",
      "\n",
      "R[write to console]: No variable features found for RNA\n",
      "\n",
      "R[write to console]: No feature-level metadata found for RNA\n",
      "\n",
      "R[write to console]: Adding counts for ATAC\n",
      "\n",
      "R[write to console]: Adding data for ATAC\n",
      "\n",
      "R[write to console]: Adding variable features for ATAC\n",
      "\n",
      "R[write to console]: Adding feature-level metadata for ATAC\n",
      "\n",
      "R[write to console]: Adding counts for SCT\n",
      "\n",
      "R[write to console]: Adding data for SCT\n",
      "\n",
      "R[write to console]: Adding scale.data for SCT\n",
      "\n",
      "R[write to console]: Adding variable features for SCT\n",
      "\n",
      "R[write to console]: Adding feature-level metadata for SCT\n",
      "\n",
      "R[write to console]: Adding cell embeddings for pca\n",
      "\n",
      "R[write to console]: Adding loadings for pca\n",
      "\n",
      "R[write to console]: No projected loadings for pca\n",
      "\n",
      "R[write to console]: Adding standard deviations for pca\n",
      "\n",
      "R[write to console]: No JackStraw data for pca\n",
      "\n",
      "R[write to console]: Adding cell embeddings for umap.rna\n",
      "\n",
      "R[write to console]: No loadings for umap.rna\n",
      "\n",
      "R[write to console]: No projected loadings for umap.rna\n",
      "\n",
      "R[write to console]: No standard deviations for umap.rna\n",
      "\n",
      "R[write to console]: No JackStraw data for umap.rna\n",
      "\n",
      "R[write to console]: Adding cell embeddings for lsi\n",
      "\n",
      "R[write to console]: Adding loadings for lsi\n",
      "\n",
      "R[write to console]: No projected loadings for lsi\n",
      "\n",
      "R[write to console]: Adding standard deviations for lsi\n",
      "\n",
      "R[write to console]: No JackStraw data for lsi\n",
      "\n",
      "R[write to console]: Adding cell embeddings for umap.atac\n",
      "\n",
      "R[write to console]: No loadings for umap.atac\n",
      "\n",
      "R[write to console]: No projected loadings for umap.atac\n",
      "\n",
      "R[write to console]: No standard deviations for umap.atac\n",
      "\n",
      "R[write to console]: No JackStraw data for umap.atac\n",
      "\n",
      "R[write to console]: Adding cell embeddings for wnn.umap\n",
      "\n",
      "R[write to console]: No loadings for wnn.umap\n",
      "\n",
      "R[write to console]: No projected loadings for wnn.umap\n",
      "\n",
      "R[write to console]: No standard deviations for wnn.umap\n",
      "\n",
      "R[write to console]: No JackStraw data for wnn.umap\n",
      "\n"
     ]
    }
   ],
   "source": [
    "%%R\n",
    "rna <- LoadH5Seurat(\"expressions_hvg_counts.h5seurat\")\n",
    "peaks <- LoadH5Seurat(\"peaks_binary.h5seurat\")\n",
    "\n",
    "bm <- rna\n",
    "bm[[\"ATAC\"]] <- CreateAssayObject(counts = peaks@assays$RNA@counts)\n",
    "\n",
    "rm(rna)\n",
    "rm(peaks)\n",
    "\n",
    "print('Preprocessing RNA...')\n",
    "DefaultAssay(bm) <- \"RNA\"\n",
    "bm <- SCTransform(bm, variable.features.n = 3999, verbose=FALSE)\n",
    "bm <- RunPCA(bm, verbose=FALSE)\n",
    "bm <- RunUMAP(bm, dims = 1:50, reduction.name = 'umap.rna', reduction.key = 'rnaUMAP_', verbose=FALSE)\n",
    "\n",
    "print('Preprocessing ATAC...')\n",
    "DefaultAssay(bm) <- \"ATAC\"\n",
    "bm <- RunTFIDF(bm, verbose=FALSE)\n",
    "bm <- FindTopFeatures(bm, min.cutoff = 'q0', verbose=FALSE)\n",
    "bm <- RunSVD(bm, verbose=FALSE)\n",
    "bm <- RunUMAP(bm, reduction = 'lsi', dims = 2:50, reduction.name = \"umap.atac\", \n",
    "              reduction.key = \"atacUMAP_\", verbose=FALSE)\n",
    "\n",
    "bm <- FindMultiModalNeighbors(bm, reduction.list = list(\"pca\", \"lsi\"), \n",
    "                              dims.list = list(1:50, 2:50), modality.weight.name = \"RNA.weight\")\n",
    "\n",
    "bm <- RunUMAP(bm, nn.name = \"weighted.nn\", reduction.name = \"wnn.umap\", reduction.key = \"wnnUMAP_\", verbose=FALSE)\n",
    "bm <- FindClusters(bm, graph.name = \"wsnn\", algorithm = 3, verbose = FALSE)\n",
    "\n",
    "SaveH5Seurat(bm, 'integrated_10xpbmc.h5seurat', overwrite = TRUE)"
   ]
  },
  {
   "cell_type": "code",
   "execution_count": 13,
   "metadata": {},
   "outputs": [
    {
     "name": "stderr",
     "output_type": "stream",
     "text": [
      "R[write to console]: Validating h5Seurat file\n",
      "\n",
      "R[write to console]: Adding scale.data from SCT as X\n",
      "\n",
      "R[write to console]: Transfering meta.features to var\n",
      "\n",
      "R[write to console]: Adding data from SCT as raw\n",
      "\n",
      "R[write to console]: Transfering meta.features to raw/var\n",
      "\n",
      "R[write to console]: Transfering meta.data to obs\n",
      "\n",
      "R[write to console]: Adding dimensional reduction information for pca\n",
      "\n",
      "R[write to console]: Adding feature loadings for pca\n",
      "\n",
      "R[write to console]: Adding dimensional reduction information for umap.rna\n",
      "\n",
      "R[write to console]: Adding dimensional reduction information for umap.atac (global)\n",
      "\n",
      "R[write to console]: Adding dimensional reduction information for wnn.umap (global)\n",
      "\n",
      "R[write to console]: Adding wsnn as neighbors\n",
      "\n"
     ]
    }
   ],
   "source": [
    "%%R\n",
    "# wsnn graph is stored in SCT assay\n",
    "Convert(\"integrated_10xpbmc.h5Seurat\", assay=\"SCT\", \"integrated_10xpbmc.h5ad\", overwrite=TRUE)"
   ]
  },
  {
   "cell_type": "markdown",
   "metadata": {},
   "source": [
    "## Visualize the result"
   ]
  },
  {
   "cell_type": "code",
   "execution_count": 14,
   "metadata": {},
   "outputs": [
    {
     "data": {
      "text/plain": [
       "AnnData object with n_obs × n_vars = 10000 × 3808\n",
       "    obs: 'cell_type', 'nCount_ATAC', 'nFeature_ATAC', 'nCount_SCT', 'nFeature_SCT', 'RNA.weight', 'wsnn_res.0.8', 'seurat_clusters'\n",
       "    var: 'sct.detection_rate', 'sct.gmean', 'sct.variance', 'sct.residual_mean', 'sct.residual_variance', 'sct.variable'\n",
       "    uns: 'neighbors'\n",
       "    obsm: 'X_pca', 'X_umap.atac', 'X_umap.rna', 'X_wnn.umap'\n",
       "    varm: 'PCs'\n",
       "    obsp: 'distances'"
      ]
     },
     "execution_count": 14,
     "metadata": {},
     "output_type": "execute_result"
    }
   ],
   "source": [
    "integrated = sc.read('integrated_10xpbmc.h5ad')\n",
    "integrated"
   ]
  },
  {
   "cell_type": "markdown",
   "metadata": {},
   "source": [
    "Cell types don't transfer properly due to a SeuratDisk bug so set them manually (https://github.com/mojaveazure/seurat-disk/issues/23)."
   ]
  },
  {
   "cell_type": "code",
   "execution_count": 15,
   "metadata": {},
   "outputs": [
    {
     "data": {
      "text/plain": [
       "0"
      ]
     },
     "execution_count": 15,
     "metadata": {},
     "output_type": "execute_result"
    }
   ],
   "source": [
    "# check indices\n",
    "np.sum(adata.obs['cell_type'].index != integrated.obs['cell_type'].index)"
   ]
  },
  {
   "cell_type": "code",
   "execution_count": 16,
   "metadata": {},
   "outputs": [],
   "source": [
    "integrated.obs['cell_type'] = adata.obs['cell_type']"
   ]
  },
  {
   "cell_type": "code",
   "execution_count": 17,
   "metadata": {},
   "outputs": [],
   "source": [
    "integrated.obs['seurat_clusters'] = integrated.obs['seurat_clusters'].astype('category')"
   ]
  },
  {
   "cell_type": "code",
   "execution_count": 18,
   "metadata": {},
   "outputs": [
    {
     "data": {
      "image/png": "[encoded data removed]",
      "text/plain": [
       "<Figure size 494.64x864 with 4 Axes>"
      ]
     },
     "metadata": {
      "needs_background": "light"
     },
     "output_type": "display_data"
    }
   ],
   "source": [
    "sc.pl.embedding(integrated, basis='wnn.umap', color=['cell_type', 'RNA.weight', 'seurat_clusters'], ncols=1)"
   ]
  },
  {
   "cell_type": "markdown",
   "metadata": {},
   "source": [
    "## Run metrics"
   ]
  },
  {
   "cell_type": "markdown",
   "metadata": {},
   "source": [
    "SeuratDisk writes the neighbors graph from the Seurat object to `.uns['neighbors']['distances']`, so change the location to `.uns['neighbors']['connectivities']`."
   ]
  },
  {
   "cell_type": "code",
   "execution_count": 20,
   "metadata": {},
   "outputs": [],
   "source": [
    "integrated.uns['neighbors']['connectivities'] = integrated.uns['neighbors']['distances']"
   ]
  },
  {
   "cell_type": "code",
   "execution_count": 21,
   "metadata": {},
   "outputs": [],
   "source": [
    "integrated.write('integrated_10xpbmc.h5ad')"
   ]
  },
  {
   "cell_type": "markdown",
   "metadata": {},
   "source": [
    "We only can run graph-based metrics. We don't run `isolated_label_f1` because it requires batch labels, but we treat datasets as batches, i.e. here we have one dataset = one batch, so don't use it."
   ]
  },
  {
   "cell_type": "code",
   "execution_count": 22,
   "metadata": {},
   "outputs": [
    {
     "name": "stdout",
     "output_type": "stream",
     "text": [
      "Clustering...\n",
      "Graph connectivity...\n",
      "NMI cluster/label...\n",
      "ARI cluster/label...\n"
     ]
    },
    {
     "data": {
      "text/html": [
       "<div>\n",
       "<style scoped>\n",
       "    .dataframe tbody tr th:only-of-type {\n",
       "        vertical-align: middle;\n",
       "    }\n",
       "\n",
       "    .dataframe tbody tr th {\n",
       "        vertical-align: top;\n",
       "    }\n",
       "\n",
       "    .dataframe thead th {\n",
       "        text-align: right;\n",
       "    }\n",
       "</style>\n",
       "<table border=\"1\" class=\"dataframe\">\n",
       "  <thead>\n",
       "    <tr style=\"text-align: right;\">\n",
       "      <th></th>\n",
       "      <th>score</th>\n",
       "    </tr>\n",
       "  </thead>\n",
       "  <tbody>\n",
       "    <tr>\n",
       "      <th>graph_conn</th>\n",
       "      <td>0.976630</td>\n",
       "    </tr>\n",
       "    <tr>\n",
       "      <th>NMI_cluster/label</th>\n",
       "      <td>0.786914</td>\n",
       "    </tr>\n",
       "    <tr>\n",
       "      <th>ARI_cluster/label</th>\n",
       "      <td>0.713924</td>\n",
       "    </tr>\n",
       "  </tbody>\n",
       "</table>\n",
       "</div>"
      ],
      "text/plain": [
       "                      score\n",
       "graph_conn         0.976630\n",
       "NMI_cluster/label  0.786914\n",
       "ARI_cluster/label  0.713924"
      ]
     },
     "execution_count": 22,
     "metadata": {},
     "output_type": "execute_result"
    }
   ],
   "source": [
    "metrics = mtg.metrics.metrics(\n",
    "    None, integrated,\n",
    "    batch_key=None,\n",
    "    label_key='cell_type',\n",
    "    method='seurat',\n",
    "    asw_label=False, \n",
    "    asw_batch=False,\n",
    "    pcr_batch=False, \n",
    "    graph_connectivity_batch=True, \n",
    "    nmi_=True, \n",
    "    ari_=True,\n",
    "    isolated_label_asw=False, \n",
    "    isolated_label_f1=False\n",
    ")\n",
    "metrics"
   ]
  },
  {
   "cell_type": "markdown",
   "metadata": {},
   "source": [
    "Finally, remove unnecessary files. "
   ]
  },
  {
   "cell_type": "code",
   "execution_count": 23,
   "metadata": {},
   "outputs": [],
   "source": [
    "!rm '10xpbmc10k-expressions.h5ad'\n",
    "!rm '10xpbmc10k-peaks.h5ad'\n",
    "!rm 'expressions_hvg_counts.h5ad'\n",
    "!rm 'peaks_binary.h5ad'\n",
    "!rm 'expressions_hvg_counts.h5seurat'\n",
    "!rm 'peaks_binary.h5seurat'\n",
    "!rm 'integrated_10xpbmc.h5Seurat'"
   ]
  },
  {
   "cell_type": "code",
   "execution_count": 24,
   "metadata": {},
   "outputs": [
    {
     "name": "stdout",
     "output_type": "stream",
     "text": [
      "R version 4.0.3 (2020-10-10)\n",
      "Platform: x86_64-apple-darwin17.0 (64-bit)\n",
      "Running under: macOS Big Sur 10.16\n",
      "\n",
      "Matrix products: default\n",
      "BLAS:   /Users/alitinet/opt/miniconda3/envs/scmulti/lib/python3.7/site-packages/numpy/.dylibs/libopenblas.0.dylib\n",
      "LAPACK: /Library/Frameworks/R.framework/Versions/4.0/Resources/lib/libRlapack.dylib\n",
      "\n",
      "locale:\n",
      "[1] C/UTF-8/C/C/C/C\n",
      "\n",
      "attached base packages:\n",
      "[1] tools     stats     graphics  grDevices utils     datasets  methods  \n",
      "[8] base     \n",
      "\n",
      "other attached packages:\n",
      "[1] Signac_1.1.0          SeuratDisk_0.0.0.9013 Seurat_3.9.9.9010    \n",
      "\n",
      "loaded via a namespace (and not attached):\n",
      "  [1] reticulate_1.18             tidyselect_1.1.0           \n",
      "  [3] RSQLite_2.2.1               AnnotationDbi_1.52.0       \n",
      "  [5] htmlwidgets_1.5.2           grid_4.0.3                 \n",
      "  [7] BiocParallel_1.24.1         Rtsne_0.15                 \n",
      "  [9] munsell_0.5.0               codetools_0.2-18           \n",
      " [11] ica_1.0-2                   future_1.20.1              \n",
      " [13] miniUI_0.1.1.1              withr_2.3.0                \n",
      " [15] colorspace_2.0-0            Biobase_2.50.0             \n",
      " [17] OrganismDbi_1.32.0          knitr_1.30                 \n",
      " [19] rstudioapi_0.13             stats4_4.0.3               \n",
      " [21] ROCR_1.0-11                 tensor_1.5                 \n",
      " [23] listenv_0.8.0               MatrixGenerics_1.2.0       \n",
      " [25] GenomeInfoDbData_1.2.4      polyclip_1.10-0            \n",
      " [27] farver_2.0.3                bit64_4.0.5                \n",
      " [29] parallelly_1.21.0           vctrs_0.3.6                \n",
      " [31] generics_0.1.0              xfun_0.19                  \n",
      " [33] biovizBase_1.38.0           BiocFileCache_1.14.0       \n",
      " [35] lsa_0.73.2                  ggseqlogo_0.1              \n",
      " [37] R6_2.5.0                    GenomeInfoDb_1.26.1        \n",
      " [39] rsvd_1.0.3                  hdf5r_1.3.3                \n",
      " [41] AnnotationFilter_1.14.0     bitops_1.0-6               \n",
      " [43] spatstat.utils_1.17-0       reshape_0.8.8              \n",
      " [45] DelayedArray_0.16.0         assertthat_0.2.1           \n",
      " [47] promises_1.1.1              scales_1.1.1               \n",
      " [49] nnet_7.3-14                 gtable_0.3.0               \n",
      " [51] globals_0.14.0              goftest_1.2-2              \n",
      " [53] ggbio_1.38.0                ensembldb_2.14.0           \n",
      " [55] rlang_0.4.10                RcppRoll_0.3.0             \n",
      " [57] splines_4.0.3               rtracklayer_1.50.0         \n",
      " [59] lazyeval_0.2.2              dichromat_2.0-0            \n",
      " [61] checkmate_2.0.0             BiocManager_1.30.10        \n",
      " [63] reshape2_1.4.4              abind_1.4-5                \n",
      " [65] GenomicFeatures_1.42.1      backports_1.2.0            \n",
      " [67] httpuv_1.5.4                Hmisc_4.4-2                \n",
      " [69] RBGL_1.66.0                 ggplot2_3.3.3              \n",
      " [71] ellipsis_0.3.1              RColorBrewer_1.1-2         \n",
      " [73] BiocGenerics_0.36.0         ggridges_0.5.2             \n",
      " [75] Rcpp_1.0.5                  plyr_1.8.6                 \n",
      " [77] base64enc_0.1-3             progress_1.2.2             \n",
      " [79] zlibbioc_1.36.0             purrr_0.3.4                \n",
      " [81] RCurl_1.98-1.2              prettyunits_1.1.1          \n",
      " [83] rpart_4.1-15                openssl_1.4.3              \n",
      " [85] deldir_0.2-3                pbapply_1.4-3              \n",
      " [87] cowplot_1.1.1               S4Vectors_0.28.1           \n",
      " [89] zoo_1.8-8                   SummarizedExperiment_1.20.0\n",
      " [91] ggrepel_0.9.0               cluster_2.1.0              \n",
      " [93] magrittr_2.0.1              RSpectra_0.16-0            \n",
      " [95] data.table_1.13.4           lmtest_0.9-38              \n",
      " [97] RANN_2.6.1                  SnowballC_0.7.0            \n",
      " [99] ProtGenerics_1.22.0         fitdistrplus_1.1-3         \n",
      "[101] matrixStats_0.57.0          hms_0.5.3                  \n",
      "[103] patchwork_1.1.0             mime_0.9                   \n",
      "[105] xtable_1.8-4                XML_3.99-0.5               \n",
      "[107] jpeg_0.1-8.1                IRanges_2.24.1             \n",
      "[109] gridExtra_2.3               compiler_4.0.3             \n",
      "[111] biomaRt_2.46.0              tibble_3.0.4               \n",
      "[113] KernSmooth_2.23-18          crayon_1.3.4               \n",
      "[115] htmltools_0.5.0             mgcv_1.8-33                \n",
      "[117] later_1.1.0.1               Formula_1.2-4              \n",
      "[119] tidyr_1.1.2                 DBI_1.1.0                  \n",
      "[121] tweenr_1.0.1                dbplyr_2.0.0               \n",
      "[123] MASS_7.3-53                 rappdirs_0.3.1             \n",
      "[125] Matrix_1.2-18               cli_2.2.0                  \n",
      "[127] parallel_4.0.3              igraph_1.2.6               \n",
      "[129] GenomicRanges_1.42.0        pkgconfig_2.0.3            \n",
      "[131] GenomicAlignments_1.26.0    foreign_0.8-80             \n",
      "[133] plotly_4.9.2.1              xml2_1.3.2                 \n",
      "[135] XVector_0.30.0              stringr_1.4.0              \n",
      "[137] VariantAnnotation_1.36.0    digest_0.6.27              \n",
      "[139] sctransform_0.3.1           RcppAnnoy_0.0.18           \n",
      "[141] graph_1.68.0                spatstat.data_1.5-2        \n",
      "[143] Biostrings_2.58.0           leiden_0.3.6               \n",
      "[145] fastmatch_1.1-0             htmlTable_2.1.0            \n",
      "[147] uwot_0.1.9.9000             curl_4.3                   \n",
      "[149] shiny_1.5.0                 Rsamtools_2.6.0            \n",
      "[151] lifecycle_0.2.0             nlme_3.1-150               \n",
      "[153] jsonlite_1.7.2              viridisLite_0.3.0          \n",
      "[155] askpass_1.1                 BSgenome_1.58.0            \n",
      "[157] fansi_0.4.1                 pillar_1.4.7               \n",
      "[159] lattice_0.20-41             GGally_2.0.0               \n",
      "[161] fastmap_1.0.1               httr_1.4.2                 \n",
      "[163] survival_3.2-7              glue_1.4.2                 \n",
      "[165] spatstat_1.64-1             png_0.1-7                  \n",
      "[167] bit_4.0.4                   ggforce_0.3.2              \n",
      "[169] stringi_1.5.3               blob_1.2.1                 \n",
      "[171] latticeExtra_0.6-29         memoise_1.1.0              \n",
      "[173] dplyr_1.0.2                 irlba_2.3.3                \n",
      "[175] future.apply_1.6.0         \n"
     ]
    }
   ],
   "source": [
    "%%R\n",
    "sessionInfo()"
   ]
  },
  {
   "cell_type": "code",
   "execution_count": null,
   "metadata": {},
   "outputs": [],
   "source": []
  }
 ],
 "metadata": {
  "kernelspec": {
   "display_name": "Python 3",
   "language": "python",
   "name": "python3"
  },
  "language_info": {
   "codemirror_mode": {
    "name": "ipython",
    "version": 3
   },
   "file_extension": ".py",
   "mimetype": "text/x-python",
   "name": "python",
   "nbconvert_exporter": "python",
   "pygments_lexer": "ipython3",
   "version": "3.7.9"
  }
 },
 "nbformat": 4,
 "nbformat_minor": 4
}
