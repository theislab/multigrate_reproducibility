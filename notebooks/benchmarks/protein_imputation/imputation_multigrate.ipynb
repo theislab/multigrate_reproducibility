{
 "cells": [
  {
   "cell_type": "code",
   "execution_count": 1,
   "metadata": {},
   "outputs": [],
   "source": [
    "import numpy as np\n",
    "import pandas as pd\n",
    "import scanpy as sc\n",
    "from matplotlib import pyplot as plt\n",
    "import multigrate as mtg"
   ]
  },
  {
   "cell_type": "markdown",
   "metadata": {},
   "source": [
    "# Load data"
   ]
  },
  {
   "cell_type": "code",
   "execution_count": 2,
   "metadata": {},
   "outputs": [
    {
     "data": {
      "text/plain": [
       "AnnData object with n_obs × n_vars = 10849 × 15792\n",
       "    obs: 'n_genes', 'percent_mito', 'n_counts', 'batch', 'labels'\n",
       "    var: 'encode', 'n_cells-0', 'highly_variable-0', 'hvg_encode-0', 'n_cells-1', 'highly_variable-1', 'hvg_encode-1'\n",
       "    obsm: 'protein_expression'"
      ]
     },
     "execution_count": 2,
     "metadata": {},
     "output_type": "execute_result"
    }
   ],
   "source": [
    "adata = sc.read('multigrate/data/10x-cite/10x-cite.h5ad')\n",
    "adata"
   ]
  },
  {
   "cell_type": "code",
   "execution_count": 3,
   "metadata": {},
   "outputs": [
    {
     "name": "stderr",
     "output_type": "stream",
     "text": [
      "/home/icb/anastasia.litinetskaya/miniconda3/envs/multigrate/lib/python3.7/site-packages/anndata/_core/anndata.py:1094: FutureWarning: is_categorical is deprecated and will be removed in a future version.  Use is_categorical_dtype instead\n",
      "  if not is_categorical(df_full[k]):\n"
     ]
    },
    {
     "data": {
      "text/plain": [
       "View of AnnData object with n_obs × n_vars = 6855 × 15792\n",
       "    obs: 'n_genes', 'percent_mito', 'n_counts', 'batch', 'labels'\n",
       "    var: 'encode', 'n_cells-0', 'highly_variable-0', 'hvg_encode-0', 'n_cells-1', 'highly_variable-1', 'hvg_encode-1'\n",
       "    obsm: 'protein_expression'"
      ]
     },
     "execution_count": 3,
     "metadata": {},
     "output_type": "execute_result"
    }
   ],
   "source": [
    "adata.obs.batch = adata.obs.batch.astype('category')\n",
    "ref = adata[adata.obs.batch == 0]\n",
    "ref"
   ]
  },
  {
   "cell_type": "code",
   "execution_count": 4,
   "metadata": {},
   "outputs": [],
   "source": [
    "cite = sc.AnnData(ref.obsm['protein_expression'])"
   ]
  },
  {
   "cell_type": "code",
   "execution_count": 5,
   "metadata": {
    "scrolled": true
   },
   "outputs": [
    {
     "data": {
      "text/plain": [
       "AnnData object with n_obs × n_vars = 3994 × 15792\n",
       "    obs: 'n_genes', 'percent_mito', 'n_counts', 'batch', 'labels'\n",
       "    var: 'encode', 'n_cells-0', 'highly_variable-0', 'hvg_encode-0', 'n_cells-1', 'highly_variable-1', 'hvg_encode-1'\n",
       "    obsm: 'protein_expression'"
      ]
     },
     "execution_count": 5,
     "metadata": {},
     "output_type": "execute_result"
    }
   ],
   "source": [
    "query = adata[adata.obs.batch == 1].copy()\n",
    "query"
   ]
  },
  {
   "cell_type": "code",
   "execution_count": 6,
   "metadata": {},
   "outputs": [
    {
     "data": {
      "text/plain": [
       "AnnData object with n_obs × n_vars = 3994 × 15792\n",
       "    obs: 'n_genes', 'percent_mito', 'n_counts', 'batch', 'labels', 'cell_type'\n",
       "    var: 'encode', 'n_cells-0', 'highly_variable-0', 'hvg_encode-0', 'n_cells-1', 'highly_variable-1', 'hvg_encode-1'\n",
       "    obsm: 'protein_expression'"
      ]
     },
     "execution_count": 6,
     "metadata": {},
     "output_type": "execute_result"
    }
   ],
   "source": [
    "query.obs['cell_type'] = query.obs['labels']\n",
    "query"
   ]
  },
  {
   "cell_type": "code",
   "execution_count": 7,
   "metadata": {},
   "outputs": [],
   "source": [
    "query_protein = sc.AnnData(query.obsm['protein_expression'])"
   ]
  },
  {
   "cell_type": "markdown",
   "metadata": {},
   "source": [
    "## Normalize ADT counts\n",
    "Taken from https://github.com/theislab/scanpy/issues/1208, also discussed in https://github.com/theislab/scanpy/pull/1117."
   ]
  },
  {
   "cell_type": "code",
   "execution_count": 8,
   "metadata": {},
   "outputs": [],
   "source": [
    "def clr_normalize_each_cell(adata, inplace=True):\n",
    "    \"\"\"Normalize count vector for each cell, i.e. for each row of .X\"\"\"\n",
    "\n",
    "    import numpy as np\n",
    "    import scipy\n",
    "\n",
    "    def seurat_clr(x):\n",
    "        # TODO: support sparseness\n",
    "        s = np.sum(np.log1p(x[x > 0]))\n",
    "        exp = np.exp(s / len(x))\n",
    "        return np.log1p(x / exp)\n",
    "\n",
    "    if not inplace:\n",
    "        adata = adata.copy()\n",
    "\n",
    "    # apply to dense or sparse matrix, along axis. returns dense matrix\n",
    "    adata.X = np.apply_along_axis(\n",
    "        seurat_clr, 1, (adata.X.A if scipy.sparse.issparse(adata.X) else adata.X)\n",
    "    )\n",
    "    return adata"
   ]
  },
  {
   "cell_type": "code",
   "execution_count": 9,
   "metadata": {},
   "outputs": [],
   "source": [
    "cite = clr_normalize_each_cell(cite)"
   ]
  },
  {
   "cell_type": "code",
   "execution_count": 10,
   "metadata": {},
   "outputs": [],
   "source": [
    "query_protein = clr_normalize_each_cell(query_protein)"
   ]
  },
  {
   "cell_type": "code",
   "execution_count": 11,
   "metadata": {},
   "outputs": [],
   "source": [
    "query_protein.obsm['protein'] = query_protein.X"
   ]
  },
  {
   "cell_type": "code",
   "execution_count": 12,
   "metadata": {},
   "outputs": [
    {
     "name": "stderr",
     "output_type": "stream",
     "text": [
      "Trying to set attribute `.obs` of view, copying.\n"
     ]
    }
   ],
   "source": [
    "ref.obs['cell_type'] = ref.obs['labels']"
   ]
  },
  {
   "cell_type": "code",
   "execution_count": 13,
   "metadata": {},
   "outputs": [
    {
     "data": {
      "text/plain": [
       "AnnData object with n_obs × n_vars = 6855 × 14\n",
       "    obs: 'n_genes', 'percent_mito', 'n_counts', 'batch', 'labels', 'cell_type'"
      ]
     },
     "execution_count": 13,
     "metadata": {},
     "output_type": "execute_result"
    }
   ],
   "source": [
    "cite.obs = ref.obs\n",
    "cite"
   ]
  },
  {
   "cell_type": "markdown",
   "metadata": {},
   "source": [
    "# Configure and train the model"
   ]
  },
  {
   "cell_type": "code",
   "execution_count": 14,
   "metadata": {},
   "outputs": [],
   "source": [
    "model = mtg.models.MultiVAE(\n",
    "    adatas=[[ref], [cite]],\n",
    "    names=[['RNA'], ['ADT']],\n",
    "    pair_groups=[[0], [0]],\n",
    "    condition=True,\n",
    "    z_dim=14,\n",
    "    h_dim=14,\n",
    "    hiddens=[[], []],\n",
    "    output_activations=['linear', 'relu'],\n",
    "    losses=['nb', 'mse'],\n",
    "    shared_hiddens=[],\n",
    "    adver_hiddens=[],\n",
    "    normalization='batch',\n",
    "    recon_coef=1,\n",
    "    kl_coef=1e-5,\n",
    "    integ_coef=1e-2, # don't have here as 1 dataset\n",
    "    cycle_coef=0,\n",
    "    adversarial=False,\n",
    "    dropout=0.2,\n",
    ")"
   ]
  },
  {
   "cell_type": "code",
   "execution_count": 15,
   "metadata": {},
   "outputs": [
    {
     "name": "stdout",
     "output_type": "stream",
     "text": [
      " |████████████████████| 100.0% iter=5000/5000, time=39.74(s), loss=0.6260, recon=0.6255, kl=59.3445, integ=0.0000, cycle=0.0000, val_loss=0.4602, val_recon=0.4597, val_kl=51.8539, val_integ=0.0000, val_cycle=0.0000"
     ]
    }
   ],
   "source": [
    "model.train(\n",
    "    n_iters=5000,\n",
    "    batch_size=64,\n",
    "    lr=3e-4,\n",
    "    val_split=0.1,\n",
    "    adv_iters=0,\n",
    "    kl_anneal_iters=2000,\n",
    "    validate_every=500,\n",
    "    verbose=1\n",
    ")"
   ]
  },
  {
   "cell_type": "code",
   "execution_count": 16,
   "metadata": {},
   "outputs": [
    {
     "data": {
      "image/png": "[encoded data removed]",
      "text/plain": [
       "<Figure size 1080x720 with 4 Axes>"
      ]
     },
     "metadata": {
      "needs_background": "light"
     },
     "output_type": "display_data"
    }
   ],
   "source": [
    "plt.figure(figsize=(15, 10));\n",
    "plt.subplot(221);\n",
    "plt.plot(model.history['iteration'], model.history['train_loss'], '.-', label='Train loss');\n",
    "plt.plot(model.history['iteration'], model.history['val_loss'], '.-', label='Val loss');\n",
    "plt.legend();\n",
    "\n",
    "plt.subplot(222);\n",
    "plt.plot(model.history['iteration'], model.history['train_recon'], '.-', label='Train recon loss');\n",
    "plt.plot(model.history['iteration'], model.history['val_recon'], '.-', label='Val recon loss');\n",
    "plt.legend();\n",
    "\n",
    "plt.subplot(223);\n",
    "plt.plot(model.history['iteration'], model.history['train_kl'], '.-', label='Train kl loss');\n",
    "plt.plot(model.history['iteration'], model.history['val_kl'], '.-', label='Val kl loss');\n",
    "plt.xlabel('#Iterations');\n",
    "plt.legend();\n",
    "\n",
    "plt.subplot(224);\n",
    "plt.plot(model.history['iteration'], model.history['train_cycle'], '.-', label='Train cycle loss');\n",
    "plt.plot(model.history['iteration'], model.history['val_cycle'], '.-', label='Val cycle loss');\n",
    "plt.xlabel('#Iterations');\n",
    "plt.legend();\n"
   ]
  },
  {
   "cell_type": "code",
   "execution_count": 17,
   "metadata": {},
   "outputs": [
    {
     "name": "stderr",
     "output_type": "stream",
     "text": [
      "/home/icb/anastasia.litinetskaya/miniconda3/envs/multigrate/lib/python3.7/site-packages/anndata/_core/anndata.py:1094: FutureWarning: is_categorical is deprecated and will be removed in a future version.  Use is_categorical_dtype instead\n",
      "  if not is_categorical(df_full[k]):\n"
     ]
    },
    {
     "data": {
      "text/plain": [
       "AnnData object with n_obs × n_vars = 3994 × 14\n",
       "    obs: 'modality', 'barcode', 'cell_type', 'batch'"
      ]
     },
     "execution_count": 17,
     "metadata": {},
     "output_type": "execute_result"
    }
   ],
   "source": [
    "z = model.impute([[query],[]],\n",
    "        names=[['query-RNA'], []],\n",
    "        pair_groups = [[1], []],\n",
    "        target_modality = 1,\n",
    "        batch_labels = [[0], []],\n",
    "        batch_size = 64)\n",
    "z"
   ]
  },
  {
   "cell_type": "code",
   "execution_count": 18,
   "metadata": {
    "scrolled": true
   },
   "outputs": [
    {
     "data": {
      "text/plain": [
       "AnnData object with n_obs × n_vars = 3994 × 14\n",
       "    obs: 'modality', 'barcode', 'cell_type', 'batch'\n",
       "    obsm: 'predicted_protein'"
      ]
     },
     "execution_count": 18,
     "metadata": {},
     "output_type": "execute_result"
    }
   ],
   "source": [
    "z.obsm['predicted_protein'] = z.X\n",
    "z"
   ]
  },
  {
   "cell_type": "code",
   "execution_count": 19,
   "metadata": {},
   "outputs": [
    {
     "data": {
      "text/plain": [
       "['CD3: Corr=0.763',\n",
       " 'CD4: Corr=0.12',\n",
       " 'CD8a: Corr=0.228',\n",
       " 'CD14: Corr=0.192',\n",
       " 'CD15: Corr=0.124',\n",
       " 'CD16: Corr=-0.22',\n",
       " 'CD56: Corr=-0.297',\n",
       " 'CD19: Corr=-0.039',\n",
       " 'CD25: Corr=-0.215',\n",
       " 'CD45RA: Corr=0.017',\n",
       " 'CD45RO: Corr=-0.258',\n",
       " 'PD-1: Corr=0.195',\n",
       " 'TIGIT: Corr=-0.156',\n",
       " 'CD127: Corr=0.669']"
      ]
     },
     "execution_count": 19,
     "metadata": {},
     "output_type": "execute_result"
    }
   ],
   "source": [
    "from scipy.stats import pearsonr\n",
    "\n",
    "protein_corrs = []\n",
    "for i, protein in enumerate(query_protein.var_names):\n",
    "    protein = protein[:-10]\n",
    "    protein_corrs.append(protein + ': Corr=' + str(np.round(pearsonr(z.obsm['predicted_protein'][:, i], query_protein.obsm['protein'][:, i])[0], 3)))\n",
    "    \n",
    "protein_corrs"
   ]
  },
  {
   "cell_type": "code",
   "execution_count": null,
   "metadata": {},
   "outputs": [],
   "source": []
  }
 ],
 "metadata": {
  "kernelspec": {
   "display_name": "Python 3",
   "language": "python",
   "name": "python3"
  },
  "language_info": {
   "codemirror_mode": {
    "name": "ipython",
    "version": 3
   },
   "file_extension": ".py",
   "mimetype": "text/x-python",
   "name": "python",
   "nbconvert_exporter": "python",
   "pygments_lexer": "ipython3",
   "version": "3.7.9"
  }
 },
 "nbformat": 4,
 "nbformat_minor": 4
}
